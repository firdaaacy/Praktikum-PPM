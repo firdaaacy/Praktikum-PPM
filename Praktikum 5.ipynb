{
  "nbformat": 4,
  "nbformat_minor": 0,
  "metadata": {
    "colab": {
      "name": "Praktikum 5 - Firda Adha Cahyanti - 195150201111037",
      "provenance": [],
      "collapsed_sections": [
        "sQAGcnK3MOS7",
        "lfi1uHIxPdDe",
        "PcWNZAZJW53r"
      ],
      "include_colab_link": true
    },
    "kernelspec": {
      "name": "python3",
      "display_name": "Python 3"
    }
  },
  "cells": [
    {
      "cell_type": "markdown",
      "metadata": {
        "id": "view-in-github",
        "colab_type": "text"
      },
      "source": [
        "<a href=\"https://colab.research.google.com/github/firdaaacy/Praktikum-PPM/blob/main/Praktikum%205.ipynb\" target=\"_parent\"><img src=\"https://colab.research.google.com/assets/colab-badge.svg\" alt=\"Open In Colab\"/></a>"
      ]
    },
    {
      "cell_type": "markdown",
      "metadata": {
        "id": "-qDsm6BnME2X"
      },
      "source": [
        "# Praktikum Pengantar Pembelajaran Mesin\n",
        "\n",
        "\n",
        "---\n",
        "## Bab 5. Klasifikasi Decision Tree\n"
      ]
    },
    {
      "cell_type": "markdown",
      "metadata": {
        "id": "sQAGcnK3MOS7"
      },
      "source": [
        "### 1) Import Data\n",
        "\n",
        "Praktikum kali ini menggunakan dataset [Car Evaluation Dataset](https://archive.ics.uci.edu/ml/datasets/Car+Evaluation) dari UCI Machine Learning Repository. Dataset ini telah digunakan pada praktikum sebelumnya. Detail fitur dapat Anda pelajari pada link yang tersedia. \n",
        "\n",
        "Unduh dataset yang akan digunakan pada praktikum kali ini. Anda dapat menggunakan aplikasi wget untuk mendowload dataset dan menyimpannya dalam Google Colab. Jalankan cell di bawah ini untuk mengunduh dataset"
      ]
    },
    {
      "cell_type": "code",
      "metadata": {
        "id": "FpjqVlzBMNLd",
        "colab": {
          "base_uri": "https://localhost:8080/"
        },
        "outputId": "ce86cca5-e7f9-4e5c-bc46-237e586eaf63"
      },
      "source": [
        "#mengunduh dataset yang akan digunakan\n",
        "!wget https://dataset-ppm.s3.amazonaws.com/car_sample.csv"
      ],
      "execution_count": 4,
      "outputs": [
        {
          "output_type": "stream",
          "text": [
            "--2021-07-09 13:58:02--  https://dataset-ppm.s3.amazonaws.com/car_sample.csv\n",
            "Resolving dataset-ppm.s3.amazonaws.com (dataset-ppm.s3.amazonaws.com)... 52.216.17.96\n",
            "Connecting to dataset-ppm.s3.amazonaws.com (dataset-ppm.s3.amazonaws.com)|52.216.17.96|:443... connected.\n",
            "HTTP request sent, awaiting response... 200 OK\n",
            "Length: 7226 (7.1K) [text/csv]\n",
            "Saving to: ‘car_sample.csv.1’\n",
            "\n",
            "\rcar_sample.csv.1      0%[                    ]       0  --.-KB/s               \rcar_sample.csv.1    100%[===================>]   7.06K  --.-KB/s    in 0s      \n",
            "\n",
            "2021-07-09 13:58:02 (122 MB/s) - ‘car_sample.csv.1’ saved [7226/7226]\n",
            "\n"
          ],
          "name": "stdout"
        }
      ]
    },
    {
      "cell_type": "markdown",
      "metadata": {
        "id": "SJy4t3lIOgGp"
      },
      "source": [
        "Setelah dataset berhasil diunduh, langkah berikutnya adalah membaca dataset dengan memanfaatkan fungsi **readcsv** dari library pandas. Lakukan pembacaan berkas csv ke dalam dataframe dengan nama **data** menggunakan fungsi **readcsv**. Jangan lupa untuk melakukan import library pandas terlebih dahulu\n"
      ]
    },
    {
      "cell_type": "code",
      "metadata": {
        "id": "mdhbxk_2OzbB"
      },
      "source": [
        "#melakukan import library yang akan digunakan\n",
        "import pandas as pd #pemanggilan library pandas dengan alias pemanggilan pd\n",
        "import numpy as np #pemanggilan library numpy dengan alias pemanggilan np\n",
        "\n",
        "#melakukan pembacaan dataset yang sudah diunduh menggunakan pandas\n",
        "data = pd.read_csv('car_sample.csv')"
      ],
      "execution_count": 5,
      "outputs": []
    },
    {
      "cell_type": "markdown",
      "metadata": {
        "id": "w6NfrIDTOK38"
      },
      "source": [
        "\n",
        "\n",
        "Cek isi dataset Anda dengan menggunakan perintah **head()**"
      ]
    },
    {
      "cell_type": "code",
      "metadata": {
        "id": "Uaiaj796OFH3",
        "colab": {
          "base_uri": "https://localhost:8080/",
          "height": 204
        },
        "outputId": "ac498c65-169f-455f-bc0a-bcc30700aabe"
      },
      "source": [
        "#mencetak 5 data teratas\n",
        "data.head()"
      ],
      "execution_count": 6,
      "outputs": [
        {
          "output_type": "execute_result",
          "data": {
            "text/html": [
              "<div>\n",
              "<style scoped>\n",
              "    .dataframe tbody tr th:only-of-type {\n",
              "        vertical-align: middle;\n",
              "    }\n",
              "\n",
              "    .dataframe tbody tr th {\n",
              "        vertical-align: top;\n",
              "    }\n",
              "\n",
              "    .dataframe thead th {\n",
              "        text-align: right;\n",
              "    }\n",
              "</style>\n",
              "<table border=\"1\" class=\"dataframe\">\n",
              "  <thead>\n",
              "    <tr style=\"text-align: right;\">\n",
              "      <th></th>\n",
              "      <th>buying</th>\n",
              "      <th>maint</th>\n",
              "      <th>lug_boot</th>\n",
              "      <th>safety</th>\n",
              "      <th>class</th>\n",
              "    </tr>\n",
              "  </thead>\n",
              "  <tbody>\n",
              "    <tr>\n",
              "      <th>0</th>\n",
              "      <td>vhigh</td>\n",
              "      <td>low</td>\n",
              "      <td>small</td>\n",
              "      <td>high</td>\n",
              "      <td>acc</td>\n",
              "    </tr>\n",
              "    <tr>\n",
              "      <th>1</th>\n",
              "      <td>vhigh</td>\n",
              "      <td>low</td>\n",
              "      <td>big</td>\n",
              "      <td>high</td>\n",
              "      <td>acc</td>\n",
              "    </tr>\n",
              "    <tr>\n",
              "      <th>2</th>\n",
              "      <td>vhigh</td>\n",
              "      <td>med</td>\n",
              "      <td>big</td>\n",
              "      <td>med</td>\n",
              "      <td>acc</td>\n",
              "    </tr>\n",
              "    <tr>\n",
              "      <th>3</th>\n",
              "      <td>med</td>\n",
              "      <td>med</td>\n",
              "      <td>med</td>\n",
              "      <td>high</td>\n",
              "      <td>acc</td>\n",
              "    </tr>\n",
              "    <tr>\n",
              "      <th>4</th>\n",
              "      <td>low</td>\n",
              "      <td>high</td>\n",
              "      <td>med</td>\n",
              "      <td>high</td>\n",
              "      <td>acc</td>\n",
              "    </tr>\n",
              "  </tbody>\n",
              "</table>\n",
              "</div>"
            ],
            "text/plain": [
              "  buying maint lug_boot safety class\n",
              "0  vhigh   low    small   high   acc\n",
              "1  vhigh   low      big   high   acc\n",
              "2  vhigh   med      big    med   acc\n",
              "3    med   med      med   high   acc\n",
              "4    low  high      med   high   acc"
            ]
          },
          "metadata": {
            "tags": []
          },
          "execution_count": 6
        }
      ]
    },
    {
      "cell_type": "markdown",
      "metadata": {
        "id": "lfi1uHIxPdDe"
      },
      "source": [
        "## 2) Membagi data menjadi data latih dan data uji\n",
        "\n",
        "Metode pembelajaran mesin memerlukan dua jenis data :\n",
        "\n",
        "\n",
        "1.   Data latih : Digunakan untuk proses training metode klasifikasi\n",
        "2.   Data uji : Digunakan untuk proses evaluasi metode klasifikasi\n",
        "\n",
        "Data uji dan data latih perlu dibuat terpisah (mutualy exclusive) agar hasil evaluasi lebih akurat.\n",
        "\n",
        "Data uji dan data latih dapat dibuat dengan cara membagi dataset dengan rasio tertentu, misalnya 80% data latih dan 20% data uji.\n",
        "\n",
        "Library Scikit-learn memiliki fungsi [train_test_split](https://scikit-learn.org/stable/modules/generated/sklearn.model_selection.train_test_split.html) pada modul **model_selection** untuk membagi dataset menjadi data latih dan data uji. Bagilah dataset anda menjadi dua, yaitu **data_latih** dan **data_uji**. Agar pengacakan data dilakukan secara konstan, parameter **random_state** diisi dengan nilai integer tertentu, pada praktikum ini diset 101. Kemudian, nilai indeks pada data latih dan data uji diatur ulang agar berurutan nilainya\n"
      ]
    },
    {
      "cell_type": "code",
      "metadata": {
        "id": "jJjfXgfmPTlU",
        "colab": {
          "base_uri": "https://localhost:8080/",
          "height": 0
        },
        "outputId": "ed5d72f0-a442-46a1-d94b-141da9acdbcd"
      },
      "source": [
        "#melakukan import sebagian library yang akan digunakan\n",
        "#pada kasus  ini hanya mengimport train_test_split dari modul sklearn.model_selection\n",
        "from sklearn.model_selection import train_test_split\n",
        "#melakukan pembagian dataset dengan pembagian 20% data uji dan 80% data latih dengan nilai random state 101 agar pengacakan konstan\n",
        "data_latih, data_uji = train_test_split(data, test_size = 0.2, random_state = 101)\n",
        "#mengatur ulang index data latih\n",
        "data_latih.reset_index(drop=True)"
      ],
      "execution_count": 7,
      "outputs": [
        {
          "output_type": "execute_result",
          "data": {
            "text/html": [
              "<div>\n",
              "<style scoped>\n",
              "    .dataframe tbody tr th:only-of-type {\n",
              "        vertical-align: middle;\n",
              "    }\n",
              "\n",
              "    .dataframe tbody tr th {\n",
              "        vertical-align: top;\n",
              "    }\n",
              "\n",
              "    .dataframe thead th {\n",
              "        text-align: right;\n",
              "    }\n",
              "</style>\n",
              "<table border=\"1\" class=\"dataframe\">\n",
              "  <thead>\n",
              "    <tr style=\"text-align: right;\">\n",
              "      <th></th>\n",
              "      <th>buying</th>\n",
              "      <th>maint</th>\n",
              "      <th>lug_boot</th>\n",
              "      <th>safety</th>\n",
              "      <th>class</th>\n",
              "    </tr>\n",
              "  </thead>\n",
              "  <tbody>\n",
              "    <tr>\n",
              "      <th>0</th>\n",
              "      <td>low</td>\n",
              "      <td>high</td>\n",
              "      <td>small</td>\n",
              "      <td>high</td>\n",
              "      <td>acc</td>\n",
              "    </tr>\n",
              "    <tr>\n",
              "      <th>1</th>\n",
              "      <td>med</td>\n",
              "      <td>low</td>\n",
              "      <td>big</td>\n",
              "      <td>high</td>\n",
              "      <td>vgood</td>\n",
              "    </tr>\n",
              "    <tr>\n",
              "      <th>2</th>\n",
              "      <td>low</td>\n",
              "      <td>low</td>\n",
              "      <td>small</td>\n",
              "      <td>high</td>\n",
              "      <td>good</td>\n",
              "    </tr>\n",
              "    <tr>\n",
              "      <th>3</th>\n",
              "      <td>high</td>\n",
              "      <td>high</td>\n",
              "      <td>med</td>\n",
              "      <td>high</td>\n",
              "      <td>unacc</td>\n",
              "    </tr>\n",
              "    <tr>\n",
              "      <th>4</th>\n",
              "      <td>high</td>\n",
              "      <td>low</td>\n",
              "      <td>small</td>\n",
              "      <td>high</td>\n",
              "      <td>unacc</td>\n",
              "    </tr>\n",
              "    <tr>\n",
              "      <th>...</th>\n",
              "      <td>...</td>\n",
              "      <td>...</td>\n",
              "      <td>...</td>\n",
              "      <td>...</td>\n",
              "      <td>...</td>\n",
              "    </tr>\n",
              "    <tr>\n",
              "      <th>203</th>\n",
              "      <td>med</td>\n",
              "      <td>med</td>\n",
              "      <td>med</td>\n",
              "      <td>high</td>\n",
              "      <td>vgood</td>\n",
              "    </tr>\n",
              "    <tr>\n",
              "      <th>204</th>\n",
              "      <td>low</td>\n",
              "      <td>low</td>\n",
              "      <td>med</td>\n",
              "      <td>med</td>\n",
              "      <td>good</td>\n",
              "    </tr>\n",
              "    <tr>\n",
              "      <th>205</th>\n",
              "      <td>low</td>\n",
              "      <td>med</td>\n",
              "      <td>med</td>\n",
              "      <td>med</td>\n",
              "      <td>good</td>\n",
              "    </tr>\n",
              "    <tr>\n",
              "      <th>206</th>\n",
              "      <td>high</td>\n",
              "      <td>high</td>\n",
              "      <td>med</td>\n",
              "      <td>high</td>\n",
              "      <td>acc</td>\n",
              "    </tr>\n",
              "    <tr>\n",
              "      <th>207</th>\n",
              "      <td>vhigh</td>\n",
              "      <td>low</td>\n",
              "      <td>big</td>\n",
              "      <td>high</td>\n",
              "      <td>acc</td>\n",
              "    </tr>\n",
              "  </tbody>\n",
              "</table>\n",
              "<p>208 rows × 5 columns</p>\n",
              "</div>"
            ],
            "text/plain": [
              "    buying maint lug_boot safety  class\n",
              "0      low  high    small   high    acc\n",
              "1      med   low      big   high  vgood\n",
              "2      low   low    small   high   good\n",
              "3     high  high      med   high  unacc\n",
              "4     high   low    small   high  unacc\n",
              "..     ...   ...      ...    ...    ...\n",
              "203    med   med      med   high  vgood\n",
              "204    low   low      med    med   good\n",
              "205    low   med      med    med   good\n",
              "206   high  high      med   high    acc\n",
              "207  vhigh   low      big   high    acc\n",
              "\n",
              "[208 rows x 5 columns]"
            ]
          },
          "metadata": {
            "tags": []
          },
          "execution_count": 7
        }
      ]
    },
    {
      "cell_type": "code",
      "metadata": {
        "colab": {
          "base_uri": "https://localhost:8080/",
          "height": 0
        },
        "id": "VRH7GPRh2GpO",
        "outputId": "4a74a399-19dd-4cf8-96f4-345decb67e4e"
      },
      "source": [
        "#mengatur ulang index data uji\n",
        "data_uji.reset_index(drop=True)"
      ],
      "execution_count": 8,
      "outputs": [
        {
          "output_type": "execute_result",
          "data": {
            "text/html": [
              "<div>\n",
              "<style scoped>\n",
              "    .dataframe tbody tr th:only-of-type {\n",
              "        vertical-align: middle;\n",
              "    }\n",
              "\n",
              "    .dataframe tbody tr th {\n",
              "        vertical-align: top;\n",
              "    }\n",
              "\n",
              "    .dataframe thead th {\n",
              "        text-align: right;\n",
              "    }\n",
              "</style>\n",
              "<table border=\"1\" class=\"dataframe\">\n",
              "  <thead>\n",
              "    <tr style=\"text-align: right;\">\n",
              "      <th></th>\n",
              "      <th>buying</th>\n",
              "      <th>maint</th>\n",
              "      <th>lug_boot</th>\n",
              "      <th>safety</th>\n",
              "      <th>class</th>\n",
              "    </tr>\n",
              "  </thead>\n",
              "  <tbody>\n",
              "    <tr>\n",
              "      <th>0</th>\n",
              "      <td>vhigh</td>\n",
              "      <td>med</td>\n",
              "      <td>big</td>\n",
              "      <td>med</td>\n",
              "      <td>acc</td>\n",
              "    </tr>\n",
              "    <tr>\n",
              "      <th>1</th>\n",
              "      <td>high</td>\n",
              "      <td>high</td>\n",
              "      <td>med</td>\n",
              "      <td>high</td>\n",
              "      <td>acc</td>\n",
              "    </tr>\n",
              "    <tr>\n",
              "      <th>2</th>\n",
              "      <td>med</td>\n",
              "      <td>low</td>\n",
              "      <td>big</td>\n",
              "      <td>med</td>\n",
              "      <td>good</td>\n",
              "    </tr>\n",
              "    <tr>\n",
              "      <th>3</th>\n",
              "      <td>low</td>\n",
              "      <td>med</td>\n",
              "      <td>small</td>\n",
              "      <td>high</td>\n",
              "      <td>good</td>\n",
              "    </tr>\n",
              "    <tr>\n",
              "      <th>4</th>\n",
              "      <td>med</td>\n",
              "      <td>low</td>\n",
              "      <td>big</td>\n",
              "      <td>high</td>\n",
              "      <td>vgood</td>\n",
              "    </tr>\n",
              "    <tr>\n",
              "      <th>5</th>\n",
              "      <td>low</td>\n",
              "      <td>high</td>\n",
              "      <td>big</td>\n",
              "      <td>high</td>\n",
              "      <td>vgood</td>\n",
              "    </tr>\n",
              "    <tr>\n",
              "      <th>6</th>\n",
              "      <td>vhigh</td>\n",
              "      <td>low</td>\n",
              "      <td>med</td>\n",
              "      <td>high</td>\n",
              "      <td>acc</td>\n",
              "    </tr>\n",
              "    <tr>\n",
              "      <th>7</th>\n",
              "      <td>vhigh</td>\n",
              "      <td>med</td>\n",
              "      <td>med</td>\n",
              "      <td>high</td>\n",
              "      <td>unacc</td>\n",
              "    </tr>\n",
              "    <tr>\n",
              "      <th>8</th>\n",
              "      <td>low</td>\n",
              "      <td>med</td>\n",
              "      <td>med</td>\n",
              "      <td>high</td>\n",
              "      <td>vgood</td>\n",
              "    </tr>\n",
              "    <tr>\n",
              "      <th>9</th>\n",
              "      <td>high</td>\n",
              "      <td>med</td>\n",
              "      <td>big</td>\n",
              "      <td>med</td>\n",
              "      <td>acc</td>\n",
              "    </tr>\n",
              "    <tr>\n",
              "      <th>10</th>\n",
              "      <td>low</td>\n",
              "      <td>med</td>\n",
              "      <td>med</td>\n",
              "      <td>high</td>\n",
              "      <td>good</td>\n",
              "    </tr>\n",
              "    <tr>\n",
              "      <th>11</th>\n",
              "      <td>med</td>\n",
              "      <td>low</td>\n",
              "      <td>big</td>\n",
              "      <td>med</td>\n",
              "      <td>unacc</td>\n",
              "    </tr>\n",
              "    <tr>\n",
              "      <th>12</th>\n",
              "      <td>low</td>\n",
              "      <td>med</td>\n",
              "      <td>small</td>\n",
              "      <td>high</td>\n",
              "      <td>good</td>\n",
              "    </tr>\n",
              "    <tr>\n",
              "      <th>13</th>\n",
              "      <td>med</td>\n",
              "      <td>low</td>\n",
              "      <td>med</td>\n",
              "      <td>high</td>\n",
              "      <td>vgood</td>\n",
              "    </tr>\n",
              "    <tr>\n",
              "      <th>14</th>\n",
              "      <td>high</td>\n",
              "      <td>low</td>\n",
              "      <td>small</td>\n",
              "      <td>med</td>\n",
              "      <td>unacc</td>\n",
              "    </tr>\n",
              "    <tr>\n",
              "      <th>15</th>\n",
              "      <td>med</td>\n",
              "      <td>low</td>\n",
              "      <td>big</td>\n",
              "      <td>med</td>\n",
              "      <td>good</td>\n",
              "    </tr>\n",
              "    <tr>\n",
              "      <th>16</th>\n",
              "      <td>med</td>\n",
              "      <td>low</td>\n",
              "      <td>small</td>\n",
              "      <td>high</td>\n",
              "      <td>good</td>\n",
              "    </tr>\n",
              "    <tr>\n",
              "      <th>17</th>\n",
              "      <td>high</td>\n",
              "      <td>low</td>\n",
              "      <td>big</td>\n",
              "      <td>high</td>\n",
              "      <td>acc</td>\n",
              "    </tr>\n",
              "    <tr>\n",
              "      <th>18</th>\n",
              "      <td>vhigh</td>\n",
              "      <td>high</td>\n",
              "      <td>med</td>\n",
              "      <td>low</td>\n",
              "      <td>unacc</td>\n",
              "    </tr>\n",
              "    <tr>\n",
              "      <th>19</th>\n",
              "      <td>low</td>\n",
              "      <td>vhigh</td>\n",
              "      <td>big</td>\n",
              "      <td>low</td>\n",
              "      <td>unacc</td>\n",
              "    </tr>\n",
              "    <tr>\n",
              "      <th>20</th>\n",
              "      <td>med</td>\n",
              "      <td>med</td>\n",
              "      <td>big</td>\n",
              "      <td>high</td>\n",
              "      <td>vgood</td>\n",
              "    </tr>\n",
              "    <tr>\n",
              "      <th>21</th>\n",
              "      <td>vhigh</td>\n",
              "      <td>low</td>\n",
              "      <td>med</td>\n",
              "      <td>high</td>\n",
              "      <td>acc</td>\n",
              "    </tr>\n",
              "    <tr>\n",
              "      <th>22</th>\n",
              "      <td>low</td>\n",
              "      <td>med</td>\n",
              "      <td>big</td>\n",
              "      <td>high</td>\n",
              "      <td>vgood</td>\n",
              "    </tr>\n",
              "    <tr>\n",
              "      <th>23</th>\n",
              "      <td>med</td>\n",
              "      <td>low</td>\n",
              "      <td>med</td>\n",
              "      <td>med</td>\n",
              "      <td>good</td>\n",
              "    </tr>\n",
              "    <tr>\n",
              "      <th>24</th>\n",
              "      <td>low</td>\n",
              "      <td>high</td>\n",
              "      <td>big</td>\n",
              "      <td>low</td>\n",
              "      <td>unacc</td>\n",
              "    </tr>\n",
              "    <tr>\n",
              "      <th>25</th>\n",
              "      <td>vhigh</td>\n",
              "      <td>vhigh</td>\n",
              "      <td>med</td>\n",
              "      <td>med</td>\n",
              "      <td>unacc</td>\n",
              "    </tr>\n",
              "    <tr>\n",
              "      <th>26</th>\n",
              "      <td>low</td>\n",
              "      <td>vhigh</td>\n",
              "      <td>med</td>\n",
              "      <td>high</td>\n",
              "      <td>acc</td>\n",
              "    </tr>\n",
              "    <tr>\n",
              "      <th>27</th>\n",
              "      <td>low</td>\n",
              "      <td>high</td>\n",
              "      <td>med</td>\n",
              "      <td>high</td>\n",
              "      <td>acc</td>\n",
              "    </tr>\n",
              "    <tr>\n",
              "      <th>28</th>\n",
              "      <td>med</td>\n",
              "      <td>low</td>\n",
              "      <td>small</td>\n",
              "      <td>high</td>\n",
              "      <td>good</td>\n",
              "    </tr>\n",
              "    <tr>\n",
              "      <th>29</th>\n",
              "      <td>low</td>\n",
              "      <td>med</td>\n",
              "      <td>big</td>\n",
              "      <td>high</td>\n",
              "      <td>vgood</td>\n",
              "    </tr>\n",
              "    <tr>\n",
              "      <th>30</th>\n",
              "      <td>low</td>\n",
              "      <td>med</td>\n",
              "      <td>med</td>\n",
              "      <td>high</td>\n",
              "      <td>good</td>\n",
              "    </tr>\n",
              "    <tr>\n",
              "      <th>31</th>\n",
              "      <td>low</td>\n",
              "      <td>med</td>\n",
              "      <td>big</td>\n",
              "      <td>med</td>\n",
              "      <td>good</td>\n",
              "    </tr>\n",
              "    <tr>\n",
              "      <th>32</th>\n",
              "      <td>med</td>\n",
              "      <td>low</td>\n",
              "      <td>big</td>\n",
              "      <td>med</td>\n",
              "      <td>good</td>\n",
              "    </tr>\n",
              "    <tr>\n",
              "      <th>33</th>\n",
              "      <td>low</td>\n",
              "      <td>med</td>\n",
              "      <td>small</td>\n",
              "      <td>high</td>\n",
              "      <td>good</td>\n",
              "    </tr>\n",
              "    <tr>\n",
              "      <th>34</th>\n",
              "      <td>high</td>\n",
              "      <td>high</td>\n",
              "      <td>small</td>\n",
              "      <td>med</td>\n",
              "      <td>unacc</td>\n",
              "    </tr>\n",
              "    <tr>\n",
              "      <th>35</th>\n",
              "      <td>med</td>\n",
              "      <td>med</td>\n",
              "      <td>big</td>\n",
              "      <td>high</td>\n",
              "      <td>vgood</td>\n",
              "    </tr>\n",
              "    <tr>\n",
              "      <th>36</th>\n",
              "      <td>vhigh</td>\n",
              "      <td>med</td>\n",
              "      <td>small</td>\n",
              "      <td>med</td>\n",
              "      <td>unacc</td>\n",
              "    </tr>\n",
              "    <tr>\n",
              "      <th>37</th>\n",
              "      <td>med</td>\n",
              "      <td>low</td>\n",
              "      <td>big</td>\n",
              "      <td>med</td>\n",
              "      <td>good</td>\n",
              "    </tr>\n",
              "    <tr>\n",
              "      <th>38</th>\n",
              "      <td>vhigh</td>\n",
              "      <td>vhigh</td>\n",
              "      <td>med</td>\n",
              "      <td>high</td>\n",
              "      <td>unacc</td>\n",
              "    </tr>\n",
              "    <tr>\n",
              "      <th>39</th>\n",
              "      <td>high</td>\n",
              "      <td>med</td>\n",
              "      <td>small</td>\n",
              "      <td>high</td>\n",
              "      <td>unacc</td>\n",
              "    </tr>\n",
              "    <tr>\n",
              "      <th>40</th>\n",
              "      <td>low</td>\n",
              "      <td>vhigh</td>\n",
              "      <td>med</td>\n",
              "      <td>low</td>\n",
              "      <td>unacc</td>\n",
              "    </tr>\n",
              "    <tr>\n",
              "      <th>41</th>\n",
              "      <td>low</td>\n",
              "      <td>low</td>\n",
              "      <td>big</td>\n",
              "      <td>med</td>\n",
              "      <td>good</td>\n",
              "    </tr>\n",
              "    <tr>\n",
              "      <th>42</th>\n",
              "      <td>low</td>\n",
              "      <td>med</td>\n",
              "      <td>big</td>\n",
              "      <td>med</td>\n",
              "      <td>good</td>\n",
              "    </tr>\n",
              "    <tr>\n",
              "      <th>43</th>\n",
              "      <td>med</td>\n",
              "      <td>med</td>\n",
              "      <td>med</td>\n",
              "      <td>high</td>\n",
              "      <td>vgood</td>\n",
              "    </tr>\n",
              "    <tr>\n",
              "      <th>44</th>\n",
              "      <td>med</td>\n",
              "      <td>high</td>\n",
              "      <td>med</td>\n",
              "      <td>high</td>\n",
              "      <td>acc</td>\n",
              "    </tr>\n",
              "    <tr>\n",
              "      <th>45</th>\n",
              "      <td>low</td>\n",
              "      <td>low</td>\n",
              "      <td>big</td>\n",
              "      <td>high</td>\n",
              "      <td>vgood</td>\n",
              "    </tr>\n",
              "    <tr>\n",
              "      <th>46</th>\n",
              "      <td>low</td>\n",
              "      <td>med</td>\n",
              "      <td>big</td>\n",
              "      <td>med</td>\n",
              "      <td>good</td>\n",
              "    </tr>\n",
              "    <tr>\n",
              "      <th>47</th>\n",
              "      <td>med</td>\n",
              "      <td>med</td>\n",
              "      <td>med</td>\n",
              "      <td>med</td>\n",
              "      <td>acc</td>\n",
              "    </tr>\n",
              "    <tr>\n",
              "      <th>48</th>\n",
              "      <td>low</td>\n",
              "      <td>med</td>\n",
              "      <td>big</td>\n",
              "      <td>high</td>\n",
              "      <td>vgood</td>\n",
              "    </tr>\n",
              "    <tr>\n",
              "      <th>49</th>\n",
              "      <td>med</td>\n",
              "      <td>med</td>\n",
              "      <td>med</td>\n",
              "      <td>high</td>\n",
              "      <td>vgood</td>\n",
              "    </tr>\n",
              "    <tr>\n",
              "      <th>50</th>\n",
              "      <td>low</td>\n",
              "      <td>med</td>\n",
              "      <td>big</td>\n",
              "      <td>high</td>\n",
              "      <td>vgood</td>\n",
              "    </tr>\n",
              "    <tr>\n",
              "      <th>51</th>\n",
              "      <td>low</td>\n",
              "      <td>high</td>\n",
              "      <td>big</td>\n",
              "      <td>high</td>\n",
              "      <td>vgood</td>\n",
              "    </tr>\n",
              "  </tbody>\n",
              "</table>\n",
              "</div>"
            ],
            "text/plain": [
              "   buying  maint lug_boot safety  class\n",
              "0   vhigh    med      big    med    acc\n",
              "1    high   high      med   high    acc\n",
              "2     med    low      big    med   good\n",
              "3     low    med    small   high   good\n",
              "4     med    low      big   high  vgood\n",
              "5     low   high      big   high  vgood\n",
              "6   vhigh    low      med   high    acc\n",
              "7   vhigh    med      med   high  unacc\n",
              "8     low    med      med   high  vgood\n",
              "9    high    med      big    med    acc\n",
              "10    low    med      med   high   good\n",
              "11    med    low      big    med  unacc\n",
              "12    low    med    small   high   good\n",
              "13    med    low      med   high  vgood\n",
              "14   high    low    small    med  unacc\n",
              "15    med    low      big    med   good\n",
              "16    med    low    small   high   good\n",
              "17   high    low      big   high    acc\n",
              "18  vhigh   high      med    low  unacc\n",
              "19    low  vhigh      big    low  unacc\n",
              "20    med    med      big   high  vgood\n",
              "21  vhigh    low      med   high    acc\n",
              "22    low    med      big   high  vgood\n",
              "23    med    low      med    med   good\n",
              "24    low   high      big    low  unacc\n",
              "25  vhigh  vhigh      med    med  unacc\n",
              "26    low  vhigh      med   high    acc\n",
              "27    low   high      med   high    acc\n",
              "28    med    low    small   high   good\n",
              "29    low    med      big   high  vgood\n",
              "30    low    med      med   high   good\n",
              "31    low    med      big    med   good\n",
              "32    med    low      big    med   good\n",
              "33    low    med    small   high   good\n",
              "34   high   high    small    med  unacc\n",
              "35    med    med      big   high  vgood\n",
              "36  vhigh    med    small    med  unacc\n",
              "37    med    low      big    med   good\n",
              "38  vhigh  vhigh      med   high  unacc\n",
              "39   high    med    small   high  unacc\n",
              "40    low  vhigh      med    low  unacc\n",
              "41    low    low      big    med   good\n",
              "42    low    med      big    med   good\n",
              "43    med    med      med   high  vgood\n",
              "44    med   high      med   high    acc\n",
              "45    low    low      big   high  vgood\n",
              "46    low    med      big    med   good\n",
              "47    med    med      med    med    acc\n",
              "48    low    med      big   high  vgood\n",
              "49    med    med      med   high  vgood\n",
              "50    low    med      big   high  vgood\n",
              "51    low   high      big   high  vgood"
            ]
          },
          "metadata": {
            "tags": []
          },
          "execution_count": 8
        }
      ]
    },
    {
      "cell_type": "markdown",
      "metadata": {
        "id": "tBhcsUDYfw2q"
      },
      "source": [
        "Tampilkan banyaknya data pada **data_latih** dan **data_uji**. Seharusnya **data_latih** terdiri dari 208 data, dan **data_uji** terdiri dari 52 data"
      ]
    },
    {
      "cell_type": "code",
      "metadata": {
        "id": "6OtySD4efmmQ",
        "colab": {
          "base_uri": "https://localhost:8080/"
        },
        "outputId": "03359261-3c25-4a3c-dd36-51dd80eccfac"
      },
      "source": [
        "#menampilkan ukuran data uji\n",
        "print(data_uji.shape[0])\n",
        "#menampilkan ukuran data latih\n",
        "print(data_latih.shape[0])"
      ],
      "execution_count": 9,
      "outputs": [
        {
          "output_type": "stream",
          "text": [
            "52\n",
            "208\n"
          ],
          "name": "stdout"
        }
      ]
    },
    {
      "cell_type": "markdown",
      "metadata": {
        "id": "xm_dJNeMgl9u"
      },
      "source": [
        "## 3) Menghitung Gini\n",
        "\n",
        "Nilai Gini merupakan salah satu kriteria penentu variabel apa yang akan digunakan untuk membentuk cabang pada decision tree. Variabel dengan nilai Gini terbesar akan digunakan sebagai pembentukan cabang\n",
        "\n",
        "Buatlah fungsi bernama **hitung_gini** yang berfungsi menghitung nilai Gini dari suatu nilai pada sebuah variabel"
      ]
    },
    {
      "cell_type": "code",
      "metadata": {
        "id": "QNEYOTLsfqld"
      },
      "source": [
        "#menghitung nilai gini \n",
        "def hitung_gini(kolom_kelas):\n",
        "  #menyimpan nilai kolom_kelas dalam variabel elemen dengan menghilangkan duplikat\n",
        "  #menyimpan banyak data\n",
        "  elemen, banyak = np.unique(kolom_kelas, return_counts=True)\n",
        "  #mengitung nilai gini \n",
        "  nilai_gini = 1-np.sum([(banyak[i]/np.sum(banyak))**2 for i in range(len(elemen))])\n",
        "  #mengembalikan nilai_gini\n",
        "  return nilai_gini"
      ],
      "execution_count": 10,
      "outputs": []
    },
    {
      "cell_type": "markdown",
      "metadata": {
        "id": "KaOXTHEmuNcL"
      },
      "source": [
        "Buatlah fungsi bernama **gini_split** yang digunakan untuk menghitung nilai Gini keseluruhan dari sebuah variabel."
      ]
    },
    {
      "cell_type": "code",
      "metadata": {
        "id": "Hxfrr832h61_"
      },
      "source": [
        "#menghitung nilai gini total dari sebuah variabel\n",
        "def gini_split(data, nama_fitur_split, nama_fitur_kelas):\n",
        "  #menyimpan nilai kolom_kelas dalam variabel elemen dengan menghilangkan duplikat\n",
        "  #menyimpan banyak data\n",
        "  nilai, banyak = np.unique(data[nama_fitur_split], return_counts=True)\n",
        "  #menghitung indeks gini dari setiap partisi yang terbentuk\n",
        "  gini_split = np.sum([(banyak[i]/np.sum(banyak))*hitung_gini(data.where(data[nama_fitur_split]==nilai[i]).dropna()[nama_fitur_kelas]) for i in range(len(nilai))])\n",
        "  #mengembalikan nilai gini_split\n",
        "  return gini_split"
      ],
      "execution_count": 11,
      "outputs": []
    },
    {
      "cell_type": "markdown",
      "metadata": {
        "id": "vF9NYqpVMHcc"
      },
      "source": [
        "Ujilah fungsi **gini_split** menggunakan data_latih pada variabel **buying** dan variabel kelas bernama **class**."
      ]
    },
    {
      "cell_type": "code",
      "metadata": {
        "id": "WZ60vxPEKOFv",
        "colab": {
          "base_uri": "https://localhost:8080/"
        },
        "outputId": "940815d5-0f99-49e7-c60e-ae29eb69163c"
      },
      "source": [
        "#menghitung indeks gini dari berdasarkan fitur buying \n",
        "gini_split(data_latih, \"buying\", \"class\")"
      ],
      "execution_count": 12,
      "outputs": [
        {
          "output_type": "execute_result",
          "data": {
            "text/plain": [
              "0.6536404135210501"
            ]
          },
          "metadata": {
            "tags": []
          },
          "execution_count": 12
        }
      ]
    },
    {
      "cell_type": "markdown",
      "metadata": {
        "id": "46FZOwFIlkM_"
      },
      "source": [
        "## 4) Pembentukan pohon"
      ]
    },
    {
      "cell_type": "markdown",
      "metadata": {
        "id": "4wQfBDujvR_Z"
      },
      "source": [
        "Pembentukan pohon dilakukan secara rekursif. Seperti metode rekursif pada umumnya, perlu ditentukan kondisi berhenti terlebih dahulu. Kondisi berhenti pada pembentukan pohon adalah:\n",
        "\n",
        "\n",
        "1.   Jika hanya ada satu kelas pada data, kembalikan kelas tersebut\n",
        "2.   Jika fitur data  = 0 (tidak ada fitur yang tersisa), kembalikan kelas dari parent\n",
        "3. Jika data kosong (tidak ada data), kembalikan kelas dengan frekuensi terbanyak\n",
        "\n",
        "Selain kondisi berhenti tersebut, dilakukan pembentukan pohon secara rekursif menggunakan fungsi **buat_tree**.\n",
        "\n"
      ]
    },
    {
      "cell_type": "code",
      "metadata": {
        "id": "qFB6pLbeikcG"
      },
      "source": [
        "#membuat fungsi untuk membuat tree secara rekursif\n",
        "def buat_tree(data, data_awal, daftar_fitur, nama_fitur_kelas, kelas_parent_node = None):\n",
        "  #jika hanya ada satu kelas pada data\n",
        "  if len(np.unique(data[nama_fitur_kelas])) <= 1 :\n",
        "    #mengembalikan kelas tersebut\n",
        "    return np.unique(data[nama_fitur_kelas])[0]\n",
        "  #jika data kosong\n",
        "  elif len(data)==0:\n",
        "    #mengembalikan kelas dengan frekuensi terbesar\n",
        "    return np.unique(data_awal[nama_fitur_kelas])[np.argmax(np.unique(data_awal[nama_fitur_kelas],return_counts=True)[1])]\n",
        "  #jika tidak ada fitur yang tersisa\n",
        "  elif len(daftar_fitur)==0:\n",
        "    #mengembalikan parent node\n",
        "    return kelas_parent_node\n",
        "  else :\n",
        "    #mengambil kelas dengan frekuensi terbanyak sebagai parent node\n",
        "    kelas_parent_node = np.unique(data[nama_fitur_kelas])[np.argmax(np.unique(data[nama_fitur_kelas], return_counts=True)[1])]\n",
        "    #menghitung indeks gini dengan beberapa partisi\n",
        "    nilai_split = [gini_split(data, fitur, nama_fitur_kelas) for fitur in daftar_fitur]\n",
        "    #mengambil indeks fitur terbaik dengan nilai indeks gini terkecil\n",
        "    index_fitur_terbaik = np.argmin(nilai_split)\n",
        "    #mengambil fitur terbaik dari daftar fitur\n",
        "    fitur_terbaik = daftar_fitur[index_fitur_terbaik]\n",
        "    #membuat tree dengan parent fitur terbaik\n",
        "    tree = {fitur_terbaik:{}}\n",
        "    #membuat daftar fitur yang terdiri dari fitur yang ada tanpa fitur_terbaik\n",
        "    daftar_fitur = [i for i in daftar_fitur if i != fitur_terbaik]\n",
        "    for nilai in np.unique(data[fitur_terbaik]):\n",
        "      #menghapus data ketika data berada di indeks yerbaik dan nilainya sama dengan nilai fitur terbaik\n",
        "      sub_data = data.where(data[fitur_terbaik] == nilai).dropna()\n",
        "      #membuat subtree dengan pemanggilan fungsi tree secara rekursif\n",
        "      subtree = buat_tree(sub_data,data_awal,daftar_fitur,nama_fitur_kelas,kelas_parent_node)\n",
        "      #menyimpan nilai subtree pada tree yang sudah terbentuk\n",
        "      tree[fitur_terbaik][nilai]=subtree\n",
        "  #mengembalikan tree yang sudah terbentuk\n",
        "  return(tree)"
      ],
      "execution_count": 13,
      "outputs": []
    },
    {
      "cell_type": "markdown",
      "metadata": {
        "id": "GsqCB1ntU020"
      },
      "source": [
        "Buatlah tree menggunakan data latih yang tersedia"
      ]
    },
    {
      "cell_type": "code",
      "metadata": {
        "id": "Ca6NaY09SN-R"
      },
      "source": [
        "#membuat tree dengan pemanggilan fungsi buat tree\n",
        "tree = buat_tree(data_latih, data_latih, data_latih.columns[:-1],'class')"
      ],
      "execution_count": 14,
      "outputs": []
    },
    {
      "cell_type": "markdown",
      "metadata": {
        "id": "evKQehVeU6YC"
      },
      "source": [
        "Tampilkan tree yang terbentuk. Gunakan library **pprint** untuk menampilkan dictionary secara teratur."
      ]
    },
    {
      "cell_type": "code",
      "metadata": {
        "id": "d8AMFsUoSsLt",
        "colab": {
          "base_uri": "https://localhost:8080/"
        },
        "outputId": "56cdf740-e266-4af6-939c-aedb678420c3"
      },
      "source": [
        "#melakukan pemanggilan library pretty print untuk mencetak tree\n",
        "from pprint import pprint\n",
        "#penampilkan tree dengan pretty print\n",
        "pprint(tree)"
      ],
      "execution_count": 15,
      "outputs": [
        {
          "output_type": "stream",
          "text": [
            "{'safety': {'high': {'buying': {'high': {'maint': {'high': {'lug_boot': {'med': 'acc',\n",
            "                                                                         'small': 'acc'}},\n",
            "                                                   'low': {'lug_boot': {'big': 'acc',\n",
            "                                                                        'small': 'acc'}},\n",
            "                                                   'med': {'lug_boot': {'small': 'acc'}},\n",
            "                                                   'vhigh': 'unacc'}},\n",
            "                                'low': {'lug_boot': {'big': {'maint': {'high': 'vgood',\n",
            "                                                                       'low': 'vgood',\n",
            "                                                                       'med': 'vgood',\n",
            "                                                                       'vhigh': 'vgood'}},\n",
            "                                                     'med': {'maint': {'high': 'vgood',\n",
            "                                                                       'low': 'vgood',\n",
            "                                                                       'med': 'vgood',\n",
            "                                                                       'vhigh': 'vgood'}},\n",
            "                                                     'small': {'maint': {'high': 'good',\n",
            "                                                                         'low': 'good',\n",
            "                                                                         'med': 'good',\n",
            "                                                                         'vhigh': 'unacc'}}}},\n",
            "                                'med': {'maint': {'high': {'lug_boot': {'big': 'acc',\n",
            "                                                                        'med': 'acc',\n",
            "                                                                        'small': 'acc'}},\n",
            "                                                  'low': {'lug_boot': {'big': 'vgood',\n",
            "                                                                       'med': 'vgood',\n",
            "                                                                       'small': 'good'}},\n",
            "                                                  'med': {'lug_boot': {'big': 'vgood',\n",
            "                                                                       'med': 'vgood',\n",
            "                                                                       'small': 'unacc'}},\n",
            "                                                  'vhigh': 'acc'}},\n",
            "                                'vhigh': {'maint': {'high': 'unacc',\n",
            "                                                    'low': 'acc',\n",
            "                                                    'med': 'acc',\n",
            "                                                    'vhigh': 'unacc'}}}},\n",
            "            'low': 'unacc',\n",
            "            'med': {'buying': {'high': {'lug_boot': {'big': 'acc',\n",
            "                                                     'med': 'acc',\n",
            "                                                     'small': 'unacc'}},\n",
            "                               'low': {'maint': {'high': 'acc',\n",
            "                                                 'low': {'lug_boot': {'big': 'good',\n",
            "                                                                      'med': 'good',\n",
            "                                                                      'small': 'acc'}},\n",
            "                                                 'med': {'lug_boot': {'big': 'good',\n",
            "                                                                      'med': 'good',\n",
            "                                                                      'small': 'acc'}},\n",
            "                                                 'vhigh': {'lug_boot': {'big': 'acc',\n",
            "                                                                        'med': 'acc'}}}},\n",
            "                               'med': {'maint': {'high': {'lug_boot': {'big': 'acc',\n",
            "                                                                       'med': 'unacc'}},\n",
            "                                                 'low': {'lug_boot': {'big': 'good',\n",
            "                                                                      'med': 'good',\n",
            "                                                                      'small': 'acc'}},\n",
            "                                                 'med': 'acc'}},\n",
            "                               'vhigh': {'maint': {'high': 'unacc',\n",
            "                                                   'low': {'lug_boot': {'med': 'acc'}},\n",
            "                                                   'med': 'acc',\n",
            "                                                   'vhigh': 'unacc'}}}}}}\n"
          ],
          "name": "stdout"
        }
      ]
    },
    {
      "cell_type": "markdown",
      "metadata": {
        "id": "mou0Bi1cyswK"
      },
      "source": [
        "## 5) Proses prediksi\n",
        "\n",
        "Proses prediksi kelas pada data uji dilakukan dengan melakukan *tree traversal* sampai menemui leaf."
      ]
    },
    {
      "cell_type": "code",
      "metadata": {
        "id": "fzvwAIBh8g2e"
      },
      "source": [
        "#melakukan prediksi dengan membuat fungsi prediksi yang berparameter datauji dan tree yang sudah dibuat\n",
        "def prediksi(data_uji,tree):\n",
        "  for key in list(data_uji.keys()):\n",
        "    if key in list(tree.keys()):\n",
        "      try:\n",
        "        #prediksi data uji disimpan dalam variabel hasil\n",
        "        hasil = tree[key][data_uji[key]]\n",
        "      except:\n",
        "        return 1\n",
        "        #prediksi data uji disimpan dalam variabel hasil\n",
        "      hasil = tree[key][data_uji[key]]\n",
        "      #cek apakah hasil merupakan dictionary\n",
        "      if isinstance(hasil,dict):\n",
        "        #mengembalikan nilai prediksi\n",
        "        return prediksi(data_uji,hasil)\n",
        "      else:\n",
        "        #mengembalikan nilai dari hasil prediksi\n",
        "        return hasil"
      ],
      "execution_count": 16,
      "outputs": []
    },
    {
      "cell_type": "markdown",
      "metadata": {
        "id": "BChrt6JtXCDP"
      },
      "source": [
        "## 6) Proses Pengujian\n",
        "Lakukan pengujian menggunakan data uji. Kelas pada data uji perlu dihapus dan data uji perlu diubah menjadi dictionary"
      ]
    },
    {
      "cell_type": "code",
      "metadata": {
        "id": "IwY0kpvDXXSx"
      },
      "source": [
        "#melakukan penghapusan kelas dan mengubah ke dictionary\n",
        "data_uji_dict = data_uji.iloc[:,:-1].to_dict(orient = \"records\")"
      ],
      "execution_count": 17,
      "outputs": []
    },
    {
      "cell_type": "markdown",
      "metadata": {
        "id": "IbrQ119iRrJV"
      },
      "source": [
        "Lakukan pengujian terhadap keseluruhan data uji menggunakan looping."
      ]
    },
    {
      "cell_type": "code",
      "metadata": {
        "id": "s8AC5eKnYAnX"
      },
      "source": [
        "#melakukan pengujian semua data uji menggunakan perulangan\n",
        "hasil_prediksi_total = []\n",
        "for i in range(len(data_uji_dict)):\n",
        "  #menampung hasil prediksi pada variabel hasil_prediksi\n",
        "  hasil_prediksi = prediksi(data_uji_dict[i],tree)\n",
        "  #hasil prediksi ditambahkan pada list yang sudah dideklarasikan diawal\n",
        "  hasil_prediksi_total.append(hasil_prediksi)"
      ],
      "execution_count": 18,
      "outputs": []
    },
    {
      "cell_type": "markdown",
      "metadata": {
        "id": "h7JhY6JXZRi6"
      },
      "source": [
        "Bandingkan hasil prediksi dengan label sebenarnya. Hitunglah banyaknya data uji yang memiliki kelas prediksi sama dengan kelas sebenarnya"
      ]
    },
    {
      "cell_type": "code",
      "metadata": {
        "id": "KZMRbhqwaCKd",
        "colab": {
          "base_uri": "https://localhost:8080/"
        },
        "outputId": "5ea8e06a-d4b2-499e-ed99-6892af000543"
      },
      "source": [
        "#menghitung prediksi yang tepat \n",
        "print(\"Total prediksi benar:\",sum(hasil_prediksi_total==data_uji['class']))"
      ],
      "execution_count": 19,
      "outputs": [
        {
          "output_type": "stream",
          "text": [
            "Total prediksi benar: 44\n"
          ],
          "name": "stdout"
        }
      ]
    },
    {
      "cell_type": "code",
      "metadata": {
        "colab": {
          "base_uri": "https://localhost:8080/"
        },
        "id": "xwVbnFQkm7Jj",
        "outputId": "5e460caa-0463-4887-976f-e212dd2a965d"
      },
      "source": [
        "#menghitung akurasi dengan membagi prediksi yang tepat dengan jumlah data yang diuji\n",
        "akurasi = (sum(hasil_prediksi_total==data_uji['class']) / data_uji.shape[0])\n",
        "#menampilkan jumlah data uji\n",
        "print(\"Total data sebenarnya:\", data_uji.shape[0])\n",
        "#menampilkan nilai akurasi\n",
        "print(\"Akurasi:\", akurasi)"
      ],
      "execution_count": 20,
      "outputs": [
        {
          "output_type": "stream",
          "text": [
            "Total data sebenarnya: 52\n",
            "Akurasi: 0.8461538461538461\n"
          ],
          "name": "stdout"
        }
      ]
    },
    {
      "cell_type": "markdown",
      "metadata": {
        "id": "ZiDmUxVBuo42"
      },
      "source": [
        "## TUGAS\n",
        "Pada tugas kali ini Anda diminta memodifikasi metode pembentukan tree yang telah Anda agar metode tersebut menggunakan information gain sebagai dasar percabangan. Lengkapilah kerangka source code di bawah ini"
      ]
    },
    {
      "cell_type": "markdown",
      "metadata": {
        "id": "IYMKi5wxVa2R"
      },
      "source": [
        "Lengkapi fungsi hitung_entropy"
      ]
    },
    {
      "cell_type": "code",
      "metadata": {
        "id": "qzcjfgqO_exR"
      },
      "source": [
        "#membuat fungsi hitung entropi untuk menghitung nilai entrophy\n",
        "def hitung_entropy(kolom_kelas):\n",
        "  #menyimpan nilai kolom_kelas dalam variabel elemen dengan menghilangkan duplikat\n",
        "  #menyimpan banyak data\n",
        "  elemen, banyak = np.unique(kolom_kelas, return_counts=True)\n",
        "  #mengitung nilai entrophy\n",
        "  entropy =-1 * (np.sum([(banyak[i]/np.sum(banyak))*np.log2(banyak[i]/np.sum(banyak)) for i in range(len(elemen))]))\n",
        "  #mengembalikan nilai entrophy\n",
        "  return entropy"
      ],
      "execution_count": 21,
      "outputs": []
    },
    {
      "cell_type": "code",
      "metadata": {
        "colab": {
          "base_uri": "https://localhost:8080/"
        },
        "id": "2_V5XiXazKMZ",
        "outputId": "cea5d369-2ffa-420e-ea95-7a3b3495928a"
      },
      "source": [
        "#pengecekan fungsi yang sudah dibuat berjalan dengan lancar\n",
        "nilai=hitung_entropy(data_latih['buying'])\n",
        "print(nilai)"
      ],
      "execution_count": 22,
      "outputs": [
        {
          "output_type": "stream",
          "text": [
            "1.8282851867679533\n"
          ],
          "name": "stdout"
        }
      ]
    },
    {
      "cell_type": "markdown",
      "metadata": {
        "id": "JQPDwKvWVejo"
      },
      "source": [
        "Lengkapi fungsi information_gain"
      ]
    },
    {
      "cell_type": "code",
      "metadata": {
        "id": "nICq1Ce8TVXV"
      },
      "source": [
        "#membuat fungsi hitung information gain untuk menghitung nilai information gain\n",
        "def information_gain(data, nama_fitur_split, nama_fitur_kelas):\n",
        "  #menyimpan nilai kolom_kelas dalam variabel elemen dengan menghilangkan duplikat\n",
        "  #menyimpan banyak data\n",
        "  nilai, banyak = np.unique(data[nama_fitur_split], return_counts=True)\n",
        "  #menghitung nilai entrophy parent\n",
        "  entrophy_parent = hitung_entropy(data[nama_fitur_kelas])\n",
        "  #menghitung nilai entrophy partiki child yang terbentuk\n",
        "  entrophy= np.sum([(banyak[i]/np.sum(banyak))*hitung_entropy(data.where(data[nama_fitur_split]==nilai[i]).dropna()[nama_fitur_kelas]) for i in range(len(nilai))])\n",
        "  #menghitung nilai information gain\n",
        "  information_gain = entrophy_parent - entrophy\n",
        "  #mengembalikan nilai information_gain\n",
        "  return information_gain "
      ],
      "execution_count": 23,
      "outputs": []
    },
    {
      "cell_type": "code",
      "metadata": {
        "colab": {
          "base_uri": "https://localhost:8080/"
        },
        "id": "QhDFfwRwyFKh",
        "outputId": "11cd0c94-5a5b-4d13-e4a4-554a3e23c7bb"
      },
      "source": [
        "#pengecekan fungsi yang sudah dibuat berjalan dengan lancar\n",
        "ig=information_gain(data_latih,'safety', 'class')\n",
        "print(ig)"
      ],
      "execution_count": 24,
      "outputs": [
        {
          "output_type": "stream",
          "text": [
            "0.5376036735052974\n"
          ],
          "name": "stdout"
        }
      ]
    },
    {
      "cell_type": "markdown",
      "metadata": {
        "id": "wRTzVLc4VnM6"
      },
      "source": [
        "Lengkapi fungsi **buat_tree_ig**. Isinya sama persis dengan fungsi **buat_tree**, hanya saja penghitungan **gini_split** diganti dengan **information_gain**. Selain itu, percabangan dilakukan dengan menggunakan nilai **information_gain** **terbesar**"
      ]
    },
    {
      "cell_type": "code",
      "metadata": {
        "id": "8EJBMOEJUfOV"
      },
      "source": [
        "#membuat fungsi buat tree information gain\n",
        "def buat_tree_ig(data,data_awal, daftar_fitur, nama_fitur_kelas,kelas_parent_node=None):\n",
        "  #jika hanya ada satu kelas pada data\n",
        "  if len(np.unique(data[nama_fitur_kelas])) <= 1 :\n",
        "    #mengembalikan kelas tersebut\n",
        "    return np.unique(data[nama_fitur_kelas])[0]\n",
        "  #jika data kosong\n",
        "  elif len(data)==0:\n",
        "    #mengembalikan kelas dengan frekuensi terbesar\n",
        "    return np.unique(data_awal[nama_fitur_kelas])[np.argmax(np.unique(data_awal[nama_fitur_kelas],return_counts=True)[1])]\n",
        "  #jika tidak ada fitur yang tersisa\n",
        "  elif len(daftar_fitur)==0:\n",
        "    #mengembalikan parent node\n",
        "    return kelas_parent_node\n",
        "  else :\n",
        "    #mengambil kelas dengan frekuensi terbanyak sebagai parent node\n",
        "    kelas_parent_node = np.unique(data[nama_fitur_kelas])[np.argmax(np.unique(data[nama_fitur_kelas], return_counts=True)[1])]\n",
        "    #menghitung information gain dengan beberapa partisi\n",
        "    nilai_split = [information_gain(data, fitur, nama_fitur_kelas) for fitur in daftar_fitur]\n",
        "    #mengambil indeks fitur terbaik dengan nilai information gain terbesar\n",
        "    index_fitur_terbaik = np.argmax(nilai_split)\n",
        "    #mengambil fitur terbaik dari daftar fitur\n",
        "    fitur_terbaik = daftar_fitur[index_fitur_terbaik]\n",
        "    #membuat tree dengan parent fitur terbaik\n",
        "    tree = {fitur_terbaik:{}}\n",
        "    #membuat daftar fitur yang terdiri dari fitur yang ada tanpa fitur_terbaik\n",
        "    daftar_fitur = [i for i in daftar_fitur if i != fitur_terbaik]\n",
        "    for nilai in np.unique(data[fitur_terbaik]):\n",
        "      #menghapus data ketika data berada di indeks yerbaik dan nilainya sama dengan nilai fitur terbaik\n",
        "      sub_data = data.where(data[fitur_terbaik] == nilai).dropna()\n",
        "      #membuat subtree dengan pemanggilan fungsi tree secara rekursif\n",
        "      subtree = buat_tree_ig(sub_data,data_awal,daftar_fitur,nama_fitur_kelas,kelas_parent_node)\n",
        "      #menyimpan nilai subtree pada tree yang sudah terbentuk\n",
        "      tree[fitur_terbaik][nilai]=subtree\n",
        "  #mengembalikan tree yang sudah terbentuk\n",
        "  return(tree)"
      ],
      "execution_count": 25,
      "outputs": []
    },
    {
      "cell_type": "markdown",
      "metadata": {
        "id": "CKVka-apV_0n"
      },
      "source": [
        "Lakukan pembentukan tree menggunakan fungsi **buat_tree_ig**"
      ]
    },
    {
      "cell_type": "code",
      "metadata": {
        "id": "5ax_yrUwUwo7"
      },
      "source": [
        "#membuat tree information gain dengan pemanggilan fungsi yang sudah dibuat \n",
        "tree_ig = buat_tree_ig(data_latih,data_latih,data_latih.columns[:-1],'class')"
      ],
      "execution_count": 26,
      "outputs": []
    },
    {
      "cell_type": "markdown",
      "metadata": {
        "id": "YBqhseFmWLPq"
      },
      "source": [
        "Tampilkan tree yang terbentuk"
      ]
    },
    {
      "cell_type": "code",
      "metadata": {
        "id": "yt6_LzfIU9nR",
        "colab": {
          "base_uri": "https://localhost:8080/"
        },
        "outputId": "61b3c858-884d-4834-f6e8-1847cf485265"
      },
      "source": [
        "#memncetaj tree yang sudah dibuat dengan pretty print format\n",
        "pprint(tree_ig)"
      ],
      "execution_count": 27,
      "outputs": [
        {
          "output_type": "stream",
          "text": [
            "{'safety': {'high': {'buying': {'high': {'maint': {'high': {'lug_boot': {'med': 'acc',\n",
            "                                                                         'small': 'acc'}},\n",
            "                                                   'low': {'lug_boot': {'big': 'acc',\n",
            "                                                                        'small': 'acc'}},\n",
            "                                                   'med': {'lug_boot': {'small': 'acc'}},\n",
            "                                                   'vhigh': 'unacc'}},\n",
            "                                'low': {'maint': {'high': {'lug_boot': {'big': 'vgood',\n",
            "                                                                        'med': 'vgood',\n",
            "                                                                        'small': 'vgood'}},\n",
            "                                                  'low': {'lug_boot': {'big': 'vgood',\n",
            "                                                                       'med': 'vgood',\n",
            "                                                                       'small': 'good'}},\n",
            "                                                  'med': {'lug_boot': {'big': 'vgood',\n",
            "                                                                       'med': 'vgood',\n",
            "                                                                       'small': 'good'}},\n",
            "                                                  'vhigh': {'lug_boot': {'big': 'acc',\n",
            "                                                                         'med': 'acc',\n",
            "                                                                         'small': 'unacc'}}}},\n",
            "                                'med': {'maint': {'high': {'lug_boot': {'big': 'acc',\n",
            "                                                                        'med': 'acc',\n",
            "                                                                        'small': 'acc'}},\n",
            "                                                  'low': {'lug_boot': {'big': 'vgood',\n",
            "                                                                       'med': 'vgood',\n",
            "                                                                       'small': 'good'}},\n",
            "                                                  'med': {'lug_boot': {'big': 'vgood',\n",
            "                                                                       'med': 'vgood',\n",
            "                                                                       'small': 'unacc'}},\n",
            "                                                  'vhigh': 'acc'}},\n",
            "                                'vhigh': {'maint': {'high': 'unacc',\n",
            "                                                    'low': 'acc',\n",
            "                                                    'med': 'acc',\n",
            "                                                    'vhigh': 'unacc'}}}},\n",
            "            'low': 'unacc',\n",
            "            'med': {'maint': {'high': {'buying': {'high': {'lug_boot': {'big': 'acc',\n",
            "                                                                        'med': 'acc',\n",
            "                                                                        'small': 'unacc'}},\n",
            "                                                  'low': 'acc',\n",
            "                                                  'med': {'lug_boot': {'big': 'acc',\n",
            "                                                                       'med': 'unacc'}},\n",
            "                                                  'vhigh': 'unacc'}},\n",
            "                              'low': {'lug_boot': {'big': 'good',\n",
            "                                                   'med': {'buying': {'high': 'acc',\n",
            "                                                                      'low': 'good',\n",
            "                                                                      'med': 'good',\n",
            "                                                                      'vhigh': 'good'}},\n",
            "                                                   'small': 'acc'}},\n",
            "                              'med': {'buying': {'high': 'acc',\n",
            "                                                 'low': {'lug_boot': {'big': 'good',\n",
            "                                                                      'med': 'good',\n",
            "                                                                      'small': 'acc'}},\n",
            "                                                 'med': 'acc',\n",
            "                                                 'vhigh': 'acc'}},\n",
            "                              'vhigh': {'buying': {'low': {'lug_boot': {'big': 'acc',\n",
            "                                                                        'med': 'acc'}},\n",
            "                                                   'vhigh': 'unacc'}}}}}}\n"
          ],
          "name": "stdout"
        }
      ]
    },
    {
      "cell_type": "markdown",
      "metadata": {
        "id": "5x-TO_QCWRiX"
      },
      "source": [
        "Lakukan pengujian menggunakan tree yang terbentuk"
      ]
    },
    {
      "cell_type": "code",
      "metadata": {
        "id": "ReM_ojLwXjT0"
      },
      "source": [
        "#melakukan pengujian semua data uji menggunakan perulangan\n",
        "hasil_prediksi_total_ig = []\n",
        "for i in range(len(data_uji_dict)):\n",
        "  #menampung hasil prediksi pada variabel hasil_prediksi\n",
        "  hasil_prediksi = prediksi(data_uji_dict[i],tree)\n",
        "  #hasil prediksi ditambahkan pada list yang sudah dideklarasikan diawal\n",
        "  hasil_prediksi_total_ig.append(hasil_prediksi)"
      ],
      "execution_count": 28,
      "outputs": []
    },
    {
      "cell_type": "code",
      "metadata": {
        "colab": {
          "base_uri": "https://localhost:8080/"
        },
        "id": "kxnisSg8Xdrt",
        "outputId": "3b2d42d4-9a98-4422-aed4-57bdee8c8285"
      },
      "source": [
        "#menampilkan nilai total jumlah yyang melakukan prediksi dengan benar\n",
        "print(\"Total prediksi benar: \",sum(hasil_prediksi_total_ig==data_uji['class']))"
      ],
      "execution_count": 29,
      "outputs": [
        {
          "output_type": "stream",
          "text": [
            "Total prediksi benar:  44\n"
          ],
          "name": "stdout"
        }
      ]
    },
    {
      "cell_type": "code",
      "metadata": {
        "colab": {
          "base_uri": "https://localhost:8080/"
        },
        "id": "IQi-IV5yceHt",
        "outputId": "1af64a2a-8112-4c37-abee-7b01698ae6ca"
      },
      "source": [
        "#menghitung akurasi dengan membagi prediksi yang tepat dengan jumlah data yang diuji \n",
        "akurasi = (sum(hasil_prediksi_total_ig==data_uji['class']) / data_uji.shape[0])\n",
        "#menampilkan jumlah data uji\n",
        "print(\"Total data sebenarnya:\", data_uji.shape[0])\n",
        "#menampilkan nilai akurasi\n",
        "print(\"Akurasi:\", akurasi)"
      ],
      "execution_count": 30,
      "outputs": [
        {
          "output_type": "stream",
          "text": [
            "Total data sebenarnya: 52\n",
            "Akurasi: 0.8461538461538461\n"
          ],
          "name": "stdout"
        }
      ]
    },
    {
      "cell_type": "markdown",
      "metadata": {
        "id": "PcWNZAZJW53r"
      },
      "source": [
        "# PERTANYAAN\n",
        "\n",
        "Jawablah pertanyaan di bawah ini"
      ]
    },
    {
      "cell_type": "markdown",
      "metadata": {
        "id": "S0cHXissXCO7"
      },
      "source": [
        "\n",
        "\n",
        "1.   Amati tree yang dihasilkan dengan kriteria percabangan GINI dan Information Gain. Apa perbedaan tree yang dihasilkan dari kedua metode tersebut?\n",
        "2.   Apakah penggunaan Information Gain dapat meningkatkan akurasi prediksi?\n",
        "\n"
      ]
    },
    {
      "cell_type": "markdown",
      "metadata": {
        "id": "wQSW_Ix3XaNT"
      },
      "source": [
        "Jawaban :\n",
        "\n",
        "1.   Tree yang dihasilkan oleh kedua metode memiliki perbedaan pada anak dari treenya, namun pada node root sama yakni kelas Safety yang menjadi node root. Perbedaan child dapat terlihat pada anak child safety yang medium memiliki child fitur buying kemudian memiliki anak fitur lug_boot dan maint pada tree gini. Sedangkan pada tree information gain anak child safety yang bernilai medium memiliki child fitur maint terlebih dahulu kemudian baru memiliki anak tree yang berisikan fitur buying dan lug_boot. Selain itu pada tree gini sub tree safety high buying low anak tree nya berupa fitur lug_boot dan anak tree lug_boot adalah maint sedangkan pada tree information gain sub tree safety high buying low anak tree nya berupa fitur maint  dan anak tree maint adalah lug_boot yang mana kebalikan dari tree Gini. Perbedaan percabangan ini disebabkan perbedaan pemilihan fitur dengan nilai Gini terendah dan pemilihan nilai information gain tertinggi yang berbeda. Metode information gain memiliki tingkat akurasi yang lebih baik daripada metode Gini, namun metode Gini memiliki tingkat presisi yang lebih baik daripada metode Information Gain.\n",
        "\n",
        "\n",
        "2.   Dari percobaan yang telah dilakukan akurasi yang didapatkan sama, yakni dengan nilai prediksi benar sejumlah 44 data uji. Tingkat akurasi prediksi keduanya dapat terlihat perbedaan yang banyak ketika menggunakan dataset yang besar, pada dataset kecil seperti Car evaluation dataset yang hanya memiliki 260 baris data dan 5 kolom atau fitur dan kelas belum terlihat perbedaan pada hasil akurasinya . Berdasarkan beberapa sumber metode Information Gain memilki akurasi prediksi yang lebih baik daripada metode GINI. Namun, GINI memiliki tingkat presisi yang lebih baik daripada Information Gain. Sehingga keduanya dapat digunakan sesuai dengan kebutuhan masing-masing.\n"
      ]
    }
  ]
}