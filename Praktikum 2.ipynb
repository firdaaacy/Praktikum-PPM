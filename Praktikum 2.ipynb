{
  "nbformat": 4,
  "nbformat_minor": 0,
  "metadata": {
    "colab": {
      "name": "Praktikum 2 ",
      "provenance": [],
      "collapsed_sections": [],
      "include_colab_link": true
    },
    "kernelspec": {
      "name": "python3",
      "display_name": "Python 3"
    }
  },
  "cells": [
    {
      "cell_type": "markdown",
      "metadata": {
        "id": "view-in-github",
        "colab_type": "text"
      },
      "source": [
        "<a href=\"https://colab.research.google.com/github/firdaaacy/Praktikum-PPM/blob/main/Praktikum%202.ipynb\" target=\"_parent\"><img src=\"https://colab.research.google.com/assets/colab-badge.svg\" alt=\"Open In Colab\"/></a>"
      ]
    },
    {
      "cell_type": "markdown",
      "metadata": {
        "id": "4p35D_MajUhy"
      },
      "source": [
        "# Praktikum Pengantar Pembelajaran Mesin\n",
        "\n",
        "\n",
        "---\n",
        "## Bab 2. Pemrosesan Awal Data\n",
        "\n",
        "\n"
      ]
    },
    {
      "cell_type": "markdown",
      "metadata": {
        "id": "Ay3Q_EtXsn77"
      },
      "source": [
        "\n",
        "\n",
        "### 1) Import Data"
      ]
    },
    {
      "cell_type": "markdown",
      "metadata": {
        "id": "l_iBG4pVjIZb"
      },
      "source": [
        "Unduh dataset yang akan digunakan pada praktikum kali ini. Anda dapat menggunakan aplikasi **wget** untuk mendowload dataset dan menyimpannya dalam Google Colab. Jalankan cell di bawah ini untuk mengunduh dataset"
      ]
    },
    {
      "cell_type": "code",
      "metadata": {
        "id": "2zlUIUTidO13",
        "colab": {
          "base_uri": "https://localhost:8080/"
        },
        "outputId": "c9475e16-f1cb-49e5-d979-04a2f2d5ce2b"
      },
      "source": [
        "#mengunduh dataset sesuai dengan link yang diberikan dengan command wget\n",
        "! wget https://dataset-ppm.s3.amazonaws.com/iris_missing.csv"
      ],
      "execution_count": 26,
      "outputs": [
        {
          "output_type": "stream",
          "text": [
            "--2021-07-08 12:41:15--  https://dataset-ppm.s3.amazonaws.com/iris_missing.csv\n",
            "Resolving dataset-ppm.s3.amazonaws.com (dataset-ppm.s3.amazonaws.com)... 52.216.9.3\n",
            "Connecting to dataset-ppm.s3.amazonaws.com (dataset-ppm.s3.amazonaws.com)|52.216.9.3|:443... connected.\n",
            "HTTP request sent, awaiting response... 200 OK\n",
            "Length: 3843 (3.8K) [text/csv]\n",
            "Saving to: ‘iris_missing.csv.1’\n",
            "\n",
            "iris_missing.csv.1  100%[===================>]   3.75K  --.-KB/s    in 0s      \n",
            "\n",
            "2021-07-08 12:41:15 (198 MB/s) - ‘iris_missing.csv.1’ saved [3843/3843]\n",
            "\n"
          ],
          "name": "stdout"
        }
      ]
    },
    {
      "cell_type": "markdown",
      "metadata": {
        "id": "qS98ITZYj_EQ"
      },
      "source": [
        "Setelah dataset berhasil diunduh, langkah berikutnya adalah membaca dataset dengan memanfaatkan fungsi [readcsv](https://pandas.pydata.org/pandas-docs/stable/reference/api/pandas.read_csv.html) dari library pandas. Lakukan pembacaan berkas csv menggunakan fungsi **readcsv**. Jangan lupa untuk melakukan import library pandas terlebih dahulu"
      ]
    },
    {
      "cell_type": "code",
      "metadata": {
        "id": "5TtrzOrCe0do"
      },
      "source": [
        "#melakukan import library yang akan digunakan\n",
        "import pandas as pd #pemanggilan library pandas dengan alias pemanggilan pd\n",
        "import numpy as np #pemanggilan library numpy dengan alias pemanggilan np\n",
        "\n",
        "#melakukan pembacaan dataset yang sudah diunduh menggunakan pandas\n",
        "data = pd.read_csv('iris_missing.csv')"
      ],
      "execution_count": 27,
      "outputs": []
    },
    {
      "cell_type": "markdown",
      "metadata": {
        "id": "Fz2E1jyaseWv"
      },
      "source": [
        "Tampilkan beberapa baris dari dataset untuk mendapatkan informasi singkat mengenai isi data. Gunakan fungsi **head()** untuk menampilkan 5 data pertama."
      ]
    },
    {
      "cell_type": "code",
      "metadata": {
        "id": "3zIEJth2fB-d",
        "colab": {
          "base_uri": "https://localhost:8080/",
          "height": 204
        },
        "outputId": "a10a73e7-45d5-4d9d-b7a0-abd339f4fe63"
      },
      "source": [
        "#menampilkan 5 data teratas\n",
        "data.head()"
      ],
      "execution_count": 28,
      "outputs": [
        {
          "output_type": "execute_result",
          "data": {
            "text/html": [
              "<div>\n",
              "<style scoped>\n",
              "    .dataframe tbody tr th:only-of-type {\n",
              "        vertical-align: middle;\n",
              "    }\n",
              "\n",
              "    .dataframe tbody tr th {\n",
              "        vertical-align: top;\n",
              "    }\n",
              "\n",
              "    .dataframe thead th {\n",
              "        text-align: right;\n",
              "    }\n",
              "</style>\n",
              "<table border=\"1\" class=\"dataframe\">\n",
              "  <thead>\n",
              "    <tr style=\"text-align: right;\">\n",
              "      <th></th>\n",
              "      <th>sepal_length</th>\n",
              "      <th>sepal_width</th>\n",
              "      <th>petal_length</th>\n",
              "      <th>petal_width</th>\n",
              "      <th>species</th>\n",
              "    </tr>\n",
              "  </thead>\n",
              "  <tbody>\n",
              "    <tr>\n",
              "      <th>0</th>\n",
              "      <td>5.1</td>\n",
              "      <td>3.5</td>\n",
              "      <td>1.4</td>\n",
              "      <td>0.2</td>\n",
              "      <td>setosa</td>\n",
              "    </tr>\n",
              "    <tr>\n",
              "      <th>1</th>\n",
              "      <td>4.9</td>\n",
              "      <td>3.0</td>\n",
              "      <td>1.4</td>\n",
              "      <td>0.2</td>\n",
              "      <td>setosa</td>\n",
              "    </tr>\n",
              "    <tr>\n",
              "      <th>2</th>\n",
              "      <td>0.0</td>\n",
              "      <td>3.2</td>\n",
              "      <td>1.3</td>\n",
              "      <td>0.2</td>\n",
              "      <td>setosa</td>\n",
              "    </tr>\n",
              "    <tr>\n",
              "      <th>3</th>\n",
              "      <td>4.6</td>\n",
              "      <td>3.1</td>\n",
              "      <td>1.5</td>\n",
              "      <td>0.2</td>\n",
              "      <td>setosa</td>\n",
              "    </tr>\n",
              "    <tr>\n",
              "      <th>4</th>\n",
              "      <td>5.0</td>\n",
              "      <td>3.6</td>\n",
              "      <td>1.4</td>\n",
              "      <td>0.2</td>\n",
              "      <td>setosa</td>\n",
              "    </tr>\n",
              "  </tbody>\n",
              "</table>\n",
              "</div>"
            ],
            "text/plain": [
              "   sepal_length  sepal_width  petal_length  petal_width species\n",
              "0           5.1          3.5           1.4          0.2  setosa\n",
              "1           4.9          3.0           1.4          0.2  setosa\n",
              "2           0.0          3.2           1.3          0.2  setosa\n",
              "3           4.6          3.1           1.5          0.2  setosa\n",
              "4           5.0          3.6           1.4          0.2  setosa"
            ]
          },
          "metadata": {
            "tags": []
          },
          "execution_count": 28
        }
      ]
    },
    {
      "cell_type": "markdown",
      "metadata": {
        "id": "tPbKFyGVs3Xs"
      },
      "source": [
        "Berdasarkan informasi dari fungsi **head()**, data iris yang \n",
        "digunakan mempunyai 4 fitur sebagai berikut :\n",
        "\n",
        "\n",
        "1.   sepal length\n",
        "2.   sepal width\n",
        "3.   petal length\n",
        "4.   petal width"
      ]
    },
    {
      "cell_type": "markdown",
      "metadata": {
        "id": "GhKSY9e0t4gf"
      },
      "source": [
        "### 2) Missing value dan imputasi data\n",
        "\n",
        "\n",
        "\n",
        "\n",
        "Jika Anda perhatikan dengan seksama, data pada baris ke-3 (index 2) pada fitur sepal length memiliki nilai 0.0. Hal ini menandakan adanya missing value pada data. Jalankan cell di bawah ini untuk mendapatkan semua data yang mengandung missing value. Pencarian data yang mengandung missing value dilakukan dengan tahapan sebagai berikut:\n",
        "\n",
        "\n",
        "1.   Membuat filter untuk mencari data dengan sepal_length = 0, sepal_width = 0, petal_length = 0, petal_width =0\n",
        "2.   Mencari data yang memenuhi kondisi1 **atau** kondisi2 **atau** kondisi3 **atau** kondisi4 menggunakan property [loc](https://pandas.pydata.org/pandas-docs/stable/reference/api/pandas.DataFrame.loc.html) pada dataframe\n",
        "\n"
      ]
    },
    {
      "cell_type": "code",
      "metadata": {
        "id": "rP3gGlgrlb-I",
        "colab": {
          "base_uri": "https://localhost:8080/",
          "height": 452
        },
        "outputId": "87fa3e53-309f-481a-f063-273d38e0d7bf"
      },
      "source": [
        "#menentekun kondisi missing value pada dataset\n",
        "kondisi1 = data['sepal_length'] == 0.0\n",
        "kondisi2 = data['sepal_width'] == 0.0\n",
        "kondisi3 = data['petal_length'] == 0.0\n",
        "kondisi4 = data['petal_width'] == 0.0\n",
        "\n",
        "#menampilkan data yang pada dataframe yang memiliki missing value\n",
        "data.loc[kondisi1|kondisi2|kondisi3|kondisi4]"
      ],
      "execution_count": 29,
      "outputs": [
        {
          "output_type": "execute_result",
          "data": {
            "text/html": [
              "<div>\n",
              "<style scoped>\n",
              "    .dataframe tbody tr th:only-of-type {\n",
              "        vertical-align: middle;\n",
              "    }\n",
              "\n",
              "    .dataframe tbody tr th {\n",
              "        vertical-align: top;\n",
              "    }\n",
              "\n",
              "    .dataframe thead th {\n",
              "        text-align: right;\n",
              "    }\n",
              "</style>\n",
              "<table border=\"1\" class=\"dataframe\">\n",
              "  <thead>\n",
              "    <tr style=\"text-align: right;\">\n",
              "      <th></th>\n",
              "      <th>sepal_length</th>\n",
              "      <th>sepal_width</th>\n",
              "      <th>petal_length</th>\n",
              "      <th>petal_width</th>\n",
              "      <th>species</th>\n",
              "    </tr>\n",
              "  </thead>\n",
              "  <tbody>\n",
              "    <tr>\n",
              "      <th>2</th>\n",
              "      <td>0.0</td>\n",
              "      <td>3.2</td>\n",
              "      <td>1.3</td>\n",
              "      <td>0.2</td>\n",
              "      <td>setosa</td>\n",
              "    </tr>\n",
              "    <tr>\n",
              "      <th>11</th>\n",
              "      <td>0.0</td>\n",
              "      <td>3.4</td>\n",
              "      <td>1.6</td>\n",
              "      <td>0.2</td>\n",
              "      <td>setosa</td>\n",
              "    </tr>\n",
              "    <tr>\n",
              "      <th>32</th>\n",
              "      <td>5.2</td>\n",
              "      <td>0.0</td>\n",
              "      <td>1.5</td>\n",
              "      <td>0.1</td>\n",
              "      <td>setosa</td>\n",
              "    </tr>\n",
              "    <tr>\n",
              "      <th>47</th>\n",
              "      <td>4.6</td>\n",
              "      <td>3.2</td>\n",
              "      <td>0.0</td>\n",
              "      <td>0.2</td>\n",
              "      <td>setosa</td>\n",
              "    </tr>\n",
              "    <tr>\n",
              "      <th>51</th>\n",
              "      <td>6.4</td>\n",
              "      <td>0.0</td>\n",
              "      <td>4.5</td>\n",
              "      <td>1.5</td>\n",
              "      <td>versicolor</td>\n",
              "    </tr>\n",
              "    <tr>\n",
              "      <th>65</th>\n",
              "      <td>6.7</td>\n",
              "      <td>3.1</td>\n",
              "      <td>4.4</td>\n",
              "      <td>0.0</td>\n",
              "      <td>versicolor</td>\n",
              "    </tr>\n",
              "    <tr>\n",
              "      <th>67</th>\n",
              "      <td>5.8</td>\n",
              "      <td>2.7</td>\n",
              "      <td>0.0</td>\n",
              "      <td>1.0</td>\n",
              "      <td>versicolor</td>\n",
              "    </tr>\n",
              "    <tr>\n",
              "      <th>86</th>\n",
              "      <td>6.7</td>\n",
              "      <td>0.0</td>\n",
              "      <td>4.7</td>\n",
              "      <td>1.5</td>\n",
              "      <td>versicolor</td>\n",
              "    </tr>\n",
              "    <tr>\n",
              "      <th>107</th>\n",
              "      <td>0.0</td>\n",
              "      <td>2.9</td>\n",
              "      <td>6.3</td>\n",
              "      <td>1.8</td>\n",
              "      <td>virginica</td>\n",
              "    </tr>\n",
              "    <tr>\n",
              "      <th>112</th>\n",
              "      <td>6.8</td>\n",
              "      <td>3.0</td>\n",
              "      <td>0.0</td>\n",
              "      <td>2.1</td>\n",
              "      <td>virginica</td>\n",
              "    </tr>\n",
              "    <tr>\n",
              "      <th>113</th>\n",
              "      <td>5.7</td>\n",
              "      <td>2.5</td>\n",
              "      <td>5.0</td>\n",
              "      <td>0.0</td>\n",
              "      <td>virginica</td>\n",
              "    </tr>\n",
              "    <tr>\n",
              "      <th>139</th>\n",
              "      <td>6.9</td>\n",
              "      <td>3.1</td>\n",
              "      <td>5.4</td>\n",
              "      <td>0.0</td>\n",
              "      <td>virginica</td>\n",
              "    </tr>\n",
              "    <tr>\n",
              "      <th>145</th>\n",
              "      <td>6.7</td>\n",
              "      <td>3.0</td>\n",
              "      <td>5.2</td>\n",
              "      <td>0.0</td>\n",
              "      <td>virginica</td>\n",
              "    </tr>\n",
              "  </tbody>\n",
              "</table>\n",
              "</div>"
            ],
            "text/plain": [
              "     sepal_length  sepal_width  petal_length  petal_width     species\n",
              "2             0.0          3.2           1.3          0.2      setosa\n",
              "11            0.0          3.4           1.6          0.2      setosa\n",
              "32            5.2          0.0           1.5          0.1      setosa\n",
              "47            4.6          3.2           0.0          0.2      setosa\n",
              "51            6.4          0.0           4.5          1.5  versicolor\n",
              "65            6.7          3.1           4.4          0.0  versicolor\n",
              "67            5.8          2.7           0.0          1.0  versicolor\n",
              "86            6.7          0.0           4.7          1.5  versicolor\n",
              "107           0.0          2.9           6.3          1.8   virginica\n",
              "112           6.8          3.0           0.0          2.1   virginica\n",
              "113           5.7          2.5           5.0          0.0   virginica\n",
              "139           6.9          3.1           5.4          0.0   virginica\n",
              "145           6.7          3.0           5.2          0.0   virginica"
            ]
          },
          "metadata": {
            "tags": []
          },
          "execution_count": 29
        }
      ]
    },
    {
      "cell_type": "markdown",
      "metadata": {
        "id": "pQlIlPnMC047"
      },
      "source": [
        "Penanganan missing value pada Pandas akan lebih mudah apabila data yang hilang (bernilai 0.0) diganti dengan NaN (Not A Number). Gunakan properti **replace** pada dataframe untuk menggganti 0.0 menjadi NaN"
      ]
    },
    {
      "cell_type": "code",
      "metadata": {
        "id": "vMQqkH62CSoe"
      },
      "source": [
        "#mengganti nilai missing value 0.0 menjadi NaN agar tidak dideteksi sebagai data yang bernilai 0\n",
        "data = data.replace(0.0, np.NaN)"
      ],
      "execution_count": 30,
      "outputs": []
    },
    {
      "cell_type": "markdown",
      "metadata": {
        "id": "-xQtglGOyCyD"
      },
      "source": [
        "Terdapat beberapa cara untuk mengatasi permasalahan missing value pada data. Salah satu cara yang sederhana adalah dengan mengganti nilai NaN pada suatu fitur dengan rata-rata nilai fitur tersebut pada data lain yang bernilai bukan Nan. Perhatikan bahwa Anda harus mengganti nilai NaN dengan rata-rata data lain yang memiliki kategori (species) yang sama.\n",
        "\n",
        "Fungsi-fungsi pada Pandas yang dapat Anda manfaatkan:\n",
        "\n",
        "\n",
        "1.   **transform** untuk mengaplikasikan fungsi tertentu pada dataframe, pada permasalahan ini fungsi yang digunakan adalah fungsi **mean**\n",
        "2.   **groupby** untuk mengelompokkan dataframe berdasarkan nilai kolom tertentu, pada permasalahan ini kolom yang digunakan adalah **species**\n",
        "3. **fillna** untuk mengganti nilai NaN dengan nilai yang telah ditentukan\n",
        "\n",
        "\n",
        "\n",
        "\n",
        "Buatlah fungsi bernama **imputasi** yang melakukan tahapan berikut:\n",
        "\n",
        "\n",
        "1.   Menghitung rata-rata masing-masing kolom berdasarkan kelasnya\n",
        "2.   Mengisi kolom yang berisi NaN dengan rata-rata kelas yang sesuai\n",
        "\n",
        "\n"
      ]
    },
    {
      "cell_type": "code",
      "metadata": {
        "id": "n-cR9J2EMOMh"
      },
      "source": [
        "#membuat fungsi imputasi untuk mengisi missing value dengan rata-rata tiap kelas\n",
        "def imputasi(df_input):\n",
        "  list_columns = df_input.columns #mendapatkan daftar nama kolom pada datafarme\n",
        "  class_column = list_columns[-1] #kolom terakhir adalah kolom kelas\n",
        "  #melakukan perulangan setiap kolom pada fitur dataframe\n",
        "  for column in list_columns[:-1]:\n",
        "    #mengganti nilai NaN dilakukan per kolom\n",
        "    df_input[column] = df_input[column].fillna(df_input.groupby(class_column)[column].transform('mean'))\n",
        "  #mengembalikan data yang sudah dihandle missing valuenya dengan mean\n",
        "  return df_input"
      ],
      "execution_count": 31,
      "outputs": []
    },
    {
      "cell_type": "markdown",
      "metadata": {
        "id": "fd7tcpRYi8Wx"
      },
      "source": [
        "Buatlah sebuah dataframe baru bernama **data_imputasi** yang berisi dataset dengan nilai NaN yang sudah diganti dengan cara memanggil fungsi **imputasi**."
      ]
    },
    {
      "cell_type": "code",
      "metadata": {
        "id": "DQgmHM96S1Vd"
      },
      "source": [
        "#melakukan handling missing value dengan memanggil fungsi imputasi\n",
        "data_imputasi = imputasi(data)"
      ],
      "execution_count": 32,
      "outputs": []
    },
    {
      "cell_type": "markdown",
      "metadata": {
        "id": "Wxccxn1Njczp"
      },
      "source": [
        "Cek apakah masih terdapat nilai NaN pada dataframe."
      ]
    },
    {
      "cell_type": "code",
      "metadata": {
        "id": "eQPaaaMP9sIA",
        "colab": {
          "base_uri": "https://localhost:8080/"
        },
        "outputId": "0cf3ef07-44d1-4ccc-ac5a-82dd2fa3c4f1"
      },
      "source": [
        "#melakukan pengecekkan apakah ada missing value, jika output false maka missing valuenya sudah tidak ada\n",
        "data_imputasi.isnull().values.any()"
      ],
      "execution_count": 33,
      "outputs": [
        {
          "output_type": "execute_result",
          "data": {
            "text/plain": [
              "False"
            ]
          },
          "metadata": {
            "tags": []
          },
          "execution_count": 33
        }
      ]
    },
    {
      "cell_type": "markdown",
      "metadata": {
        "id": "p9VL92u7jskP"
      },
      "source": [
        "### 3) Normalisasi MinMax\n",
        "Normalisasi bertujuan menyamakan rentang nilai pada setiap fitur. Beberapa metode pembelajaran mesin memiliki kinerja yang buruk apabila rentang nilai tiap variabel berbeda jauh.\n",
        "\n",
        "Sebelum melakukan normalisasi, cek terlebih dahulu rentang (nilai max - nilai min) pada masing masing fitur"
      ]
    },
    {
      "cell_type": "code",
      "metadata": {
        "id": "R9FXu_IQl8Ig"
      },
      "source": [
        "#membuat fungsi cetak_rentang untuk mengetahui rentang sebelum dinormalisasi\n",
        "def cetak_rentang(df_input):\n",
        "  list_fitur= df_input.columns[:-1] #mengambil nama kolom, kecuali yang terakhir (kelas)\n",
        "  #melakukan perulangan untuk setiap fitur pada dataframe\n",
        "  for fitur in list_fitur :\n",
        "    #mengambil nilai maksimum dari tiap fitur\n",
        "    max = df_input[fitur].max()\n",
        "    #mengambil nilai minimum dari tiap fitur\n",
        "    min = df_input[fitur].min()\n",
        "    #menghitung rentang dengan menghitung selisih antara nilai maksimum dan minimum\n",
        "    print('Rentang fitur ',fitur,' adalah ',max-min)"
      ],
      "execution_count": 34,
      "outputs": []
    },
    {
      "cell_type": "code",
      "metadata": {
        "id": "snFnC2rxjmIa",
        "colab": {
          "base_uri": "https://localhost:8080/"
        },
        "outputId": "f4b448f8-f619-400d-c79e-0d2347da110d"
      },
      "source": [
        "#mencetak rentang dataframe dengan memanggil fungsi cetak_rentang\n",
        "cetak_rentang(data_imputasi)"
      ],
      "execution_count": 35,
      "outputs": [
        {
          "output_type": "stream",
          "text": [
            "Rentang fitur  sepal_length  adalah  3.6000000000000005\n",
            "Rentang fitur  sepal_width  adalah  2.4000000000000004\n",
            "Rentang fitur  petal_length  adalah  5.9\n",
            "Rentang fitur  petal_width  adalah  2.4\n"
          ],
          "name": "stdout"
        }
      ]
    },
    {
      "cell_type": "markdown",
      "metadata": {
        "id": "JpDTiUpElTRN"
      },
      "source": [
        "Terlihat bahwa masing-masing fitur memiliki rentang yang berbeda, meskipun tidak terlalu signifikan. Pada praktikum ini Anda akan mengimplementasikan normalisasi MinMax untuk menyamakan rentang setiap fitur menjadi satu (1). Persamaan dari fungsi normalisasi MinMax adalah sebagai berikut:\n",
        "\n",
        "$x'=\\frac{x-min(x)}{max(x)-min(x)}$\n",
        "\n",
        "dimana $x'$ merupakan nilai ternormalisasi, $x$ adalah nilai asal, $min(x)$ merupakan nilai minimum pada suatu fitur, dan $max(x)$ merupakan nilai maksimum pada suatu fitur.\n",
        "\n",
        "Implementasikan metode normalisasi MinMax pada fungsi bernama **minmax**.\n"
      ]
    },
    {
      "cell_type": "code",
      "metadata": {
        "id": "tQmEe-Qckfnb"
      },
      "source": [
        "#membuat fungsi minmax untuk melakukan normalisasi pada dataset\n",
        "def minmax(df_input):\n",
        "  #mengambil nama kolom (fitur), kecuali yang terakhir (kelas)\n",
        "  list_fitur = df_input.columns[:-1]\n",
        "  #melakukan perulangan untuk setiap fitur pada dataframe\n",
        "  for fitur in list_fitur :\n",
        "    #mengambil nilai maksimum dari tiap fitur\n",
        "    max = df_input[fitur].max()\n",
        "    #mengambil nilai minimum dari tiap fitur\n",
        "    min = df_input[fitur].min()\n",
        "    #mengganti nilai data setiap fitur dengan rumus minmax\n",
        "    df_input[fitur] = (df_input[fitur]-min)/(max-min)\n",
        "  #mengembalikan data yang sudah ternormalisasi\n",
        "  return df_input"
      ],
      "execution_count": 36,
      "outputs": []
    },
    {
      "cell_type": "markdown",
      "metadata": {
        "id": "Lj32Smx6n8LU"
      },
      "source": [
        "Buatlah sebuah dataframe baru bernama **data_normal** yang berisi hasil dari metode minmax dengan input **data_imputasi**"
      ]
    },
    {
      "cell_type": "code",
      "metadata": {
        "id": "Ow1QWldFnvBu"
      },
      "source": [
        "#membuat copy data imputasi agar mereferensi ke alamat yang berbeda\n",
        "#(agar data zscore tidak melakukan normalisasi data imputasi yang sudah dinormalisasi)\n",
        "data_imputasi1 = data_imputasi.copy()\n",
        "#melakukan normalisasi dengan memanggil fungsi minmax\n",
        "data_normal = minmax(data_imputasi1)"
      ],
      "execution_count": 37,
      "outputs": []
    },
    {
      "cell_type": "markdown",
      "metadata": {
        "id": "4OHT17WfoGou"
      },
      "source": [
        "Cek 5 baris pertama **data_normal**"
      ]
    },
    {
      "cell_type": "code",
      "metadata": {
        "id": "fbbNpN9enzYI",
        "colab": {
          "base_uri": "https://localhost:8080/",
          "height": 204
        },
        "outputId": "3eec225c-d8b7-4318-8bd2-47671e17d653"
      },
      "source": [
        "#menampilkan 5 data pertama yang sudah dinormalisasi\n",
        "data_normal.head()"
      ],
      "execution_count": 38,
      "outputs": [
        {
          "output_type": "execute_result",
          "data": {
            "text/html": [
              "<div>\n",
              "<style scoped>\n",
              "    .dataframe tbody tr th:only-of-type {\n",
              "        vertical-align: middle;\n",
              "    }\n",
              "\n",
              "    .dataframe tbody tr th {\n",
              "        vertical-align: top;\n",
              "    }\n",
              "\n",
              "    .dataframe thead th {\n",
              "        text-align: right;\n",
              "    }\n",
              "</style>\n",
              "<table border=\"1\" class=\"dataframe\">\n",
              "  <thead>\n",
              "    <tr style=\"text-align: right;\">\n",
              "      <th></th>\n",
              "      <th>sepal_length</th>\n",
              "      <th>sepal_width</th>\n",
              "      <th>petal_length</th>\n",
              "      <th>petal_width</th>\n",
              "      <th>species</th>\n",
              "    </tr>\n",
              "  </thead>\n",
              "  <tbody>\n",
              "    <tr>\n",
              "      <th>0</th>\n",
              "      <td>0.222222</td>\n",
              "      <td>0.625000</td>\n",
              "      <td>0.067797</td>\n",
              "      <td>0.041667</td>\n",
              "      <td>setosa</td>\n",
              "    </tr>\n",
              "    <tr>\n",
              "      <th>1</th>\n",
              "      <td>0.166667</td>\n",
              "      <td>0.416667</td>\n",
              "      <td>0.067797</td>\n",
              "      <td>0.041667</td>\n",
              "      <td>setosa</td>\n",
              "    </tr>\n",
              "    <tr>\n",
              "      <th>2</th>\n",
              "      <td>0.199074</td>\n",
              "      <td>0.500000</td>\n",
              "      <td>0.050847</td>\n",
              "      <td>0.041667</td>\n",
              "      <td>setosa</td>\n",
              "    </tr>\n",
              "    <tr>\n",
              "      <th>3</th>\n",
              "      <td>0.083333</td>\n",
              "      <td>0.458333</td>\n",
              "      <td>0.084746</td>\n",
              "      <td>0.041667</td>\n",
              "      <td>setosa</td>\n",
              "    </tr>\n",
              "    <tr>\n",
              "      <th>4</th>\n",
              "      <td>0.194444</td>\n",
              "      <td>0.666667</td>\n",
              "      <td>0.067797</td>\n",
              "      <td>0.041667</td>\n",
              "      <td>setosa</td>\n",
              "    </tr>\n",
              "  </tbody>\n",
              "</table>\n",
              "</div>"
            ],
            "text/plain": [
              "   sepal_length  sepal_width  petal_length  petal_width species\n",
              "0      0.222222     0.625000      0.067797     0.041667  setosa\n",
              "1      0.166667     0.416667      0.067797     0.041667  setosa\n",
              "2      0.199074     0.500000      0.050847     0.041667  setosa\n",
              "3      0.083333     0.458333      0.084746     0.041667  setosa\n",
              "4      0.194444     0.666667      0.067797     0.041667  setosa"
            ]
          },
          "metadata": {
            "tags": []
          },
          "execution_count": 38
        }
      ]
    },
    {
      "cell_type": "markdown",
      "metadata": {
        "id": "HWU0cCGBoOLR"
      },
      "source": [
        "Tampilkan rentang masing-masing fitur menggunakan fungsi **cetak_rentang** yang telah dibuat"
      ]
    },
    {
      "cell_type": "code",
      "metadata": {
        "id": "qQay3cQ5n1rk",
        "colab": {
          "base_uri": "https://localhost:8080/"
        },
        "outputId": "11584d06-622c-4e42-f3ba-e8fcfabe80c2"
      },
      "source": [
        "#menampilkan rentang data yang sudah dinormalisasi\n",
        "cetak_rentang(data_normal)"
      ],
      "execution_count": 39,
      "outputs": [
        {
          "output_type": "stream",
          "text": [
            "Rentang fitur  sepal_length  adalah  1.0\n",
            "Rentang fitur  sepal_width  adalah  1.0\n",
            "Rentang fitur  petal_length  adalah  1.0\n",
            "Rentang fitur  petal_width  adalah  1.0\n"
          ],
          "name": "stdout"
        }
      ]
    },
    {
      "cell_type": "markdown",
      "metadata": {
        "id": "7br3-zmsp5Dx"
      },
      "source": [
        "## TUGAS\n",
        "1. Implementasikan metode normalisasi Z-score dengan cara membuat fungsi bernama **zscore**.\n",
        "2. Normalisasikan dataframe **data_imputasi** menggunakan fungsi **zscore**. Simpan hasilnya pada dataframe bernama **data_zscore**.\n",
        "3. Jelaskan perbedaan hasil normalisasi **MinMax** dan **ZScore**. Petunjuk : cek nilai rentang, rata-rata dan standar deviasi dari **data_zscore**.\n"
      ]
    },
    {
      "cell_type": "code",
      "metadata": {
        "id": "jQwH6j-0n4-w"
      },
      "source": [
        "#membuat fungsi zscore untuk melakukan normalisasi pada dataset\n",
        "def zscore(df_input):\n",
        "  #mengambil nama kolom (fitur), kecuali yang terakhir (kelas)\n",
        "  list_fitur = df_input.columns[:-1]\n",
        "  #melakukan perulangan untuk setiap fitur pada dataframe\n",
        "  for fitur in list_fitur :\n",
        "    #mengambil nilai rata-rata dari tiap fitur\n",
        "    avg = df_input[fitur].mean()\n",
        "    #mengambil nilai standar deviasi dari tiap fitur\n",
        "    stdev = df_input[fitur].std()\n",
        "    #mengganti nilai data setiap fitur dengan rumus zscore\n",
        "    df_input[fitur] = ((df_input[fitur]-avg)/stdev)\n",
        "  #mengembalikan data yang sudah ternormalisasi\n",
        "  return df_input"
      ],
      "execution_count": 40,
      "outputs": []
    },
    {
      "cell_type": "code",
      "metadata": {
        "id": "CRXju1M1mTlJ"
      },
      "source": [
        "#membuat copy data imputasi agar mereferensi ke alamat yang berbeda\n",
        "#agar data zscore tidak melakukan normalisasi data normal minmax)\n",
        "data_imputasi2 = data_imputasi.copy()\n",
        "#melakukan normalisasi dengan memanggil fungsi minmax\n",
        "data_zscore = zscore(data_imputasi2)"
      ],
      "execution_count": 41,
      "outputs": []
    },
    {
      "cell_type": "code",
      "metadata": {
        "colab": {
          "base_uri": "https://localhost:8080/",
          "height": 204
        },
        "id": "IrFJX4VvGnLR",
        "outputId": "12bb4996-6163-4320-f622-0524c552d953"
      },
      "source": [
        "#menampilkan 5 data teratas yang sudah dinormalisasi\n",
        "data_zscore.head()"
      ],
      "execution_count": 42,
      "outputs": [
        {
          "output_type": "execute_result",
          "data": {
            "text/html": [
              "<div>\n",
              "<style scoped>\n",
              "    .dataframe tbody tr th:only-of-type {\n",
              "        vertical-align: middle;\n",
              "    }\n",
              "\n",
              "    .dataframe tbody tr th {\n",
              "        vertical-align: top;\n",
              "    }\n",
              "\n",
              "    .dataframe thead th {\n",
              "        text-align: right;\n",
              "    }\n",
              "</style>\n",
              "<table border=\"1\" class=\"dataframe\">\n",
              "  <thead>\n",
              "    <tr style=\"text-align: right;\">\n",
              "      <th></th>\n",
              "      <th>sepal_length</th>\n",
              "      <th>sepal_width</th>\n",
              "      <th>petal_length</th>\n",
              "      <th>petal_width</th>\n",
              "      <th>species</th>\n",
              "    </tr>\n",
              "  </thead>\n",
              "  <tbody>\n",
              "    <tr>\n",
              "      <th>0</th>\n",
              "      <td>-0.907825</td>\n",
              "      <td>1.067415</td>\n",
              "      <td>-1.337827</td>\n",
              "      <td>-1.310036</td>\n",
              "      <td>setosa</td>\n",
              "    </tr>\n",
              "    <tr>\n",
              "      <th>1</th>\n",
              "      <td>-1.152507</td>\n",
              "      <td>-0.103209</td>\n",
              "      <td>-1.337827</td>\n",
              "      <td>-1.310036</td>\n",
              "      <td>setosa</td>\n",
              "    </tr>\n",
              "    <tr>\n",
              "      <th>2</th>\n",
              "      <td>-1.009776</td>\n",
              "      <td>0.365041</td>\n",
              "      <td>-1.394502</td>\n",
              "      <td>-1.310036</td>\n",
              "      <td>setosa</td>\n",
              "    </tr>\n",
              "    <tr>\n",
              "      <th>3</th>\n",
              "      <td>-1.519530</td>\n",
              "      <td>0.130916</td>\n",
              "      <td>-1.281153</td>\n",
              "      <td>-1.310036</td>\n",
              "      <td>setosa</td>\n",
              "    </tr>\n",
              "    <tr>\n",
              "      <th>4</th>\n",
              "      <td>-1.030166</td>\n",
              "      <td>1.301539</td>\n",
              "      <td>-1.337827</td>\n",
              "      <td>-1.310036</td>\n",
              "      <td>setosa</td>\n",
              "    </tr>\n",
              "  </tbody>\n",
              "</table>\n",
              "</div>"
            ],
            "text/plain": [
              "   sepal_length  sepal_width  petal_length  petal_width species\n",
              "0     -0.907825     1.067415     -1.337827    -1.310036  setosa\n",
              "1     -1.152507    -0.103209     -1.337827    -1.310036  setosa\n",
              "2     -1.009776     0.365041     -1.394502    -1.310036  setosa\n",
              "3     -1.519530     0.130916     -1.281153    -1.310036  setosa\n",
              "4     -1.030166     1.301539     -1.337827    -1.310036  setosa"
            ]
          },
          "metadata": {
            "tags": []
          },
          "execution_count": 42
        }
      ]
    },
    {
      "cell_type": "code",
      "metadata": {
        "id": "KCxEWCRCmr-h",
        "colab": {
          "base_uri": "https://localhost:8080/"
        },
        "outputId": "3aa4fff1-3191-4c30-9f61-f42c8df22ac0"
      },
      "source": [
        "#menampilkan rentang data yang sudah dinormalisasi menggunakan zscore\n",
        "cetak_rentang(data_zscore)"
      ],
      "execution_count": 43,
      "outputs": [
        {
          "output_type": "stream",
          "text": [
            "Rentang fitur  sepal_length  adalah  4.404274071759238\n",
            "Rentang fitur  sepal_width  adalah  5.618992178331548\n",
            "Rentang fitur  petal_length  adalah  3.3437971620673492\n",
            "Rentang fitur  petal_width  adalah  3.1570957553844208\n"
          ],
          "name": "stdout"
        }
      ]
    },
    {
      "cell_type": "markdown",
      "metadata": {
        "id": "wIR0eFqQoob8"
      },
      "source": [
        "Jawaban no 3 :\n",
        "\n",
        "Normalisasi Zscore  merupakan normalisasi yang menggunakan ukuran penyimpangan data dari rata-rata yang diukur dalam satuan standar deviasi. Jika nilai data diatas z scorenya maka akan bernilai positif dan jika nilainya di bawah z score maka nilainya negatif. Normalisasi Zscore sama juga dengan menstandarisasikan nilai-nilai skor mentah atau nilai yang diamati dari distribusi normal menjadi Z Score atau Skor Z. Hasil dari normalisasi ini adalah rata-rata yang bernilai 0 dan standar deviasi yang bernilai 1 (distribusi normal standar), dan rentangnya mulai dari -3 hingga 3 (6).\n",
        "\n",
        "Sedangkan normalisasi minmax merupakan salah satu metode normalisasi yang sering digunakan. Untuk setiap fitur akan diubah 0 untuk nilai minimumnya dan 1 untuk nilai maksimum, dan setiap nilai yang lain akan ditransformasikan antara nilai 0 dan 1 sehingga rentang pada normalisasi ini adalah 1. Karena rentangnya hanya 1 maka nilai rata-rata dan standar deviasinya antara 0 dan 1 juga (desimal).\n"
      ]
    },
    {
      "cell_type": "code",
      "metadata": {
        "colab": {
          "base_uri": "https://localhost:8080/"
        },
        "id": "0AYk7sZ7ID8d",
        "outputId": "a1a836a5-c7c1-4373-b46c-54239ee46b4d"
      },
      "source": [
        "#menampilkan rentang data normalisasi menggunakan minmax\n",
        "cetak_rentang(data_normal)"
      ],
      "execution_count": 44,
      "outputs": [
        {
          "output_type": "stream",
          "text": [
            "Rentang fitur  sepal_length  adalah  1.0\n",
            "Rentang fitur  sepal_width  adalah  1.0\n",
            "Rentang fitur  petal_length  adalah  1.0\n",
            "Rentang fitur  petal_width  adalah  1.0\n"
          ],
          "name": "stdout"
        }
      ]
    },
    {
      "cell_type": "code",
      "metadata": {
        "id": "hNLI-K6YnVvM",
        "colab": {
          "base_uri": "https://localhost:8080/"
        },
        "outputId": "537d9f36-f84f-44eb-b77d-0ee8f08a67c4"
      },
      "source": [
        "#menampilkan rentang data normalisasi menggunakan zscore\n",
        "cetak_rentang(data_zscore)"
      ],
      "execution_count": 45,
      "outputs": [
        {
          "output_type": "stream",
          "text": [
            "Rentang fitur  sepal_length  adalah  4.404274071759238\n",
            "Rentang fitur  sepal_width  adalah  5.618992178331548\n",
            "Rentang fitur  petal_length  adalah  3.3437971620673492\n",
            "Rentang fitur  petal_width  adalah  3.1570957553844208\n"
          ],
          "name": "stdout"
        }
      ]
    },
    {
      "cell_type": "code",
      "metadata": {
        "colab": {
          "base_uri": "https://localhost:8080/"
        },
        "id": "6n9xC7XsIIgL",
        "outputId": "825f6fb5-7c5f-4fd3-c81e-e042993231a2"
      },
      "source": [
        "#menampilkan rata-rata data normalisasi menggunakan minmax\n",
        "data_normal.mean()"
      ],
      "execution_count": 46,
      "outputs": [
        {
          "output_type": "execute_result",
          "data": {
            "text/plain": [
              "sepal_length    0.428346\n",
              "sepal_width     0.435034\n",
              "petal_length    0.467889\n",
              "petal_width     0.456616\n",
              "dtype: float64"
            ]
          },
          "metadata": {
            "tags": []
          },
          "execution_count": 46
        }
      ]
    },
    {
      "cell_type": "code",
      "metadata": {
        "colab": {
          "base_uri": "https://localhost:8080/"
        },
        "id": "H4r5ZyZcINgR",
        "outputId": "b9fc76fd-61b0-479e-fdcf-e62f41e824c5"
      },
      "source": [
        "#menampilkan rata-rata data normalisasi menggunakan zscore\n",
        "data_zscore.mean()"
      ],
      "execution_count": 47,
      "outputs": [
        {
          "output_type": "execute_result",
          "data": {
            "text/plain": [
              "sepal_length   -2.854383e-15\n",
              "sepal_width    -1.943723e-15\n",
              "petal_length   -1.515084e-15\n",
              "petal_width    -7.490305e-16\n",
              "dtype: float64"
            ]
          },
          "metadata": {
            "tags": []
          },
          "execution_count": 47
        }
      ]
    },
    {
      "cell_type": "code",
      "metadata": {
        "colab": {
          "base_uri": "https://localhost:8080/"
        },
        "id": "bYo_mXdSIVlm",
        "outputId": "d542e9c8-f460-48c5-a7e4-94ae175f4cbe"
      },
      "source": [
        "#menampilkan standar deviasi data normalisasi menggunakan minmax\n",
        "data_normal.std()"
      ],
      "execution_count": 48,
      "outputs": [
        {
          "output_type": "execute_result",
          "data": {
            "text/plain": [
              "sepal_length    0.227052\n",
              "sepal_width     0.177968\n",
              "petal_length    0.299061\n",
              "petal_width     0.316747\n",
              "dtype: float64"
            ]
          },
          "metadata": {
            "tags": []
          },
          "execution_count": 48
        }
      ]
    },
    {
      "cell_type": "code",
      "metadata": {
        "colab": {
          "base_uri": "https://localhost:8080/"
        },
        "id": "neRTdYUsIQ5d",
        "outputId": "737aa25b-1a3d-45bc-a06f-2996d9633b8d"
      },
      "source": [
        "#menampilkan standar deviasi data normalisasi menggunakan zscore\n",
        "data_zscore.std()"
      ],
      "execution_count": 49,
      "outputs": [
        {
          "output_type": "execute_result",
          "data": {
            "text/plain": [
              "sepal_length    1.0\n",
              "sepal_width     1.0\n",
              "petal_length    1.0\n",
              "petal_width     1.0\n",
              "dtype: float64"
            ]
          },
          "metadata": {
            "tags": []
          },
          "execution_count": 49
        }
      ]
    }
  ]
}