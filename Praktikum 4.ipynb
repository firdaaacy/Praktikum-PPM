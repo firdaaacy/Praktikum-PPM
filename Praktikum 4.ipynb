{
  "nbformat": 4,
  "nbformat_minor": 0,
  "metadata": {
    "colab": {
      "name": "Praktikum 4 - 195150201111037 - Firda Adha Cahyanti",
      "provenance": [],
      "collapsed_sections": [],
      "include_colab_link": true
    },
    "kernelspec": {
      "name": "python3",
      "display_name": "Python 3"
    }
  },
  "cells": [
    {
      "cell_type": "markdown",
      "metadata": {
        "id": "view-in-github",
        "colab_type": "text"
      },
      "source": [
        "<a href=\"https://colab.research.google.com/github/firdaaacy/Praktikum-PPM/blob/main/Praktikum%204.ipynb\" target=\"_parent\"><img src=\"https://colab.research.google.com/assets/colab-badge.svg\" alt=\"Open In Colab\"/></a>"
      ]
    },
    {
      "cell_type": "markdown",
      "metadata": {
        "id": "-qDsm6BnME2X"
      },
      "source": [
        "# Praktikum Pengantar Pembelajaran Mesin\n",
        "\n",
        "\n",
        "---\n",
        "## Bab 4. Klasifikasi Naive Bayes\n"
      ]
    },
    {
      "cell_type": "markdown",
      "metadata": {
        "id": "sQAGcnK3MOS7"
      },
      "source": [
        "### 1) Import Data\n",
        "\n",
        "Unduh dataset yang akan digunakan pada praktikum kali ini. Anda dapat menggunakan aplikasi wget untuk mendowload dataset dan menyimpannya dalam Google Colab. Jalankan cell di bawah ini untuk mengunduh dataset"
      ]
    },
    {
      "cell_type": "code",
      "metadata": {
        "id": "FpjqVlzBMNLd",
        "colab": {
          "base_uri": "https://localhost:8080/"
        },
        "outputId": "e26f3cb7-fd75-4494-e44b-557d259da618"
      },
      "source": [
        "#mengunduh dataset yang akan digunakan\n",
        "!wget https://dataset-ppm.s3.amazonaws.com/iris.csv"
      ],
      "execution_count": 141,
      "outputs": [
        {
          "output_type": "stream",
          "text": [
            "--2021-07-09 13:55:24--  https://dataset-ppm.s3.amazonaws.com/iris.csv\n",
            "Resolving dataset-ppm.s3.amazonaws.com (dataset-ppm.s3.amazonaws.com)... 52.216.176.51\n",
            "Connecting to dataset-ppm.s3.amazonaws.com (dataset-ppm.s3.amazonaws.com)|52.216.176.51|:443... connected.\n",
            "HTTP request sent, awaiting response... 200 OK\n",
            "Length: 4609 (4.5K) [text/csv]\n",
            "Saving to: ‘iris.csv.4’\n",
            "\n",
            "iris.csv.4          100%[===================>]   4.50K  --.-KB/s    in 0s      \n",
            "\n",
            "2021-07-09 13:55:25 (195 MB/s) - ‘iris.csv.4’ saved [4609/4609]\n",
            "\n"
          ],
          "name": "stdout"
        }
      ]
    },
    {
      "cell_type": "markdown",
      "metadata": {
        "id": "SJy4t3lIOgGp"
      },
      "source": [
        "Setelah dataset berhasil diunduh, langkah berikutnya adalah membaca dataset dengan memanfaatkan fungsi **readcsv** dari library pandas. Lakukan pembacaan berkas csv ke dalam dataframe dengan nama **data** menggunakan fungsi **readcsv**. Jangan lupa untuk melakukan import library pandas terlebih dahulu\n"
      ]
    },
    {
      "cell_type": "code",
      "metadata": {
        "id": "mdhbxk_2OzbB"
      },
      "source": [
        "#melakukan import library yang akan digunakan\n",
        "import pandas as pd #pemanggilan library pandas dengan alias pemanggilan pd\n",
        "import numpy as np #pemanggilan library numpy dengan alias pemanggilan np\n",
        "\n",
        "#melakukan pembacaan dataset yang sudah diunduh menggunakan pandas\n",
        "data = pd.read_csv('iris.csv')"
      ],
      "execution_count": 142,
      "outputs": []
    },
    {
      "cell_type": "markdown",
      "metadata": {
        "id": "w6NfrIDTOK38"
      },
      "source": [
        "\n",
        "\n",
        "Cek isi dataset Anda dengan menggunakan perintah **head()**"
      ]
    },
    {
      "cell_type": "code",
      "metadata": {
        "id": "Uaiaj796OFH3",
        "colab": {
          "base_uri": "https://localhost:8080/",
          "height": 204
        },
        "outputId": "2f62a629-5a81-4936-8432-c9da89f573cf"
      },
      "source": [
        "#menampilkan 5 data teratas\n",
        "data.head()"
      ],
      "execution_count": 143,
      "outputs": [
        {
          "output_type": "execute_result",
          "data": {
            "text/html": [
              "<div>\n",
              "<style scoped>\n",
              "    .dataframe tbody tr th:only-of-type {\n",
              "        vertical-align: middle;\n",
              "    }\n",
              "\n",
              "    .dataframe tbody tr th {\n",
              "        vertical-align: top;\n",
              "    }\n",
              "\n",
              "    .dataframe thead th {\n",
              "        text-align: right;\n",
              "    }\n",
              "</style>\n",
              "<table border=\"1\" class=\"dataframe\">\n",
              "  <thead>\n",
              "    <tr style=\"text-align: right;\">\n",
              "      <th></th>\n",
              "      <th>sepal_length</th>\n",
              "      <th>sepal_width</th>\n",
              "      <th>petal_length</th>\n",
              "      <th>petal_width</th>\n",
              "      <th>species</th>\n",
              "    </tr>\n",
              "  </thead>\n",
              "  <tbody>\n",
              "    <tr>\n",
              "      <th>0</th>\n",
              "      <td>5.1</td>\n",
              "      <td>3.5</td>\n",
              "      <td>1.4</td>\n",
              "      <td>0.2</td>\n",
              "      <td>Iris-setosa</td>\n",
              "    </tr>\n",
              "    <tr>\n",
              "      <th>1</th>\n",
              "      <td>4.9</td>\n",
              "      <td>3.0</td>\n",
              "      <td>1.4</td>\n",
              "      <td>0.2</td>\n",
              "      <td>Iris-setosa</td>\n",
              "    </tr>\n",
              "    <tr>\n",
              "      <th>2</th>\n",
              "      <td>4.7</td>\n",
              "      <td>3.2</td>\n",
              "      <td>1.3</td>\n",
              "      <td>0.2</td>\n",
              "      <td>Iris-setosa</td>\n",
              "    </tr>\n",
              "    <tr>\n",
              "      <th>3</th>\n",
              "      <td>4.6</td>\n",
              "      <td>3.1</td>\n",
              "      <td>1.5</td>\n",
              "      <td>0.2</td>\n",
              "      <td>Iris-setosa</td>\n",
              "    </tr>\n",
              "    <tr>\n",
              "      <th>4</th>\n",
              "      <td>5.0</td>\n",
              "      <td>3.6</td>\n",
              "      <td>1.4</td>\n",
              "      <td>0.2</td>\n",
              "      <td>Iris-setosa</td>\n",
              "    </tr>\n",
              "  </tbody>\n",
              "</table>\n",
              "</div>"
            ],
            "text/plain": [
              "   sepal_length  sepal_width  petal_length  petal_width      species\n",
              "0           5.1          3.5           1.4          0.2  Iris-setosa\n",
              "1           4.9          3.0           1.4          0.2  Iris-setosa\n",
              "2           4.7          3.2           1.3          0.2  Iris-setosa\n",
              "3           4.6          3.1           1.5          0.2  Iris-setosa\n",
              "4           5.0          3.6           1.4          0.2  Iris-setosa"
            ]
          },
          "metadata": {
            "tags": []
          },
          "execution_count": 143
        }
      ]
    },
    {
      "cell_type": "markdown",
      "metadata": {
        "id": "lfi1uHIxPdDe"
      },
      "source": [
        "## 2) Membagi data menjadi data latih dan data uji\n",
        "\n",
        "Metode pembelajaran mesin memerlukan dua jenis data :\n",
        "\n",
        "\n",
        "1.   Data latih : Digunakan untuk proses training metode klasifikasi\n",
        "2.   Data uji : Digunakan untuk proses evaluasi metode klasifikasi\n",
        "\n",
        "Data uji dan data latih perlu dibuat terpisah (mutualy exclusive) agar hasil evaluasi lebih akurat.\n",
        "\n",
        "Data uji dan data latih dapat dibuat dengan cara membagi dataset dengan rasio tertentu, misalnya 80% data latih dan 20% data uji.\n",
        "\n",
        "Library Scikit-learn memiliki fungsi [train_test_split](https://scikit-learn.org/stable/modules/generated/sklearn.model_selection.train_test_split.html) pada modul **model_selection** untuk membagi dataset menjadi data latih dan data uji. Bagilah dataset anda menjadi dua, yaitu **data_latih** dan **data_uji**.\n"
      ]
    },
    {
      "cell_type": "code",
      "metadata": {
        "id": "jJjfXgfmPTlU"
      },
      "source": [
        "#melakukan import sebagian library yang akan digunakan\n",
        "#pada kasus  ini hanya mengimport train_test_split dari modul sklearn.model_selection\n",
        "from sklearn.model_selection import train_test_split\n",
        "#melakukan pembagian dataset dengan pembagian 20% data uji dan 80% data latih\n",
        "data_latih, data_uji = train_test_split(data, test_size = 0.2)"
      ],
      "execution_count": 144,
      "outputs": []
    },
    {
      "cell_type": "markdown",
      "metadata": {
        "id": "tBhcsUDYfw2q"
      },
      "source": [
        "Tampilkan banyaknya data pada **data_latih** dan **data_uji**. Seharusnya **data_latih** terdiri dari 120 data, dan **data_uji** terdiri dari 30 data"
      ]
    },
    {
      "cell_type": "code",
      "metadata": {
        "id": "6OtySD4efmmQ",
        "colab": {
          "base_uri": "https://localhost:8080/"
        },
        "outputId": "da667685-9274-41da-ef6b-9559e5f0f6d8"
      },
      "source": [
        "#menampilkan jumlah baris data uji yang sudah dibagi 20% dari dataset\n",
        "print(data_uji.shape[0])\n",
        "#menampilkan jumlah baris data latih yang sudah dibagi 80% dari dataset\n",
        "print(data_latih.shape[0])"
      ],
      "execution_count": 145,
      "outputs": [
        {
          "output_type": "stream",
          "text": [
            "30\n",
            "120\n"
          ],
          "name": "stdout"
        }
      ]
    },
    {
      "cell_type": "markdown",
      "metadata": {
        "id": "DeU-FCyTkVKC"
      },
      "source": [
        "Pisahkan label/kategori dari data uji menjadi variabel tersendiri. Beri nama variabelnya  **label_uji**"
      ]
    },
    {
      "cell_type": "code",
      "metadata": {
        "id": "e4vC_M0mkkl3"
      },
      "source": [
        "#melakukan pemisahan antara fitur dan label dengan melakukan pop pada kolom spesies pada label latih\n",
        "data_latih1 = data_latih.copy()\n",
        "label_latih = data_latih1.pop('species')\n",
        "#melakukan pemisahan antara fitur dan label dengan melakukan pop pada kolom spesies pada label uji\n",
        "data_uji1 = data_uji.copy()\n",
        "label_uji = data_uji1.pop('species')"
      ],
      "execution_count": 146,
      "outputs": []
    },
    {
      "cell_type": "code",
      "metadata": {
        "id": "ogQLMrUjlU2_",
        "colab": {
          "base_uri": "https://localhost:8080/",
          "height": 204
        },
        "outputId": "cfc665cc-d142-4753-a342-4f97214991ed"
      },
      "source": [
        "#menampilkan data uji yang hanya berisikan fitur data saja tanpa label\n",
        "data_uji1.head()"
      ],
      "execution_count": 147,
      "outputs": [
        {
          "output_type": "execute_result",
          "data": {
            "text/html": [
              "<div>\n",
              "<style scoped>\n",
              "    .dataframe tbody tr th:only-of-type {\n",
              "        vertical-align: middle;\n",
              "    }\n",
              "\n",
              "    .dataframe tbody tr th {\n",
              "        vertical-align: top;\n",
              "    }\n",
              "\n",
              "    .dataframe thead th {\n",
              "        text-align: right;\n",
              "    }\n",
              "</style>\n",
              "<table border=\"1\" class=\"dataframe\">\n",
              "  <thead>\n",
              "    <tr style=\"text-align: right;\">\n",
              "      <th></th>\n",
              "      <th>sepal_length</th>\n",
              "      <th>sepal_width</th>\n",
              "      <th>petal_length</th>\n",
              "      <th>petal_width</th>\n",
              "    </tr>\n",
              "  </thead>\n",
              "  <tbody>\n",
              "    <tr>\n",
              "      <th>84</th>\n",
              "      <td>5.4</td>\n",
              "      <td>3.0</td>\n",
              "      <td>4.5</td>\n",
              "      <td>1.5</td>\n",
              "    </tr>\n",
              "    <tr>\n",
              "      <th>49</th>\n",
              "      <td>5.0</td>\n",
              "      <td>3.3</td>\n",
              "      <td>1.4</td>\n",
              "      <td>0.2</td>\n",
              "    </tr>\n",
              "    <tr>\n",
              "      <th>9</th>\n",
              "      <td>4.9</td>\n",
              "      <td>3.1</td>\n",
              "      <td>1.5</td>\n",
              "      <td>0.1</td>\n",
              "    </tr>\n",
              "    <tr>\n",
              "      <th>102</th>\n",
              "      <td>7.1</td>\n",
              "      <td>3.0</td>\n",
              "      <td>5.9</td>\n",
              "      <td>2.1</td>\n",
              "    </tr>\n",
              "    <tr>\n",
              "      <th>100</th>\n",
              "      <td>6.3</td>\n",
              "      <td>3.3</td>\n",
              "      <td>6.0</td>\n",
              "      <td>2.5</td>\n",
              "    </tr>\n",
              "  </tbody>\n",
              "</table>\n",
              "</div>"
            ],
            "text/plain": [
              "     sepal_length  sepal_width  petal_length  petal_width\n",
              "84            5.4          3.0           4.5          1.5\n",
              "49            5.0          3.3           1.4          0.2\n",
              "9             4.9          3.1           1.5          0.1\n",
              "102           7.1          3.0           5.9          2.1\n",
              "100           6.3          3.3           6.0          2.5"
            ]
          },
          "metadata": {
            "tags": []
          },
          "execution_count": 147
        }
      ]
    },
    {
      "cell_type": "code",
      "metadata": {
        "colab": {
          "base_uri": "https://localhost:8080/",
          "height": 204
        },
        "id": "PV04PBWRpIDH",
        "outputId": "0b670775-fdc1-420a-cf24-b59fe167ae2c"
      },
      "source": [
        "#menampilkan data latih yang hanya berisikan fitur data saja tanpa label\n",
        "data_latih1.head()"
      ],
      "execution_count": 148,
      "outputs": [
        {
          "output_type": "execute_result",
          "data": {
            "text/html": [
              "<div>\n",
              "<style scoped>\n",
              "    .dataframe tbody tr th:only-of-type {\n",
              "        vertical-align: middle;\n",
              "    }\n",
              "\n",
              "    .dataframe tbody tr th {\n",
              "        vertical-align: top;\n",
              "    }\n",
              "\n",
              "    .dataframe thead th {\n",
              "        text-align: right;\n",
              "    }\n",
              "</style>\n",
              "<table border=\"1\" class=\"dataframe\">\n",
              "  <thead>\n",
              "    <tr style=\"text-align: right;\">\n",
              "      <th></th>\n",
              "      <th>sepal_length</th>\n",
              "      <th>sepal_width</th>\n",
              "      <th>petal_length</th>\n",
              "      <th>petal_width</th>\n",
              "    </tr>\n",
              "  </thead>\n",
              "  <tbody>\n",
              "    <tr>\n",
              "      <th>18</th>\n",
              "      <td>5.7</td>\n",
              "      <td>3.8</td>\n",
              "      <td>1.7</td>\n",
              "      <td>0.3</td>\n",
              "    </tr>\n",
              "    <tr>\n",
              "      <th>119</th>\n",
              "      <td>6.0</td>\n",
              "      <td>2.2</td>\n",
              "      <td>5.0</td>\n",
              "      <td>1.5</td>\n",
              "    </tr>\n",
              "    <tr>\n",
              "      <th>129</th>\n",
              "      <td>7.2</td>\n",
              "      <td>3.0</td>\n",
              "      <td>5.8</td>\n",
              "      <td>1.6</td>\n",
              "    </tr>\n",
              "    <tr>\n",
              "      <th>53</th>\n",
              "      <td>5.5</td>\n",
              "      <td>2.3</td>\n",
              "      <td>4.0</td>\n",
              "      <td>1.3</td>\n",
              "    </tr>\n",
              "    <tr>\n",
              "      <th>135</th>\n",
              "      <td>7.7</td>\n",
              "      <td>3.0</td>\n",
              "      <td>6.1</td>\n",
              "      <td>2.3</td>\n",
              "    </tr>\n",
              "  </tbody>\n",
              "</table>\n",
              "</div>"
            ],
            "text/plain": [
              "     sepal_length  sepal_width  petal_length  petal_width\n",
              "18            5.7          3.8           1.7          0.3\n",
              "119           6.0          2.2           5.0          1.5\n",
              "129           7.2          3.0           5.8          1.6\n",
              "53            5.5          2.3           4.0          1.3\n",
              "135           7.7          3.0           6.1          2.3"
            ]
          },
          "metadata": {
            "tags": []
          },
          "execution_count": 148
        }
      ]
    },
    {
      "cell_type": "markdown",
      "metadata": {
        "id": "xm_dJNeMgl9u"
      },
      "source": [
        "## 3) Menghitung Prior\n",
        "\n",
        "Tahapan pertama pada algoritma Naive Bayes adalah perhitungan prior. Prior suatu kelas merupakan peluang awal munculnya kelas tersebut. Atau dengan kata lain, prior merupakan frekuensi relatif dari suatu kelas terhadap keseluruhan data. \n",
        "\n",
        "Buatlah fungsi bernama **hitung_prior** yang berfungsi menghitung nilai prior dari masing-masing kelas yang terdapat pada data latih. Fungsi ini menerima input berupa list kelas dari data latih."
      ]
    },
    {
      "cell_type": "code",
      "metadata": {
        "id": "QNEYOTLsfqld"
      },
      "source": [
        "#melakukan import library counter dari library collections\n",
        "from collections import Counter\n",
        "\n",
        "#membuat fungsi hitung_prior dengan argumen list kelas\n",
        "def hitung_prior (list_kelas):\n",
        "  #mencari jumlah keseluruhan kelas pada list\n",
        "  n_data = len(list_kelas)\n",
        "  #menghitung jumlah data yang memiliki kelas yang sama\n",
        "  prior = Counter(list_kelas)\n",
        "  #menghitung probabilitas 1 kelas dalam dataset\n",
        "  for key in prior.keys():\n",
        "    prior[key] = prior[key]/n_data\n",
        "  return prior\n"
      ],
      "execution_count": 149,
      "outputs": []
    },
    {
      "cell_type": "markdown",
      "metadata": {
        "id": "KaOXTHEmuNcL"
      },
      "source": [
        "Ujilah fungsi **hitung_prior** menggunakan kelas dari variabel **data_latih**. Amati hasilnya"
      ]
    },
    {
      "cell_type": "code",
      "metadata": {
        "id": "Hxfrr832h61_",
        "colab": {
          "base_uri": "https://localhost:8080/"
        },
        "outputId": "db71b829-7e7f-4195-f2f8-6f73c940666c"
      },
      "source": [
        "#melakukan penghitungan probabilitas prior berdasarkan kelas setiap data\n",
        "prior = hitung_prior(data_latih['species'])\n",
        "print(prior)"
      ],
      "execution_count": 150,
      "outputs": [
        {
          "output_type": "stream",
          "text": [
            "Counter({'Iris-versicolor': 0.35833333333333334, 'Iris-virginica': 0.325, 'Iris-setosa': 0.31666666666666665})\n"
          ],
          "name": "stdout"
        }
      ]
    },
    {
      "cell_type": "markdown",
      "metadata": {
        "id": "46FZOwFIlkM_"
      },
      "source": [
        "## 4) Menghitung *likelihood*"
      ]
    },
    {
      "cell_type": "markdown",
      "metadata": {
        "id": "4wQfBDujvR_Z"
      },
      "source": [
        "Praktikum kali ini mengimplementasikan metode Naive Bayes menggunakan datset iris. Semua fitur pada dataset iris memiliki tipe numerik. Dengan demikian, perhitungan *likelihood* dilakukan menggunakan Gaussian Model.\n",
        "\n",
        "Tahapan yang perlu dilakukan sebelum perhitungan *likelihood* adalah menghitung rata-rata dan deviasi standar masing-masing fitur per kelas. Buatlah fungsi **hitung_rata2_std_kelas** yang berfungsi menghitung rata-rata dan standar deviasi per fitur dan kelas"
      ]
    },
    {
      "cell_type": "code",
      "metadata": {
        "id": "qFB6pLbeikcG"
      },
      "source": [
        "#membuat fungsi hitung_rata2_std_kelas dengan argumen list kelas\n",
        "def hitung_rata2_std_kelas(input_data):\n",
        "  #membuat list kolom yang berisi fitur dataset\n",
        "  list_columns = input_data.columns[:-1]\n",
        "  #membuat list kolom yang berisi kelas/label dataset\n",
        "  class_column_name = input_data.columns[-1]\n",
        "  #membuat set data yang berisikan kelas tiap data dan tidak ada duplikat\n",
        "  list_class = set(input_data[class_column_name])\n",
        "  #membuat dictionary kosong\n",
        "  rata2 = {}\n",
        "  #membuat dictionary kosong\n",
        "  std = {}\n",
        "  for column in list_columns:\n",
        "    for a_class in list_class:\n",
        "      #mengitung rata-rata tiap kolom pada tiap kelas\n",
        "      rata2[(a_class,column)] = input_data.loc[input_data[class_column_name]==a_class][column].mean()\n",
        "      #mengitung standar deviasi tiap kolom pada tiap kelas\n",
        "      std[(a_class,column)] = input_data.loc[input_data[class_column_name]==a_class][column].std()\n",
        "  \n",
        "  return(rata2,std)"
      ],
      "execution_count": 151,
      "outputs": []
    },
    {
      "cell_type": "markdown",
      "metadata": {
        "id": "mou0Bi1cyswK"
      },
      "source": [
        "Buatlah fungsi **hitung_likelihood_gaussian** yang bertujuan menghitung nilai likelihood suatu nilai terhadap rata-rata dan deviasi standar tertentu."
      ]
    },
    {
      "cell_type": "code",
      "metadata": {
        "id": "nn8U_kUFkZCi"
      },
      "source": [
        "rata2,std = hitung_rata2_std_kelas(data_latih)"
      ],
      "execution_count": 152,
      "outputs": []
    },
    {
      "cell_type": "code",
      "metadata": {
        "id": "fzvwAIBh8g2e"
      },
      "source": [
        "#melakukan import library math\n",
        "import math\n",
        "\n",
        "#membuat fungsi hitung_likelihood_gaussian dengan 3 argumen yakni data, rata-rata, dan standar deviasi\n",
        "def hitung_likelihood_gaussian(data, rata2,std):\n",
        "  hasil = (1/math.sqrt(2*math.pi*(std**2)))*math.exp((-1*((data-rata2)**2))/(2*(std**2)))\n",
        "  return hasil"
      ],
      "execution_count": 153,
      "outputs": []
    },
    {
      "cell_type": "markdown",
      "metadata": {
        "id": "oQL9TuvR0ING"
      },
      "source": [
        "## 5) Proses *training*\n",
        "Proses training pada Naive Bayes dengan model Gaussian dilakukan untuk menghitung prior serta  rata-rata dan deviasi standar pada masing-msaing fitur dan kelas. "
      ]
    },
    {
      "cell_type": "code",
      "metadata": {
        "id": "Oi9yBYOQE2It"
      },
      "source": [
        "#membuat fungsi training naive bayes\n",
        "def training_naive_bayes(data_latih):\n",
        "  #membuat list kolom yang berisi kelas/label dataset\n",
        "  class_column_name = data_latih.columns[-1]\n",
        "  #menghitung probabilitas prior\n",
        "  prior = hitung_prior(data_latih[class_column_name])\n",
        "  #menghitung rata-rata dan standar deviasi data latih\n",
        "  (rata2, std) = hitung_rata2_std_kelas(data_latih)\n",
        "  #membuat set data yang berisikan kelas tiap data dan tidak ada duplikat\n",
        "  list_class = set(data_latih[class_column_name])\n",
        "  #mengambil semua fitur pada data latih\n",
        "  list_columns = data_latih.columns[:-1]\n",
        "  #membuat dictionary kosong\n",
        "  model = {}\n",
        "  #menambahkan key prior yang berisikan nilai prior\n",
        "  model['prior'] = prior\n",
        "  #menambahkan key rata2 yang berisikan nilai rata2\n",
        "  model['rata2'] = rata2\n",
        "  #menambahkan key std yang berisikan nilai std\n",
        "  model['std'] = std\n",
        "  #menambahkan key list_kelas yang berisikan kelas pada data\n",
        "  model['list_class'] = list_class\n",
        "  #menambahkan key list_kolom yang berisikan kelas pada data\n",
        "  model['list_columns'] = list_columns\n",
        "  return model"
      ],
      "execution_count": 154,
      "outputs": []
    },
    {
      "cell_type": "markdown",
      "metadata": {
        "id": "SdOp5WU61OWA"
      },
      "source": [
        "Lakukanlah proses training dan simpan hasil training pada variabel **model**"
      ]
    },
    {
      "cell_type": "code",
      "metadata": {
        "id": "QJtz-ZubF6C_",
        "colab": {
          "base_uri": "https://localhost:8080/"
        },
        "outputId": "0b525e5c-8f5f-4f96-e93c-c580b73369a2"
      },
      "source": [
        "#melakukan proses training dengan pemanggilan fungsi yang sudah dibuat \n",
        "model = training_naive_bayes(data_latih)\n",
        "\n",
        "for key in model.keys():\n",
        "  print(\"nilai\", key)\n",
        "  print(model[key])\n",
        "  print()"
      ],
      "execution_count": 155,
      "outputs": [
        {
          "output_type": "stream",
          "text": [
            "nilai prior\n",
            "Counter({'Iris-versicolor': 0.35833333333333334, 'Iris-virginica': 0.325, 'Iris-setosa': 0.31666666666666665})\n",
            "\n",
            "nilai rata2\n",
            "{('Iris-virginica', 'sepal_length'): 6.592307692307695, ('Iris-versicolor', 'sepal_length'): 5.976744186046511, ('Iris-setosa', 'sepal_length'): 5.0026315789473665, ('Iris-virginica', 'sepal_width'): 2.956410256410256, ('Iris-versicolor', 'sepal_width'): 2.7418604651162797, ('Iris-setosa', 'sepal_width'): 3.41842105263158, ('Iris-virginica', 'petal_length'): 5.5666666666666655, ('Iris-versicolor', 'petal_length'): 4.258139534883721, ('Iris-setosa', 'petal_length'): 1.4552631578947368, ('Iris-virginica', 'petal_width'): 1.994871794871794, ('Iris-versicolor', 'petal_width'): 1.3116279069767438, ('Iris-setosa', 'petal_width'): 0.24999999999999994}\n",
            "\n",
            "nilai std\n",
            "{('Iris-virginica', 'sepal_length'): 0.6941047302231982, ('Iris-versicolor', 'sepal_length'): 0.5317702732170143, ('Iris-setosa', 'sepal_length'): 0.36943114935120597, ('Iris-virginica', 'sepal_width'): 0.3330835771480214, ('Iris-versicolor', 'sepal_width'): 0.312617641201284, ('Iris-setosa', 'sepal_width'): 0.41254337243422373, ('Iris-virginica', 'petal_length'): 0.5809852490804933, ('Iris-versicolor', 'petal_length'): 0.49724601467891544, ('Iris-setosa', 'petal_length'): 0.18987530534260466, ('Iris-virginica', 'petal_width'): 0.2713986366454508, ('Iris-versicolor', 'petal_width'): 0.2037847864848056, ('Iris-setosa', 'petal_width'): 0.11566494014340897}\n",
            "\n",
            "nilai list_class\n",
            "{'Iris-virginica', 'Iris-versicolor', 'Iris-setosa'}\n",
            "\n",
            "nilai list_columns\n",
            "Index(['sepal_length', 'sepal_width', 'petal_length', 'petal_width'], dtype='object')\n",
            "\n"
          ],
          "name": "stdout"
        }
      ]
    },
    {
      "cell_type": "markdown",
      "metadata": {
        "id": "M6UR7tpm1YQ_"
      },
      "source": [
        "## 6) Proses *testing*\n",
        "Proses testing dilakukan dengan menghitung nilai posterior dari data uji berdasarkan nilai model yang diperoleh saat training. Nilai posterior diperoleh dari perkalian prior dengan *likelihood* masing-masing fiturnya. Setelah itu, penentuan kelas data uji dilakukan berdasarkan nilai posterior terbesar"
      ]
    },
    {
      "cell_type": "code",
      "metadata": {
        "id": "GFrDgAtU7umG"
      },
      "source": [
        "#membuat dungsi testing naive bayes dengan argumen model yang sudah dilatih dan data uji\n",
        "def testing_naive_bayes_gaussian(model,data_uji):\n",
        "  #mengambil nilai prior pada model yang sudah dibuat\n",
        "  prior = model['prior']\n",
        "  #mengambil nilai rata2 pada model yang sudah dibuat\n",
        "  rata2 = model['rata2']\n",
        "  #mengambil nilai std pada model yang sudah dibuat\n",
        "  std = model['std']\n",
        "  #mengambil nilai kelas/label pada model yang sudah dibuat\n",
        "  list_class = model['list_class']\n",
        "  #mengambil nilai kolom pada data model yang sudah dibuat\n",
        "  list_columns = model['list_columns']\n",
        "  posterior = dict.fromkeys(list_class, 1)\n",
        "  for a_class in list_class:\n",
        "    for column in list_columns:\n",
        "      #menghitung posterior\n",
        "      posterior[a_class] = posterior[a_class]*hitung_likelihood_gaussian(data_uji[column],rata2[(a_class,column)],std[(a_class,column)])\n",
        "      posterior[a_class] = posterior[a_class]*prior[a_class]\n",
        "      #menentukan kelas uji berdasarkan nilai probabilitas tertinggi\n",
        "  kelas_uji = max(posterior,key=posterior.get)\n",
        "  return kelas_uji\n"
      ],
      "execution_count": 156,
      "outputs": []
    },
    {
      "cell_type": "markdown",
      "metadata": {
        "id": "v4gkpgl02hHN"
      },
      "source": [
        "Ujilah fungsi **testing_naive_bayes_gaussian** menggunakan data uji pertama. Bandingkan hasilnya dengan nilai label sebenarnya."
      ]
    },
    {
      "cell_type": "code",
      "metadata": {
        "id": "MQaav7-4BOw0",
        "colab": {
          "base_uri": "https://localhost:8080/"
        },
        "outputId": "1b9a5a33-fb62-4175-ae7f-e7e6687dfce3"
      },
      "source": [
        "#melakukan pengujian pada indeks ke 0\n",
        "indeks_uji = 0\n",
        "#pemanggilan fungsi naive bayes untuk melakukan modelling\n",
        "prediksi = testing_naive_bayes_gaussian(model,data_uji.iloc[indeks_uji])\n",
        "print(prediksi)\n",
        "print(label_uji.iloc[indeks_uji])"
      ],
      "execution_count": 157,
      "outputs": [
        {
          "output_type": "stream",
          "text": [
            "Iris-versicolor\n",
            "Iris-versicolor\n"
          ],
          "name": "stdout"
        }
      ]
    },
    {
      "cell_type": "markdown",
      "metadata": {
        "id": "njN0S0TD254D"
      },
      "source": [
        "Lakukan pengujian untuk semua data uji. Selanjutnya bandingkan dengan label sebenarnya untuk menghitung berapa banyak data uji yang berhasil diprediksi dengan benar"
      ]
    },
    {
      "cell_type": "code",
      "metadata": {
        "id": "coYepsufHTeW",
        "colab": {
          "base_uri": "https://localhost:8080/"
        },
        "outputId": "e2d70599-5f8d-46cb-cdb7-daaf176d5a9c"
      },
      "source": [
        "#membuat list kosong\n",
        "prediksi_total=[]\n",
        "#melakukan perbandingan hasil uji dengan label sebenarnya\n",
        "for indeks in range (data_uji.shape[0]):\n",
        "  prediksi_total.append(testing_naive_bayes_gaussian(model,data_uji.iloc[indeks]))\n",
        "\n",
        "#menghitung jumlah label yang sudah benar\n",
        "print(\"total prediksi benar: \",sum(prediksi_total==label_uji))\n",
        "print(data_uji.shape[0])\n",
        "print(prediksi_total)"
      ],
      "execution_count": 158,
      "outputs": [
        {
          "output_type": "stream",
          "text": [
            "total prediksi benar:  30\n",
            "30\n",
            "['Iris-versicolor', 'Iris-setosa', 'Iris-setosa', 'Iris-virginica', 'Iris-virginica', 'Iris-setosa', 'Iris-virginica', 'Iris-versicolor', 'Iris-setosa', 'Iris-versicolor', 'Iris-virginica', 'Iris-setosa', 'Iris-versicolor', 'Iris-versicolor', 'Iris-versicolor', 'Iris-setosa', 'Iris-virginica', 'Iris-setosa', 'Iris-setosa', 'Iris-setosa', 'Iris-virginica', 'Iris-virginica', 'Iris-virginica', 'Iris-setosa', 'Iris-virginica', 'Iris-setosa', 'Iris-setosa', 'Iris-virginica', 'Iris-versicolor', 'Iris-virginica']\n"
          ],
          "name": "stdout"
        }
      ]
    },
    {
      "cell_type": "markdown",
      "metadata": {
        "id": "ZiDmUxVBuo42"
      },
      "source": [
        "## TUGAS\n",
        "Pada tugas kali ini Anda akan menggunakan dataset **[Car Evaluation Dataset](https://archive.ics.uci.edu/ml/datasets/Car+Evaluation)** yang telah dimodifikasi. Fitur-fitur yang ada bertipe kategori sebagai berikut:\n",
        "1. **buying**. Merupakan harga beli mobil. Nilai : vhigh, high, med, low\n",
        "2. **maint**. Menandakan biaya perawatan mobil. Nilai: vhigh, high, med, low\n",
        "3. **lug_boot**. Menandakan ukuran bagasi. Nilai: small, med, big\n",
        "4. **safety**. Menandakan skor keamanan mobil. Nilai:  low, med, high\n",
        "5. **class**. Merupakan kelas data. Nilai: unacc, acc, good, vgood\n",
        "\n",
        "Download dataset dari https://dataset-ppm.s3.amazonaws.com/car_sample.csv dan letakkan dalam variabel **data_tugas**."
      ]
    },
    {
      "cell_type": "code",
      "metadata": {
        "id": "taf0UIWICpVB",
        "colab": {
          "base_uri": "https://localhost:8080/"
        },
        "outputId": "8d39a578-9aa7-47bb-acd9-b283ed6b87ed"
      },
      "source": [
        "#mengunduh dataset yang akan digunakan\n",
        "!wget https://dataset-ppm.s3.amazonaws.com/car_sample.csv"
      ],
      "execution_count": 159,
      "outputs": [
        {
          "output_type": "stream",
          "text": [
            "--2021-07-09 13:55:26--  https://dataset-ppm.s3.amazonaws.com/car_sample.csv\n",
            "Resolving dataset-ppm.s3.amazonaws.com (dataset-ppm.s3.amazonaws.com)... 52.216.176.51\n",
            "Connecting to dataset-ppm.s3.amazonaws.com (dataset-ppm.s3.amazonaws.com)|52.216.176.51|:443... connected.\n",
            "HTTP request sent, awaiting response... 200 OK\n",
            "Length: 7226 (7.1K) [text/csv]\n",
            "Saving to: ‘car_sample.csv.4’\n",
            "\n",
            "car_sample.csv.4    100%[===================>]   7.06K  --.-KB/s    in 0s      \n",
            "\n",
            "2021-07-09 13:55:26 (271 MB/s) - ‘car_sample.csv.4’ saved [7226/7226]\n",
            "\n"
          ],
          "name": "stdout"
        }
      ]
    },
    {
      "cell_type": "code",
      "metadata": {
        "id": "s0RmCUM02o7i",
        "colab": {
          "base_uri": "https://localhost:8080/",
          "height": 204
        },
        "outputId": "4e952401-8e43-4a97-b2f2-a654caea9a50"
      },
      "source": [
        "#melakukan import library yang akan digunakan\n",
        "import pandas as pd #pemanggilan library pandas dengan alias pemanggilan pd\n",
        "import numpy as np #pemanggilan library numpy dengan alias pemanggilan np\n",
        "\n",
        "#melakukan pembacaan dataset yang sudah diunduh menggunakan pandas\n",
        "data_tugas = pd.read_csv('car_sample.csv')\n",
        "#menampilkan 5 data teratas\n",
        "data_tugas.head()"
      ],
      "execution_count": 160,
      "outputs": [
        {
          "output_type": "execute_result",
          "data": {
            "text/html": [
              "<div>\n",
              "<style scoped>\n",
              "    .dataframe tbody tr th:only-of-type {\n",
              "        vertical-align: middle;\n",
              "    }\n",
              "\n",
              "    .dataframe tbody tr th {\n",
              "        vertical-align: top;\n",
              "    }\n",
              "\n",
              "    .dataframe thead th {\n",
              "        text-align: right;\n",
              "    }\n",
              "</style>\n",
              "<table border=\"1\" class=\"dataframe\">\n",
              "  <thead>\n",
              "    <tr style=\"text-align: right;\">\n",
              "      <th></th>\n",
              "      <th>buying</th>\n",
              "      <th>maint</th>\n",
              "      <th>lug_boot</th>\n",
              "      <th>safety</th>\n",
              "      <th>class</th>\n",
              "    </tr>\n",
              "  </thead>\n",
              "  <tbody>\n",
              "    <tr>\n",
              "      <th>0</th>\n",
              "      <td>vhigh</td>\n",
              "      <td>low</td>\n",
              "      <td>small</td>\n",
              "      <td>high</td>\n",
              "      <td>acc</td>\n",
              "    </tr>\n",
              "    <tr>\n",
              "      <th>1</th>\n",
              "      <td>vhigh</td>\n",
              "      <td>low</td>\n",
              "      <td>big</td>\n",
              "      <td>high</td>\n",
              "      <td>acc</td>\n",
              "    </tr>\n",
              "    <tr>\n",
              "      <th>2</th>\n",
              "      <td>vhigh</td>\n",
              "      <td>med</td>\n",
              "      <td>big</td>\n",
              "      <td>med</td>\n",
              "      <td>acc</td>\n",
              "    </tr>\n",
              "    <tr>\n",
              "      <th>3</th>\n",
              "      <td>med</td>\n",
              "      <td>med</td>\n",
              "      <td>med</td>\n",
              "      <td>high</td>\n",
              "      <td>acc</td>\n",
              "    </tr>\n",
              "    <tr>\n",
              "      <th>4</th>\n",
              "      <td>low</td>\n",
              "      <td>high</td>\n",
              "      <td>med</td>\n",
              "      <td>high</td>\n",
              "      <td>acc</td>\n",
              "    </tr>\n",
              "  </tbody>\n",
              "</table>\n",
              "</div>"
            ],
            "text/plain": [
              "  buying maint lug_boot safety class\n",
              "0  vhigh   low    small   high   acc\n",
              "1  vhigh   low      big   high   acc\n",
              "2  vhigh   med      big    med   acc\n",
              "3    med   med      med   high   acc\n",
              "4    low  high      med   high   acc"
            ]
          },
          "metadata": {
            "tags": []
          },
          "execution_count": 160
        }
      ]
    },
    {
      "cell_type": "markdown",
      "metadata": {
        "id": "TPT18UxqDEmj"
      },
      "source": [
        "Bagi data menjadi data latih dan uji dengan nama **tugas_latih** dan **tugas_uji** dengan rasio 70%:30%"
      ]
    },
    {
      "cell_type": "code",
      "metadata": {
        "id": "U64ysR2GDCIW",
        "colab": {
          "base_uri": "https://localhost:8080/"
        },
        "outputId": "92934db2-0a5b-421b-9d77-b1898698e610"
      },
      "source": [
        "#melakukan import sebagian library yang akan digunakan\n",
        "#hanya mengimport train_test_split dari modul sklearn.model_selection\n",
        "from sklearn.model_selection import train_test_split\n",
        "#melakukan pembagian dataset dengan pembagian 30% data uji dan 70% data latih\n",
        "tugas_latih, tugas_uji = train_test_split(data_tugas, test_size = 0.3, train_size = 0.7)\n",
        "\n",
        "#cek jumlah baris data tugas latih \n",
        "print(tugas_latih.shape[0])\n",
        "\n",
        "#cek jumlah baris data tugas uji\n",
        "print(tugas_uji.shape[0])"
      ],
      "execution_count": 161,
      "outputs": [
        {
          "output_type": "stream",
          "text": [
            "182\n",
            "78\n"
          ],
          "name": "stdout"
        }
      ]
    },
    {
      "cell_type": "markdown",
      "metadata": {
        "id": "6Gly3yA3DaMl"
      },
      "source": [
        "Pisahkan label/kategori dari data uji menjadi variabel tersendiri. Beri nama variabelnya **tugas_label_uji**"
      ]
    },
    {
      "cell_type": "code",
      "metadata": {
        "id": "B--8aoLWDYxI"
      },
      "source": [
        "#melakukan pemisahan antara fitur dan label dengan melakukan pop pada kolom class pada label uji\n",
        "tugas_label_uji = tugas_uji.pop('class')"
      ],
      "execution_count": 162,
      "outputs": []
    },
    {
      "cell_type": "code",
      "metadata": {
        "colab": {
          "base_uri": "https://localhost:8080/",
          "height": 204
        },
        "id": "5fOhcimgpMJX",
        "outputId": "861fd3be-7fee-4ca8-96a9-f274f4646bb1"
      },
      "source": [
        "#menampilkan data uji yang hanya berisikan fitur data saja tanpa label\n",
        "tugas_uji.head()"
      ],
      "execution_count": 163,
      "outputs": [
        {
          "output_type": "execute_result",
          "data": {
            "text/html": [
              "<div>\n",
              "<style scoped>\n",
              "    .dataframe tbody tr th:only-of-type {\n",
              "        vertical-align: middle;\n",
              "    }\n",
              "\n",
              "    .dataframe tbody tr th {\n",
              "        vertical-align: top;\n",
              "    }\n",
              "\n",
              "    .dataframe thead th {\n",
              "        text-align: right;\n",
              "    }\n",
              "</style>\n",
              "<table border=\"1\" class=\"dataframe\">\n",
              "  <thead>\n",
              "    <tr style=\"text-align: right;\">\n",
              "      <th></th>\n",
              "      <th>buying</th>\n",
              "      <th>maint</th>\n",
              "      <th>lug_boot</th>\n",
              "      <th>safety</th>\n",
              "    </tr>\n",
              "  </thead>\n",
              "  <tbody>\n",
              "    <tr>\n",
              "      <th>116</th>\n",
              "      <td>low</td>\n",
              "      <td>low</td>\n",
              "      <td>med</td>\n",
              "      <td>med</td>\n",
              "    </tr>\n",
              "    <tr>\n",
              "      <th>253</th>\n",
              "      <td>med</td>\n",
              "      <td>med</td>\n",
              "      <td>med</td>\n",
              "      <td>high</td>\n",
              "    </tr>\n",
              "    <tr>\n",
              "      <th>99</th>\n",
              "      <td>low</td>\n",
              "      <td>med</td>\n",
              "      <td>big</td>\n",
              "      <td>med</td>\n",
              "    </tr>\n",
              "    <tr>\n",
              "      <th>206</th>\n",
              "      <td>med</td>\n",
              "      <td>med</td>\n",
              "      <td>big</td>\n",
              "      <td>high</td>\n",
              "    </tr>\n",
              "    <tr>\n",
              "      <th>156</th>\n",
              "      <td>vhigh</td>\n",
              "      <td>vhigh</td>\n",
              "      <td>med</td>\n",
              "      <td>high</td>\n",
              "    </tr>\n",
              "  </tbody>\n",
              "</table>\n",
              "</div>"
            ],
            "text/plain": [
              "    buying  maint lug_boot safety\n",
              "116    low    low      med    med\n",
              "253    med    med      med   high\n",
              "99     low    med      big    med\n",
              "206    med    med      big   high\n",
              "156  vhigh  vhigh      med   high"
            ]
          },
          "metadata": {
            "tags": []
          },
          "execution_count": 163
        }
      ]
    },
    {
      "cell_type": "markdown",
      "metadata": {
        "id": "Co1DltS5ezOo"
      },
      "source": [
        "Hitunglah nilai prior dari data latih dan simpan nilainya pada variabel bernama **prior_tugas**. Anda dapat menggunakan fungsi **hitung_prior** yang telah Anda buat."
      ]
    },
    {
      "cell_type": "code",
      "metadata": {
        "colab": {
          "base_uri": "https://localhost:8080/"
        },
        "id": "rC2zxhYE-NV2",
        "outputId": "1c0fb3ff-82ea-4696-8ad0-d1ff5977363d"
      },
      "source": [
        "#menghitung nilai prior dari tugas_latih\n",
        "prior_tugas = hitung_prior(tugas_latih['class'])\n",
        "print(prior_tugas)"
      ],
      "execution_count": 164,
      "outputs": [
        {
          "output_type": "stream",
          "text": [
            "Counter({'unacc': 0.2692307692307692, 'acc': 0.25274725274725274, 'vgood': 0.24175824175824176, 'good': 0.23626373626373626})\n"
          ],
          "name": "stdout"
        }
      ]
    },
    {
      "cell_type": "markdown",
      "metadata": {
        "id": "A35772NVfJT4"
      },
      "source": [
        "Buatlah fungsi bernama **hitung_likelihood_multinomial** dengan parameter input berupa data latih. Fungsi ini bertujuan menghitung nilai likelihood pada masing-masing kolom pada data latih. Operasi-operasi yang perlu dilakukan pada fungsi ini adalah:\n",
        "\n",
        "\n",
        "1.   Mendapatkan daftar kolom data\n",
        "2.   Mendapatkan nama kolom kelas pada data (kolom terakhir pada data)\n",
        "3.   Mendapatkan nama-nama kelas pada data (unik).\n",
        "4.   Menghitung likelihood pada masing-masing kolom, nilai kolom, dan nilai kelas\n",
        "\n",
        "Sebagai saran, Anda dapat menggunakan struktur data dictionary untuk menyimpan nilai likelihood. Key pada dictionary tersebut adalah tuple(nama kolom, nilai pada kolom, nama kelas). Petunjuk penggunaan dictionary dengan key berupa tuple dapat dibaca [di sini](https://stackoverflow.com/questions/1938614/in-what-case-would-i-use-a-tuple-as-a-dictionary-key).\n",
        "\n"
      ]
    },
    {
      "cell_type": "code",
      "metadata": {
        "id": "avUKzPV1wu5x"
      },
      "source": [
        "def hitung_likelihood_multinomial(data_latih):\n",
        "  #membuat list kolom yang berisi fitur dataset\n",
        "  list_columns = data_latih.columns[:-1]\n",
        "  #membuat list kolom yang berisi kelas/label dataset\n",
        "  class_column_name = data_latih.columns[-1]\n",
        "  #membuat set data yang berisikan kelas tiap data dan tidak ada duplikat\n",
        "  list_class = set(data_latih[class_column_name])\n",
        "  likelihood = {}\n",
        "  for column in list_columns:\n",
        "    for a_class in list_class:\n",
        "      for value in set(data_latih[column]):\n",
        "        #menghitung pembilang pada conditional probability (p(w|c)) yang menghitung kemunculan fitur w pada kategori c\n",
        "        numerator = data_latih.loc[(data_latih[column]==value) & (data_latih[class_column_name]==a_class)][column].count()\n",
        "        #menghitung total kemunculan semua fitur pada kategori c (count c)\n",
        "        denumerator = data_latih.loc[data_latih[class_column_name]==a_class][column].count()\n",
        "        #menghitung conditional probability (p(w|c))\n",
        "        likelihood[(column,value,a_class)] = numerator/denumerator\n",
        "  return likelihood"
      ],
      "execution_count": 165,
      "outputs": []
    },
    {
      "cell_type": "markdown",
      "metadata": {
        "id": "8-Qsp6QqjlUL"
      },
      "source": [
        "Ujilah fungsi **hitung_likelihood_multinomial** dengan parameter input berupa variabel **tugas_latih**"
      ]
    },
    {
      "cell_type": "code",
      "metadata": {
        "id": "sdywZ5Ej6nM6",
        "colab": {
          "base_uri": "https://localhost:8080/"
        },
        "outputId": "1f5302dc-6877-4d3d-9d29-61a2485369e7"
      },
      "source": [
        "#menguji fungsi hitung_likelihood_multinomial dengan parameter tugas_latih\n",
        "likelihood = hitung_likelihood_multinomial(tugas_latih)\n",
        "likelihood"
      ],
      "execution_count": 166,
      "outputs": [
        {
          "output_type": "execute_result",
          "data": {
            "text/plain": [
              "{('buying', 'high', 'acc'): 0.2608695652173913,\n",
              " ('buying', 'high', 'good'): 0.0,\n",
              " ('buying', 'high', 'unacc'): 0.24489795918367346,\n",
              " ('buying', 'high', 'vgood'): 0.0,\n",
              " ('buying', 'low', 'acc'): 0.13043478260869565,\n",
              " ('buying', 'low', 'good'): 0.6744186046511628,\n",
              " ('buying', 'low', 'unacc'): 0.24489795918367346,\n",
              " ('buying', 'low', 'vgood'): 0.6136363636363636,\n",
              " ('buying', 'med', 'acc'): 0.32608695652173914,\n",
              " ('buying', 'med', 'good'): 0.32558139534883723,\n",
              " ('buying', 'med', 'unacc'): 0.24489795918367346,\n",
              " ('buying', 'med', 'vgood'): 0.38636363636363635,\n",
              " ('buying', 'vhigh', 'acc'): 0.2826086956521739,\n",
              " ('buying', 'vhigh', 'good'): 0.0,\n",
              " ('buying', 'vhigh', 'unacc'): 0.2653061224489796,\n",
              " ('buying', 'vhigh', 'vgood'): 0.0,\n",
              " ('lug_boot', 'big', 'acc'): 0.3695652173913043,\n",
              " ('lug_boot', 'big', 'good'): 0.37209302325581395,\n",
              " ('lug_boot', 'big', 'unacc'): 0.2857142857142857,\n",
              " ('lug_boot', 'big', 'vgood'): 0.5681818181818182,\n",
              " ('lug_boot', 'med', 'acc'): 0.391304347826087,\n",
              " ('lug_boot', 'med', 'good'): 0.32558139534883723,\n",
              " ('lug_boot', 'med', 'unacc'): 0.3877551020408163,\n",
              " ('lug_boot', 'med', 'vgood'): 0.4318181818181818,\n",
              " ('lug_boot', 'small', 'acc'): 0.2391304347826087,\n",
              " ('lug_boot', 'small', 'good'): 0.3023255813953488,\n",
              " ('lug_boot', 'small', 'unacc'): 0.32653061224489793,\n",
              " ('lug_boot', 'small', 'vgood'): 0.0,\n",
              " ('maint', 'high', 'acc'): 0.2391304347826087,\n",
              " ('maint', 'high', 'good'): 0.0,\n",
              " ('maint', 'high', 'unacc'): 0.30612244897959184,\n",
              " ('maint', 'high', 'vgood'): 0.22727272727272727,\n",
              " ('maint', 'low', 'acc'): 0.2826086956521739,\n",
              " ('maint', 'low', 'good'): 0.627906976744186,\n",
              " ('maint', 'low', 'unacc'): 0.30612244897959184,\n",
              " ('maint', 'low', 'vgood'): 0.4090909090909091,\n",
              " ('maint', 'med', 'acc'): 0.34782608695652173,\n",
              " ('maint', 'med', 'good'): 0.37209302325581395,\n",
              " ('maint', 'med', 'unacc'): 0.12244897959183673,\n",
              " ('maint', 'med', 'vgood'): 0.36363636363636365,\n",
              " ('maint', 'vhigh', 'acc'): 0.13043478260869565,\n",
              " ('maint', 'vhigh', 'good'): 0.0,\n",
              " ('maint', 'vhigh', 'unacc'): 0.2653061224489796,\n",
              " ('maint', 'vhigh', 'vgood'): 0.0,\n",
              " ('safety', 'high', 'acc'): 0.6086956521739131,\n",
              " ('safety', 'high', 'good'): 0.4418604651162791,\n",
              " ('safety', 'high', 'unacc'): 0.24489795918367346,\n",
              " ('safety', 'high', 'vgood'): 1.0,\n",
              " ('safety', 'low', 'acc'): 0.0,\n",
              " ('safety', 'low', 'good'): 0.0,\n",
              " ('safety', 'low', 'unacc'): 0.5102040816326531,\n",
              " ('safety', 'low', 'vgood'): 0.0,\n",
              " ('safety', 'med', 'acc'): 0.391304347826087,\n",
              " ('safety', 'med', 'good'): 0.5581395348837209,\n",
              " ('safety', 'med', 'unacc'): 0.24489795918367346,\n",
              " ('safety', 'med', 'vgood'): 0.0}"
            ]
          },
          "metadata": {
            "tags": []
          },
          "execution_count": 166
        }
      ]
    },
    {
      "cell_type": "markdown",
      "metadata": {
        "id": "YaVwZpzzjvB9"
      },
      "source": [
        "Buatlah fungsi bernama **training_naive_bayes_multinomial** dengan input berupa data latih. Fungsi ini bertujuan membentuk model yang berisi:\n",
        "\n",
        "\n",
        "1.   Nilai prior semua kelas\n",
        "2.   Nilai likelihood semua kolom, nilai kolom, dan kelas\n",
        "3.   Daftar kelas pada data latih (unik)\n",
        "4.   Daftar nama kolom pada data latih\n",
        "\n",
        "Return value dari fungsi ini adalah **model**\n",
        "\n"
      ]
    },
    {
      "cell_type": "code",
      "metadata": {
        "id": "nh03SXjX6t1E"
      },
      "source": [
        "##membuat fungsi training naive bayes menggunakan algoritma multinomial\n",
        "def training_naive_bayes_multinomial(data_latih):\n",
        "  #membuat list kolom yang berisi kelas/label dataset\n",
        "  class_column_name = data_latih.columns[-1]\n",
        "  #menghitung probabilitas prior\n",
        "  prior = hitung_prior(data_latih[class_column_name])\n",
        "  #menghitung likelihood / conditional probability data latih\n",
        "  likelihood = hitung_likelihood_multinomial(data_latih)\n",
        "  #membuat set data yang berisikan kelas tiap data dan tidak ada duplikat\n",
        "  list_class = set(data_latih[class_column_name])\n",
        "  #mengambil semua fitur pada data latih\n",
        "  list_columns = data_latih.columns[:-1]\n",
        "  #membuat dictionary kosong\n",
        "  model = {}\n",
        "  #menambahkan key prior yang berisikan nilai prior\n",
        "  model['prior'] = prior\n",
        "  #menambahkan key likelihood yang berisikan nilai likelihood\n",
        "  model['likelihood'] = likelihood\n",
        "  #menambahkan key list_kelas yang berisikan kelas pada data\n",
        "  model['list_class'] = list_class\n",
        "  #menambahkan key list_kolom yang berisikan kelas pada data\n",
        "  model['list_columns'] = list_columns\n",
        "  return model"
      ],
      "execution_count": 167,
      "outputs": []
    },
    {
      "cell_type": "markdown",
      "metadata": {
        "id": "2_lcX8vclhWd"
      },
      "source": [
        "Jalankan fungsi **training_naive_bayes_multinomial** dan simpan hasilnya dalam variabel **model_tugas**"
      ]
    },
    {
      "cell_type": "code",
      "metadata": {
        "id": "pegse0eL7sRG",
        "colab": {
          "base_uri": "https://localhost:8080/"
        },
        "outputId": "83214e0d-d011-4632-ffc1-9a9b684302ac"
      },
      "source": [
        "#menghitung model tugas dengan memanggil fungsi training_naive_bayes_multinomial yang sudah dibuat\n",
        "model_tugas = training_naive_bayes_multinomial(tugas_latih)\n",
        "model_tugas"
      ],
      "execution_count": 168,
      "outputs": [
        {
          "output_type": "execute_result",
          "data": {
            "text/plain": [
              "{'likelihood': {('buying', 'high', 'acc'): 0.2608695652173913,\n",
              "  ('buying', 'high', 'good'): 0.0,\n",
              "  ('buying', 'high', 'unacc'): 0.24489795918367346,\n",
              "  ('buying', 'high', 'vgood'): 0.0,\n",
              "  ('buying', 'low', 'acc'): 0.13043478260869565,\n",
              "  ('buying', 'low', 'good'): 0.6744186046511628,\n",
              "  ('buying', 'low', 'unacc'): 0.24489795918367346,\n",
              "  ('buying', 'low', 'vgood'): 0.6136363636363636,\n",
              "  ('buying', 'med', 'acc'): 0.32608695652173914,\n",
              "  ('buying', 'med', 'good'): 0.32558139534883723,\n",
              "  ('buying', 'med', 'unacc'): 0.24489795918367346,\n",
              "  ('buying', 'med', 'vgood'): 0.38636363636363635,\n",
              "  ('buying', 'vhigh', 'acc'): 0.2826086956521739,\n",
              "  ('buying', 'vhigh', 'good'): 0.0,\n",
              "  ('buying', 'vhigh', 'unacc'): 0.2653061224489796,\n",
              "  ('buying', 'vhigh', 'vgood'): 0.0,\n",
              "  ('lug_boot', 'big', 'acc'): 0.3695652173913043,\n",
              "  ('lug_boot', 'big', 'good'): 0.37209302325581395,\n",
              "  ('lug_boot', 'big', 'unacc'): 0.2857142857142857,\n",
              "  ('lug_boot', 'big', 'vgood'): 0.5681818181818182,\n",
              "  ('lug_boot', 'med', 'acc'): 0.391304347826087,\n",
              "  ('lug_boot', 'med', 'good'): 0.32558139534883723,\n",
              "  ('lug_boot', 'med', 'unacc'): 0.3877551020408163,\n",
              "  ('lug_boot', 'med', 'vgood'): 0.4318181818181818,\n",
              "  ('lug_boot', 'small', 'acc'): 0.2391304347826087,\n",
              "  ('lug_boot', 'small', 'good'): 0.3023255813953488,\n",
              "  ('lug_boot', 'small', 'unacc'): 0.32653061224489793,\n",
              "  ('lug_boot', 'small', 'vgood'): 0.0,\n",
              "  ('maint', 'high', 'acc'): 0.2391304347826087,\n",
              "  ('maint', 'high', 'good'): 0.0,\n",
              "  ('maint', 'high', 'unacc'): 0.30612244897959184,\n",
              "  ('maint', 'high', 'vgood'): 0.22727272727272727,\n",
              "  ('maint', 'low', 'acc'): 0.2826086956521739,\n",
              "  ('maint', 'low', 'good'): 0.627906976744186,\n",
              "  ('maint', 'low', 'unacc'): 0.30612244897959184,\n",
              "  ('maint', 'low', 'vgood'): 0.4090909090909091,\n",
              "  ('maint', 'med', 'acc'): 0.34782608695652173,\n",
              "  ('maint', 'med', 'good'): 0.37209302325581395,\n",
              "  ('maint', 'med', 'unacc'): 0.12244897959183673,\n",
              "  ('maint', 'med', 'vgood'): 0.36363636363636365,\n",
              "  ('maint', 'vhigh', 'acc'): 0.13043478260869565,\n",
              "  ('maint', 'vhigh', 'good'): 0.0,\n",
              "  ('maint', 'vhigh', 'unacc'): 0.2653061224489796,\n",
              "  ('maint', 'vhigh', 'vgood'): 0.0,\n",
              "  ('safety', 'high', 'acc'): 0.6086956521739131,\n",
              "  ('safety', 'high', 'good'): 0.4418604651162791,\n",
              "  ('safety', 'high', 'unacc'): 0.24489795918367346,\n",
              "  ('safety', 'high', 'vgood'): 1.0,\n",
              "  ('safety', 'low', 'acc'): 0.0,\n",
              "  ('safety', 'low', 'good'): 0.0,\n",
              "  ('safety', 'low', 'unacc'): 0.5102040816326531,\n",
              "  ('safety', 'low', 'vgood'): 0.0,\n",
              "  ('safety', 'med', 'acc'): 0.391304347826087,\n",
              "  ('safety', 'med', 'good'): 0.5581395348837209,\n",
              "  ('safety', 'med', 'unacc'): 0.24489795918367346,\n",
              "  ('safety', 'med', 'vgood'): 0.0},\n",
              " 'list_class': {'acc', 'good', 'unacc', 'vgood'},\n",
              " 'list_columns': Index(['buying', 'maint', 'lug_boot', 'safety'], dtype='object'),\n",
              " 'prior': Counter({'acc': 0.25274725274725274,\n",
              "          'good': 0.23626373626373626,\n",
              "          'unacc': 0.2692307692307692,\n",
              "          'vgood': 0.24175824175824176})}"
            ]
          },
          "metadata": {
            "tags": []
          },
          "execution_count": 168
        }
      ]
    },
    {
      "cell_type": "markdown",
      "metadata": {
        "id": "ZzgoGxFUlxHX"
      },
      "source": [
        "Buatlah fungsi **testing_naive_bayes_multinomial** untuk mendapatkan kelas dari sebuah data uji. Langkah yang dilakukan hampir sama dengan Gaussian, yaitu mengalikan likelihood semua kolom dengan posterior."
      ]
    },
    {
      "cell_type": "code",
      "metadata": {
        "id": "04RhlW2U8k1A"
      },
      "source": [
        "def testing_naive_bayes_multinomial(model,data_uji):\n",
        "  #mengambil nilai prior pada model yang sudah dibuat\n",
        "  prior = model['prior']\n",
        "  #mengambil nilai likelihood pada model yang sudah dibuat\n",
        "  likelihood = model['likelihood']\n",
        "  #mengambil nilai kelas/label pada model yang sudah dibuat\n",
        "  list_class = model['list_class']\n",
        "  #mengambil nilai kolom pada data model yang sudah dibuat\n",
        "  list_columns = model['list_columns']\n",
        "  posterior = dict.fromkeys(list_class, 1)\n",
        "  for a_class in list_class:\n",
        "    for column in list_columns:\n",
        "      #menghitung posterior\n",
        "      posterior[a_class] = posterior[a_class]*likelihood[column,data_uji[column],a_class]\n",
        "      #menentukan kelas uji berdasarkan nilai probabilitas tertinggi\n",
        "  kelas_uji = max(posterior,key=posterior.get)\n",
        "  return kelas_uji"
      ],
      "execution_count": 169,
      "outputs": []
    },
    {
      "cell_type": "markdown",
      "metadata": {
        "id": "c9MTFBRdmYCZ"
      },
      "source": [
        "Lakukan pengujian menggunakan sebuah data uji"
      ]
    },
    {
      "cell_type": "code",
      "metadata": {
        "id": "o1EE-Rw39T68",
        "colab": {
          "base_uri": "https://localhost:8080/"
        },
        "outputId": "3165bf82-c3b8-44d1-e20d-72d4094cff16"
      },
      "source": [
        "#mendeklarasikan indeks yang akan di check\n",
        "idx = 10\n",
        "#mengambil data uji pada indeks ke 10\n",
        "uji = tugas_uji.iloc[idx]\n",
        "#mencari kelas uji dari data uji ke 10 menggunakan multinomial naive bayes\n",
        "kelas_uji = testing_naive_bayes_multinomial(model_tugas,uji)\n",
        "print(kelas_uji)\n",
        "print(tugas_label_uji.iloc[idx])"
      ],
      "execution_count": 170,
      "outputs": [
        {
          "output_type": "stream",
          "text": [
            "good\n",
            "good\n"
          ],
          "name": "stdout"
        }
      ]
    },
    {
      "cell_type": "markdown",
      "metadata": {
        "id": "3rGLrkbcmd10"
      },
      "source": [
        "Lakukan pengujian terhadap semua data uji."
      ]
    },
    {
      "cell_type": "code",
      "metadata": {
        "colab": {
          "base_uri": "https://localhost:8080/"
        },
        "id": "SOOYolOiLE3p",
        "outputId": "ca60c6c2-db8b-4085-ef1c-b12387ac6385"
      },
      "source": [
        "#membuat list kosong\n",
        "prediksi_total=[]\n",
        "#melakukan perbandingan hasil uji dengan label sebenarnya\n",
        "for indeks in range (data_uji.shape[0]):\n",
        "  prediksi_total.append(testing_naive_bayes_gaussian(model,data_uji.iloc[indeks]))\n",
        "\n",
        "#menghitung jumlah label yang sudah benar\n",
        "print(\"total prediksi benar: \",sum(prediksi_total==label_uji))\n",
        "print(data_uji.shape[0])\n",
        "print(prediksi_total)"
      ],
      "execution_count": 171,
      "outputs": [
        {
          "output_type": "stream",
          "text": [
            "total prediksi benar:  30\n",
            "30\n",
            "['Iris-versicolor', 'Iris-setosa', 'Iris-setosa', 'Iris-virginica', 'Iris-virginica', 'Iris-setosa', 'Iris-virginica', 'Iris-versicolor', 'Iris-setosa', 'Iris-versicolor', 'Iris-virginica', 'Iris-setosa', 'Iris-versicolor', 'Iris-versicolor', 'Iris-versicolor', 'Iris-setosa', 'Iris-virginica', 'Iris-setosa', 'Iris-setosa', 'Iris-setosa', 'Iris-virginica', 'Iris-virginica', 'Iris-virginica', 'Iris-setosa', 'Iris-virginica', 'Iris-setosa', 'Iris-setosa', 'Iris-virginica', 'Iris-versicolor', 'Iris-virginica']\n"
          ],
          "name": "stdout"
        }
      ]
    },
    {
      "cell_type": "code",
      "metadata": {
        "id": "F1FkA8yC9bGy",
        "colab": {
          "base_uri": "https://localhost:8080/"
        },
        "outputId": "e30c1bc1-6a39-48c9-ae75-2b1c8aebca9d"
      },
      "source": [
        "#membuat list kosong\n",
        "prediksi_total =[]\n",
        "#melakukan perbandingan hasil uji dengan label sebenarnya\n",
        "for indeks in range(tugas_uji.shape[0]):\n",
        "  prediksi_total.append(testing_naive_bayes_multinomial(model_tugas,tugas_uji.iloc[indeks]))\n",
        "\n",
        "prediksi = sum(prediksi_total==tugas_label_uji)\n",
        "#menghitung jumlah label yang sudah benar\n",
        "print(\"Total prediksi benar: \", prediksi)\n",
        "\n",
        "#print banyak data yang diuji\n",
        "print(\"Total prediksi : \",len(tugas_label_uji)) \n",
        "\n",
        "#print akurasi\n",
        "print(prediksi/len(tugas_label_uji))"
      ],
      "execution_count": 172,
      "outputs": [
        {
          "output_type": "stream",
          "text": [
            "Total prediksi benar:  66\n",
            "Total prediksi :  78\n",
            "0.8461538461538461\n"
          ],
          "name": "stdout"
        }
      ]
    },
    {
      "cell_type": "code",
      "metadata": {
        "id": "ZRgDmuUX_X_o",
        "colab": {
          "base_uri": "https://localhost:8080/"
        },
        "outputId": "b1a5558e-64ee-4a1a-b48a-8b4ac00cb45a"
      },
      "source": [
        "len(tugas_label_uji)"
      ],
      "execution_count": 173,
      "outputs": [
        {
          "output_type": "execute_result",
          "data": {
            "text/plain": [
              "78"
            ]
          },
          "metadata": {
            "tags": []
          },
          "execution_count": 173
        }
      ]
    }
  ]
}