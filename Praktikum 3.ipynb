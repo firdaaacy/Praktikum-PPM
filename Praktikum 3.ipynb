{
  "nbformat": 4,
  "nbformat_minor": 0,
  "metadata": {
    "colab": {
      "name": "Praktikum 3 -Firda Adha Cahyanti -195150201111037.ipynb",
      "provenance": [],
      "collapsed_sections": [],
      "include_colab_link": true
    },
    "kernelspec": {
      "name": "python3",
      "display_name": "Python 3"
    }
  },
  "cells": [
    {
      "cell_type": "markdown",
      "metadata": {
        "id": "view-in-github",
        "colab_type": "text"
      },
      "source": [
        "<a href=\"https://colab.research.google.com/github/firdaaacy/Praktikum-PPM/blob/main/Praktikum%203.ipynb\" target=\"_parent\"><img src=\"https://colab.research.google.com/assets/colab-badge.svg\" alt=\"Open In Colab\"/></a>"
      ]
    },
    {
      "cell_type": "markdown",
      "metadata": {
        "id": "-qDsm6BnME2X"
      },
      "source": [
        "# Praktikum Pengantar Pembelajaran Mesin\n",
        "\n",
        "\n",
        "---\n",
        "## Bab 3. Klasifikasi K-Nearest Neighbor (KNN)\n"
      ]
    },
    {
      "cell_type": "markdown",
      "metadata": {
        "id": "z_VawE4L4na8"
      },
      "source": [
        "Tuliskan Nama, NIM, dan kelas Anda:\n",
        "\n",
        "Nama  : Firda Adha Cahyanti\n",
        "\n",
        "NIM   : 195150201111037\n",
        "\n",
        "Kelas : PPM - TIF F"
      ]
    },
    {
      "cell_type": "markdown",
      "metadata": {
        "id": "sQAGcnK3MOS7"
      },
      "source": [
        "### 1) Import Data\n",
        "\n",
        "Unduh dataset yang akan digunakan pada praktikum kali ini. Anda dapat menggunakan aplikasi wget untuk mendowload dataset dan menyimpannya dalam Google Colab. Jalankan cell di bawah ini untuk mengunduh dataset"
      ]
    },
    {
      "cell_type": "code",
      "metadata": {
        "id": "FpjqVlzBMNLd",
        "colab": {
          "base_uri": "https://localhost:8080/"
        },
        "outputId": "16e04812-d0f4-4d1b-835c-c492f031ee18"
      },
      "source": [
        "#mengunduh dataset iris pada alamat yang sudah diberikan pada modul\n",
        "! wget https://dataset-ppm.s3.amazonaws.com/iris.csv"
      ],
      "execution_count": 1,
      "outputs": [
        {
          "output_type": "stream",
          "text": [
            "--2021-07-08 12:42:29--  https://dataset-ppm.s3.amazonaws.com/iris.csv\n",
            "Resolving dataset-ppm.s3.amazonaws.com (dataset-ppm.s3.amazonaws.com)... 54.231.114.219\n",
            "Connecting to dataset-ppm.s3.amazonaws.com (dataset-ppm.s3.amazonaws.com)|54.231.114.219|:443... connected.\n",
            "HTTP request sent, awaiting response... 200 OK\n",
            "Length: 4609 (4.5K) [text/csv]\n",
            "Saving to: ‘iris.csv’\n",
            "\n",
            "\riris.csv              0%[                    ]       0  --.-KB/s               \riris.csv            100%[===================>]   4.50K  --.-KB/s    in 0s      \n",
            "\n",
            "2021-07-08 12:42:29 (118 MB/s) - ‘iris.csv’ saved [4609/4609]\n",
            "\n"
          ],
          "name": "stdout"
        }
      ]
    },
    {
      "cell_type": "markdown",
      "metadata": {
        "id": "SJy4t3lIOgGp"
      },
      "source": [
        "Setelah dataset berhasil diunduh, langkah berikutnya adalah membaca dataset dengan memanfaatkan fungsi **readcsv** dari library pandas. Lakukan pembacaan berkas csv ke dalam dataframe dengan nama **data** menggunakan fungsi **readcsv**. Jangan lupa untuk melakukan import library pandas terlebih dahulu\n"
      ]
    },
    {
      "cell_type": "code",
      "metadata": {
        "id": "mdhbxk_2OzbB"
      },
      "source": [
        "#melakukan import library yang akan digunakan\n",
        "import pandas as pd #pemanggilan library pandas dengan alias pemanggilan pd\n",
        "import numpy as np  #pemanggilan library numpy dengan alias pemanggilan np\n",
        "\n",
        "#pembacaan dataset iris yang sudah di download menggunakan pandas\n",
        "data = pd.read_csv('iris.csv')"
      ],
      "execution_count": 2,
      "outputs": []
    },
    {
      "cell_type": "markdown",
      "metadata": {
        "id": "w6NfrIDTOK38"
      },
      "source": [
        "\n",
        "\n",
        "Cek isi dataset Anda dengan menggunakan perintah **head()**"
      ]
    },
    {
      "cell_type": "code",
      "metadata": {
        "id": "Uaiaj796OFH3",
        "colab": {
          "base_uri": "https://localhost:8080/",
          "height": 204
        },
        "outputId": "204412fa-336b-4430-80f2-8da1ada8f816"
      },
      "source": [
        "#menampilkan 5 data teratas dataset menggunakan .head()\n",
        "data.head()"
      ],
      "execution_count": 3,
      "outputs": [
        {
          "output_type": "execute_result",
          "data": {
            "text/html": [
              "<div>\n",
              "<style scoped>\n",
              "    .dataframe tbody tr th:only-of-type {\n",
              "        vertical-align: middle;\n",
              "    }\n",
              "\n",
              "    .dataframe tbody tr th {\n",
              "        vertical-align: top;\n",
              "    }\n",
              "\n",
              "    .dataframe thead th {\n",
              "        text-align: right;\n",
              "    }\n",
              "</style>\n",
              "<table border=\"1\" class=\"dataframe\">\n",
              "  <thead>\n",
              "    <tr style=\"text-align: right;\">\n",
              "      <th></th>\n",
              "      <th>sepal_length</th>\n",
              "      <th>sepal_width</th>\n",
              "      <th>petal_length</th>\n",
              "      <th>petal_width</th>\n",
              "      <th>species</th>\n",
              "    </tr>\n",
              "  </thead>\n",
              "  <tbody>\n",
              "    <tr>\n",
              "      <th>0</th>\n",
              "      <td>5.1</td>\n",
              "      <td>3.5</td>\n",
              "      <td>1.4</td>\n",
              "      <td>0.2</td>\n",
              "      <td>Iris-setosa</td>\n",
              "    </tr>\n",
              "    <tr>\n",
              "      <th>1</th>\n",
              "      <td>4.9</td>\n",
              "      <td>3.0</td>\n",
              "      <td>1.4</td>\n",
              "      <td>0.2</td>\n",
              "      <td>Iris-setosa</td>\n",
              "    </tr>\n",
              "    <tr>\n",
              "      <th>2</th>\n",
              "      <td>4.7</td>\n",
              "      <td>3.2</td>\n",
              "      <td>1.3</td>\n",
              "      <td>0.2</td>\n",
              "      <td>Iris-setosa</td>\n",
              "    </tr>\n",
              "    <tr>\n",
              "      <th>3</th>\n",
              "      <td>4.6</td>\n",
              "      <td>3.1</td>\n",
              "      <td>1.5</td>\n",
              "      <td>0.2</td>\n",
              "      <td>Iris-setosa</td>\n",
              "    </tr>\n",
              "    <tr>\n",
              "      <th>4</th>\n",
              "      <td>5.0</td>\n",
              "      <td>3.6</td>\n",
              "      <td>1.4</td>\n",
              "      <td>0.2</td>\n",
              "      <td>Iris-setosa</td>\n",
              "    </tr>\n",
              "  </tbody>\n",
              "</table>\n",
              "</div>"
            ],
            "text/plain": [
              "   sepal_length  sepal_width  petal_length  petal_width      species\n",
              "0           5.1          3.5           1.4          0.2  Iris-setosa\n",
              "1           4.9          3.0           1.4          0.2  Iris-setosa\n",
              "2           4.7          3.2           1.3          0.2  Iris-setosa\n",
              "3           4.6          3.1           1.5          0.2  Iris-setosa\n",
              "4           5.0          3.6           1.4          0.2  Iris-setosa"
            ]
          },
          "metadata": {
            "tags": []
          },
          "execution_count": 3
        }
      ]
    },
    {
      "cell_type": "markdown",
      "metadata": {
        "id": "lfi1uHIxPdDe"
      },
      "source": [
        "## 2) Membagi data menjadi data latih dan data uji\n",
        "\n",
        "Metode pembelajaran mesin memerlukan dua jenis data :\n",
        "\n",
        "\n",
        "1.   Data latih : Digunakan untuk proses training metode klasifikasi\n",
        "2.   Data uji : Digunakan untuk proses evaluasi metode klasifikasi\n",
        "\n",
        "Data uji dan data latih perlu dibuat terpisah (mutualy exclusive) agar hasil evaluasi lebih akurat.\n",
        "\n",
        "Data uji dan data latih dapat dibuat dengan cara membagi dataset dengan rasio tertentu, misalnya 80% data latih dan 20% data uji.\n",
        "\n",
        "Library Scikit-learn memiliki fungsi [train_test_split](https://scikit-learn.org/stable/modules/generated/sklearn.model_selection.train_test_split.html) pada modul **model_selection** untuk membagi dataset menjadi data latih dan data uji. Bagilah dataset anda menjadi dua, yaitu **data_latih** dan **data_uji**.\n"
      ]
    },
    {
      "cell_type": "code",
      "metadata": {
        "id": "jJjfXgfmPTlU"
      },
      "source": [
        "#melakukan import sebagian library yang akan digunakan\n",
        "#pada kasus  ini hanya mengimport train_test_split dari modul sklearn.model_selection\n",
        "from sklearn.model_selection import train_test_split\n",
        "#melakukan pembagian dataset dengan pembagian 20% data uji dan 80% data latih\n",
        "data_latih, data_uji = train_test_split(data, test_size = 0.2, train_size = 0.8)"
      ],
      "execution_count": 4,
      "outputs": []
    },
    {
      "cell_type": "markdown",
      "metadata": {
        "id": "tBhcsUDYfw2q"
      },
      "source": [
        "Tampilkan banyaknya data pada **data_latih** dan **data_uji**. Seharusnya **data_latih** terdiri dari 120 data, dan **data_uji** terdiri dari 30 data"
      ]
    },
    {
      "cell_type": "code",
      "metadata": {
        "id": "6OtySD4efmmQ",
        "colab": {
          "base_uri": "https://localhost:8080/"
        },
        "outputId": "4b81d1c0-df11-4db1-cce2-860c096bfd61"
      },
      "source": [
        "#menampilkan jumlah baris data uji yang sudah dibagi (20%) dari dataset\n",
        "print(data_uji.shape[0])\n",
        "#menampilkan jumlah baris data latih yang sudah dibagi (80%) dari dataset\n",
        "print(data_latih.shape[0])"
      ],
      "execution_count": 5,
      "outputs": [
        {
          "output_type": "stream",
          "text": [
            "30\n",
            "120\n"
          ],
          "name": "stdout"
        }
      ]
    },
    {
      "cell_type": "markdown",
      "metadata": {
        "id": "DeU-FCyTkVKC"
      },
      "source": [
        "Pisahkan label/kategori dari data latih dan data uji menjadi variabel tersendiri. Beri nama variabelnya **label_latih** dan **label_uji**"
      ]
    },
    {
      "cell_type": "code",
      "metadata": {
        "id": "e4vC_M0mkkl3"
      },
      "source": [
        "#melakukan pemisahan antara fitur dan kelas dengan melakukan pop pada kolom spesies pada label latih\n",
        "label_latih = data_latih.pop('species')\n",
        "#melakukan pemisahan antara fitur dan kelas dengan melakukan pop pada kolom spesies pada label uji\n",
        "label_uji = data_uji.pop('species')"
      ],
      "execution_count": 6,
      "outputs": []
    },
    {
      "cell_type": "code",
      "metadata": {
        "colab": {
          "base_uri": "https://localhost:8080/",
          "height": 204
        },
        "id": "BZcGnsH3Tu9g",
        "outputId": "02974606-5015-4790-9f65-edef8edbbc6c"
      },
      "source": [
        "#menampilkan 5 baris teratas data latih yang sudah dipisahkan dengan labelnya\n",
        "data_latih.head()"
      ],
      "execution_count": 7,
      "outputs": [
        {
          "output_type": "execute_result",
          "data": {
            "text/html": [
              "<div>\n",
              "<style scoped>\n",
              "    .dataframe tbody tr th:only-of-type {\n",
              "        vertical-align: middle;\n",
              "    }\n",
              "\n",
              "    .dataframe tbody tr th {\n",
              "        vertical-align: top;\n",
              "    }\n",
              "\n",
              "    .dataframe thead th {\n",
              "        text-align: right;\n",
              "    }\n",
              "</style>\n",
              "<table border=\"1\" class=\"dataframe\">\n",
              "  <thead>\n",
              "    <tr style=\"text-align: right;\">\n",
              "      <th></th>\n",
              "      <th>sepal_length</th>\n",
              "      <th>sepal_width</th>\n",
              "      <th>petal_length</th>\n",
              "      <th>petal_width</th>\n",
              "    </tr>\n",
              "  </thead>\n",
              "  <tbody>\n",
              "    <tr>\n",
              "      <th>127</th>\n",
              "      <td>6.1</td>\n",
              "      <td>3.0</td>\n",
              "      <td>4.9</td>\n",
              "      <td>1.8</td>\n",
              "    </tr>\n",
              "    <tr>\n",
              "      <th>123</th>\n",
              "      <td>6.3</td>\n",
              "      <td>2.7</td>\n",
              "      <td>4.9</td>\n",
              "      <td>1.8</td>\n",
              "    </tr>\n",
              "    <tr>\n",
              "      <th>60</th>\n",
              "      <td>5.0</td>\n",
              "      <td>2.0</td>\n",
              "      <td>3.5</td>\n",
              "      <td>1.0</td>\n",
              "    </tr>\n",
              "    <tr>\n",
              "      <th>144</th>\n",
              "      <td>6.7</td>\n",
              "      <td>3.3</td>\n",
              "      <td>5.7</td>\n",
              "      <td>2.5</td>\n",
              "    </tr>\n",
              "    <tr>\n",
              "      <th>76</th>\n",
              "      <td>6.8</td>\n",
              "      <td>2.8</td>\n",
              "      <td>4.8</td>\n",
              "      <td>1.4</td>\n",
              "    </tr>\n",
              "  </tbody>\n",
              "</table>\n",
              "</div>"
            ],
            "text/plain": [
              "     sepal_length  sepal_width  petal_length  petal_width\n",
              "127           6.1          3.0           4.9          1.8\n",
              "123           6.3          2.7           4.9          1.8\n",
              "60            5.0          2.0           3.5          1.0\n",
              "144           6.7          3.3           5.7          2.5\n",
              "76            6.8          2.8           4.8          1.4"
            ]
          },
          "metadata": {
            "tags": []
          },
          "execution_count": 7
        }
      ]
    },
    {
      "cell_type": "code",
      "metadata": {
        "id": "ogQLMrUjlU2_",
        "colab": {
          "base_uri": "https://localhost:8080/",
          "height": 204
        },
        "outputId": "66b8acdc-37d4-4dbc-f97e-f27313611764"
      },
      "source": [
        "#menampilkan 5 baris teratas data uji yang sudah dipisahkan dengan labelnya\n",
        "data_uji.head()"
      ],
      "execution_count": 8,
      "outputs": [
        {
          "output_type": "execute_result",
          "data": {
            "text/html": [
              "<div>\n",
              "<style scoped>\n",
              "    .dataframe tbody tr th:only-of-type {\n",
              "        vertical-align: middle;\n",
              "    }\n",
              "\n",
              "    .dataframe tbody tr th {\n",
              "        vertical-align: top;\n",
              "    }\n",
              "\n",
              "    .dataframe thead th {\n",
              "        text-align: right;\n",
              "    }\n",
              "</style>\n",
              "<table border=\"1\" class=\"dataframe\">\n",
              "  <thead>\n",
              "    <tr style=\"text-align: right;\">\n",
              "      <th></th>\n",
              "      <th>sepal_length</th>\n",
              "      <th>sepal_width</th>\n",
              "      <th>petal_length</th>\n",
              "      <th>petal_width</th>\n",
              "    </tr>\n",
              "  </thead>\n",
              "  <tbody>\n",
              "    <tr>\n",
              "      <th>65</th>\n",
              "      <td>6.7</td>\n",
              "      <td>3.1</td>\n",
              "      <td>4.4</td>\n",
              "      <td>1.4</td>\n",
              "    </tr>\n",
              "    <tr>\n",
              "      <th>111</th>\n",
              "      <td>6.4</td>\n",
              "      <td>2.7</td>\n",
              "      <td>5.3</td>\n",
              "      <td>1.9</td>\n",
              "    </tr>\n",
              "    <tr>\n",
              "      <th>77</th>\n",
              "      <td>6.7</td>\n",
              "      <td>3.0</td>\n",
              "      <td>5.0</td>\n",
              "      <td>1.7</td>\n",
              "    </tr>\n",
              "    <tr>\n",
              "      <th>9</th>\n",
              "      <td>4.9</td>\n",
              "      <td>3.1</td>\n",
              "      <td>1.5</td>\n",
              "      <td>0.1</td>\n",
              "    </tr>\n",
              "    <tr>\n",
              "      <th>23</th>\n",
              "      <td>5.1</td>\n",
              "      <td>3.3</td>\n",
              "      <td>1.7</td>\n",
              "      <td>0.5</td>\n",
              "    </tr>\n",
              "  </tbody>\n",
              "</table>\n",
              "</div>"
            ],
            "text/plain": [
              "     sepal_length  sepal_width  petal_length  petal_width\n",
              "65            6.7          3.1           4.4          1.4\n",
              "111           6.4          2.7           5.3          1.9\n",
              "77            6.7          3.0           5.0          1.7\n",
              "9             4.9          3.1           1.5          0.1\n",
              "23            5.1          3.3           1.7          0.5"
            ]
          },
          "metadata": {
            "tags": []
          },
          "execution_count": 8
        }
      ]
    },
    {
      "cell_type": "markdown",
      "metadata": {
        "id": "xm_dJNeMgl9u"
      },
      "source": [
        "## 3) Menghitung jarak euclidean\n",
        "\n",
        "Tahapan awal dari algoritma KNN adalah perhitungan jarak. Salah satu metode perhitungan jarak yang bisa digunakan adalah jarak Euclidean. Buatlah fungsi bernama **jarakEu** yang berfungsi menghitung jarak euclidean dari dua buah vektor (tanpa kelas)"
      ]
    },
    {
      "cell_type": "code",
      "metadata": {
        "id": "QNEYOTLsfqld"
      },
      "source": [
        "#membuat fungsi jarakEu untuk mengitung jarak menggunakan algoritma Euclidean Distance\n",
        "def jarakEu(data1,data2):\n",
        "  #menghitung selisih kuadrat antar 2 data dengan fungsi square pada library numpy\n",
        "  jarak = np.square(data1-data2)\n",
        "  #menghitung jumlah jarak kuadrat antar 2 data dengan fungsi sum pada library numpy\n",
        "  jarak = np.sum(jarak)\n",
        "  #mengembalikan nilai akar dari jarak yang sudah dihitung\n",
        "  return np.sqrt(jarak)"
      ],
      "execution_count": 9,
      "outputs": []
    },
    {
      "cell_type": "markdown",
      "metadata": {
        "id": "bfznAo4-tUM5"
      },
      "source": [
        "Uji fungsi **jarakEu** untuk menghitung jarak antara data latih pertama dengan data uji pertama."
      ]
    },
    {
      "cell_type": "code",
      "metadata": {
        "id": "kEK4o1-LicZ5",
        "colab": {
          "base_uri": "https://localhost:8080/"
        },
        "outputId": "b50cc64d-10ba-4240-cb35-f0653a2398a4"
      },
      "source": [
        "#menghitung jarak data latih dan data uji pada indeks lokasi ke 0 (baris pertama) menggunakan fungsi jarakEU\n",
        "jarak = jarakEu(data_latih.iloc[0], data_uji.iloc[0])\n",
        "#menampilkan jarak yang didapatkan\n",
        "print(jarak)"
      ],
      "execution_count": 10,
      "outputs": [
        {
          "output_type": "stream",
          "text": [
            "0.8831760866327851\n"
          ],
          "name": "stdout"
        }
      ]
    },
    {
      "cell_type": "markdown",
      "metadata": {
        "id": "46FZOwFIlkM_"
      },
      "source": [
        "## 4) Algoritma KNN\n",
        "\n",
        "Implementasikan algoritma KNN dengan tahapan-tahapan berikut :\n",
        "1. Hitung jarak antara data uji dengan setiap data latih.\n",
        "2. Cari *k* data latih dengan jarak terkecil.\n",
        "3. Tentukan kelas dari *k* data latih tersebut.\n",
        "4. Kelas data uji ditentukan dari mayoritas kelas *k* data latih.\n",
        "\n",
        "Buatlah fungsi dengan nama **knn** yang menerima input berupa *k*, sekumpulan data latih dan labelnya, serta sebuah data uji"
      ]
    },
    {
      "cell_type": "code",
      "metadata": {
        "id": "qFB6pLbeikcG"
      },
      "source": [
        "#melakukan import sebagian library yang akan digunakan\n",
        "#pada kasus  ini hanya mengimport Counter dari modul collections\n",
        "from collections import Counter\n",
        "\n",
        "#membuat fungsi KNN untuk memprediksikan data latih yang membutuhkan 4 parameter (nilai K, datalatih\n",
        "#, labellatih dan datauji)\n",
        "def knn(k ,datalatih, labellatih, datauji):\n",
        "  #mengitung jarak dengan memanggil fungsi jarakEu dan disimpan dalam array\n",
        "  jarak = np.array([jarakEu(datalatih.iloc[x],datauji) for x in range (datalatih.shape[0])])\n",
        "  #mengambil indeks dalam array yang nilai jaraknya k teratas\n",
        "  indeks_k_minimum = jarak.argsort()[:k]\n",
        "  #mengambil data kelas/label dari data latih yang meliki jarak terdekat \n",
        "  k_kelas = labellatih.iloc[indeks_k_minimum].to_numpy()\n",
        "  #melakukan penghitungan jumlah kelas dalam K\n",
        "  counter = Counter(k_kelas)\n",
        "  #menentukan kelas uji dimana counter kelas yang berada pada K paling  besar dan minimal ada 1 kali.\n",
        "  kelas_uji = counter.most_common(1)[0][0]\n",
        "  return kelas_uji"
      ],
      "execution_count": 11,
      "outputs": []
    },
    {
      "cell_type": "markdown",
      "metadata": {
        "id": "m7PEASGt0I04"
      },
      "source": [
        "Lakukan pengujian fungsi **knn** untuk menentukan kelas dari data uji pertama"
      ]
    },
    {
      "cell_type": "code",
      "metadata": {
        "id": "2DfvWo7Nr2Iw",
        "colab": {
          "base_uri": "https://localhost:8080/"
        },
        "outputId": "35d70c6f-6b1a-461f-de4f-61e2312435e9"
      },
      "source": [
        "hasil = knn(3,data_latih,label_latih,data_uji.iloc[0])\n",
        "print(hasil)"
      ],
      "execution_count": 12,
      "outputs": [
        {
          "output_type": "stream",
          "text": [
            "Iris-versicolor\n"
          ],
          "name": "stdout"
        }
      ]
    },
    {
      "cell_type": "markdown",
      "metadata": {
        "id": "c7qKiXO3cINi"
      },
      "source": [
        "## 5) KNN pada Scikit-learn\n",
        "\n",
        "Library scikit-learn memiliki algoritma KNN yang siap untuk digunakan. Sebagai pengenalan, Anda akan melakukan klasifikasi data yang sama menggunakan KNN yang tersedia pada library scikit-learn"
      ]
    },
    {
      "cell_type": "code",
      "metadata": {
        "id": "Rmt06ECzcdbf",
        "colab": {
          "base_uri": "https://localhost:8080/"
        },
        "outputId": "b42bde28-48f0-4c5d-d07c-79241db2f980"
      },
      "source": [
        "#melakukan import sebagian library yang akan digunakan\n",
        "#pada kasus  ini hanya mengimport KNeighborsClassifier dari modul klearn.neighbors\n",
        "from sklearn.neighbors import KNeighborsClassifier\n",
        "#melakukan modelling KNN menggunakan jumlah tetangga k = 3\n",
        "KNN = KNeighborsClassifier(n_neighbors = 3)\n",
        "#menentukan data train beserta label menggunakan library KNN\n",
        "KNN.fit(data_latih,label_latih)\n",
        "#melakukan prediksi pada data uji pada indeks 0\n",
        "kelas = KNN.predict([data_uji.iloc[0]])\n",
        "#menampilkan kelas data yang diuji\n",
        "print(kelas)"
      ],
      "execution_count": 13,
      "outputs": [
        {
          "output_type": "stream",
          "text": [
            "['Iris-versicolor']\n"
          ],
          "name": "stdout"
        }
      ]
    },
    {
      "cell_type": "markdown",
      "metadata": {
        "id": "ZiDmUxVBuo42"
      },
      "source": [
        "## TUGAS\n",
        "1. Buatlah fungsi bernama **jarakCity** yang berfungsi menghitung jarak City Block antara dua vektor.\n",
        "2. Buatlah sebuah fungsi bernama **knn_multi** yang dapat menentukan kelas dari **semua** data uji (Fungsi **knn** yang sudah Anda buat hanya dapat menentukan kelas dari sebuah data uji. Anda dapat memanfaatkan fungsi **knn** yang telah ada\n",
        "3. Buatlah fungsi bernama **cek_hasil** yang berfungsi membandingkan hasil klasifikasi dengan label sebenarnya. Fungsi ini menerima input 2 buah list, yaitu list label hasil klasifikasi dan list label data uji yang sebenarnya. Output dari fungsi ini adalah integer, yang menunjukkan berapa banyak label hasil klasifikasi yang sama dengan label data uji sebenarnya.\n",
        "4. Jalankan fungsi **knn_multi** dengan nilai k=3, k=7,k=9 dan k=13. Amati hasil dari fungsi **cek_hasil** dengan nilai k tersebut. Apa kesimpulan Anda?"
      ]
    },
    {
      "cell_type": "code",
      "metadata": {
        "id": "BgNZPfuvrV0K"
      },
      "source": [
        "#membuat fungsi jarakCity untuk mengitung jarak menggunakan algoritma Manhattan Distance\n",
        "def jarakCity(data1,data2):\n",
        "  jarak = np.abs(data1-data2);\n",
        "  jarak = np.sum(jarak);\n",
        "  return jarak"
      ],
      "execution_count": 14,
      "outputs": []
    },
    {
      "cell_type": "code",
      "metadata": {
        "colab": {
          "base_uri": "https://localhost:8080/"
        },
        "id": "HYE_sjWRdQ1T",
        "outputId": "1bf4c22f-db4c-462d-9ba6-4cb8f9e18285"
      },
      "source": [
        "jarakManhattan = jarakCity(data_latih.iloc[0], data_uji.iloc[0])\n",
        "jarakManhattan"
      ],
      "execution_count": 15,
      "outputs": [
        {
          "output_type": "execute_result",
          "data": {
            "text/plain": [
              "1.6000000000000008"
            ]
          },
          "metadata": {
            "tags": []
          },
          "execution_count": 15
        }
      ]
    },
    {
      "cell_type": "code",
      "metadata": {
        "id": "0oic2NtTeHL2"
      },
      "source": [
        "#melakukan import sebagian library yang akan digunakan\n",
        "#pada kasus  ini hanya mengimport Counter dari modul collections\n",
        "from collections import Counter\n",
        "\n",
        "#membuat fungsi KNN untuk memprediksikan data latih yang membutuhkan 4 parameter (nilai K, datalatih\n",
        "#, labellatih dan datauji)\n",
        "def knnCity(k ,datalatih, labellatih, datauji):\n",
        "  #mengitung jarak dengan memanggil fungsi jarakCity dan disimpan dalam array\n",
        "  jarak = np.array([jarakCity(datalatih.iloc[x],datauji) for x in range (datalatih.shape[0])])\n",
        "  #mengambil indeks dalam array yang nilai jaraknya k teratas\n",
        "  indeks_k_minimum = jarak.argsort()[:k]\n",
        "  #mengambil data kelas/label dari data latih yang meliki jarak terdekat \n",
        "  k_kelas = labellatih.iloc[indeks_k_minimum].to_numpy()\n",
        "  #melakukan penghitungan jumlah kelas dalam K\n",
        "  counter = Counter(k_kelas)\n",
        "  #menentukan kelas uji dimana counter kelas yang berada pada K paling  besar dan minimal ada 1 kali.\n",
        "  kelas_uji = counter.most_common(1)[0][0]\n",
        "  return kelas_uji"
      ],
      "execution_count": 16,
      "outputs": []
    },
    {
      "cell_type": "code",
      "metadata": {
        "colab": {
          "base_uri": "https://localhost:8080/"
        },
        "id": "f_-0d3MLeOdB",
        "outputId": "9c16769c-ebb6-420f-e907-0731bba38517"
      },
      "source": [
        "hasil = knnCity(3,data_latih,label_latih,data_uji.iloc[0])\n",
        "print(hasil)"
      ],
      "execution_count": 17,
      "outputs": [
        {
          "output_type": "stream",
          "text": [
            "Iris-versicolor\n"
          ],
          "name": "stdout"
        }
      ]
    },
    {
      "cell_type": "code",
      "metadata": {
        "id": "B5OZWrTkJ7rg"
      },
      "source": [
        "#jawaban soal 2\n",
        "#membuat fungsi KNN MULTI untuk menenetukan semua kelas data uji menggunakan Euclidean Distance\n",
        "def knn_multi_Eu(k, datalatih, labellatih, datauji):\n",
        "  #membuat variabel list result yang digunakan untuk menampung hasil kelas tiap data uji\n",
        "  result = []\n",
        "  #melakukan perulangan setiap data latih \n",
        "  for data in range(datauji.shape[0]):\n",
        "    #melakukan pengujian setiap data uji terhadap data latih\n",
        "    kelas = knn(k,datalatih,labellatih,datauji.iloc[data])\n",
        "    #menambahkan hasil kelas setiap data uji \n",
        "    result.append(kelas)\n",
        "  return result"
      ],
      "execution_count": 18,
      "outputs": []
    },
    {
      "cell_type": "code",
      "metadata": {
        "id": "5fT11UHLnQKX"
      },
      "source": [
        "#membuat fungsi KNN MULTI untuk menenetukan semua kelas data uji menggunakan Manhattan Distance\n",
        "def knn_multi_Man(k, datalatih, labellatih, datauji):\n",
        "  #membuat variabel list result yang digunakan untuk menampung hasil kelas tiap data uji\n",
        "  result = []\n",
        "  #melakukan perulangan setiap data latih \n",
        "  for data in range(datauji.shape[0]):\n",
        "    #melakukan pengujian setiap data uji terhadap data latih\n",
        "    kelas = knnCity(k,datalatih,labellatih,datauji.iloc[data])\n",
        "    #menambahkan hasil kelas setiap data uji \n",
        "    result.append(kelas)\n",
        "  return result"
      ],
      "execution_count": 19,
      "outputs": []
    },
    {
      "cell_type": "code",
      "metadata": {
        "id": "a6Arw7yWhG6A"
      },
      "source": [
        "#melakukan pengujian untuk semua data uji menggunakan KNN euclidean distance\n",
        "listEu = knn_multi_Eu(3,data_latih,label_latih,data_uji)"
      ],
      "execution_count": 20,
      "outputs": []
    },
    {
      "cell_type": "code",
      "metadata": {
        "id": "2OZFj3d7nZ9l"
      },
      "source": [
        "#melakukan pengujian untuk semua data uji menggunakan KNN Manhattan distance\n",
        "listMan = knn_multi_Man(3,data_latih,label_latih,data_uji)"
      ],
      "execution_count": 21,
      "outputs": []
    },
    {
      "cell_type": "code",
      "metadata": {
        "id": "XoH2D5AAKLLJ"
      },
      "source": [
        "#jawaban soal 3\n",
        "#membuat fungsi cek-hasil untuk membandingkan antara label hasil knn dan label sebenarnya\n",
        "def cek_hasil(k,label_hasil_pengujian, label_uji):\n",
        "  #variabel untuk menghitung berapa data yang sudah sesuai\n",
        "  HasilSama = 0;\n",
        "  for i in range(len(label_hasil_pengujian)):\n",
        "    #kondisi jika hasil pengujian dan hasil sebenarnya sama\n",
        "    if (label_hasil_pengujian[i] == label_uji.iloc[i]):\n",
        "      #penambahan nilai 1 jika hasilnya sama\n",
        "      HasilSama +=1\n",
        "  \n",
        "  #cetak jumlah K yang digunakan\n",
        "  print(\"Jumlah K dalam pengujian : \", k)\n",
        "  #cetak jumlah label yang diuji\n",
        "  print(\"Jumlah Label yang diuji : \", len(label_hasil_pengujian))\n",
        "  #cetak jumlah label yang sudah benar\n",
        "  print(\"Jumlah Label yang sama dengan data asli : \", HasilSama)\n",
        "  #cetak akurasi\n",
        "  print(\"Akurasi = \", HasilSama/len(label_hasil_pengujian))"
      ],
      "execution_count": 22,
      "outputs": []
    },
    {
      "cell_type": "code",
      "metadata": {
        "colab": {
          "base_uri": "https://localhost:8080/"
        },
        "id": "b41GUUZ8pSPc",
        "outputId": "e79b7179-49a0-454a-c6f3-0a93ebb313e2"
      },
      "source": [
        "#Pengecekan akurasi dengan k= 3 metode euclidean distance\n",
        "cek_hasil(3,listEu,label_uji)"
      ],
      "execution_count": 23,
      "outputs": [
        {
          "output_type": "stream",
          "text": [
            "Jumlah K dalam pengujian :  3\n",
            "Jumlah Label yang diuji :  30\n",
            "Jumlah Label yang sama dengan data asli :  30\n",
            "Akurasi =  1.0\n"
          ],
          "name": "stdout"
        }
      ]
    },
    {
      "cell_type": "code",
      "metadata": {
        "colab": {
          "base_uri": "https://localhost:8080/"
        },
        "id": "_HF4EdtRrlAz",
        "outputId": "0300c104-4491-4ab6-ae63-d6475c2f2f85"
      },
      "source": [
        "#Pengecekan akurasi dengan k= 3 metode Manhattan distance\n",
        "cek_hasil(3,listMan,label_uji)"
      ],
      "execution_count": 24,
      "outputs": [
        {
          "output_type": "stream",
          "text": [
            "Jumlah K dalam pengujian :  3\n",
            "Jumlah Label yang diuji :  30\n",
            "Jumlah Label yang sama dengan data asli :  30\n",
            "Akurasi =  1.0\n"
          ],
          "name": "stdout"
        }
      ]
    },
    {
      "cell_type": "code",
      "metadata": {
        "id": "eUFsXtEQKOeN"
      },
      "source": [
        "#jawaban soal 4\n",
        "#testing data dengan k= 3 metode euclidean distance\n",
        "listEu = knn_multi_Eu(3,data_latih,label_latih,data_uji)\n",
        "#testing data dengan k= 7 metode euclidean distance\n",
        "listEu7 = knn_multi_Eu(7,data_latih,label_latih,data_uji)\n",
        "#testing data dengan k= 9 metode euclidean distance\n",
        "listEu9 = knn_multi_Eu(9,data_latih,label_latih,data_uji)\n",
        "#testing data dengan k= 13 metode euclidean distance\n",
        "listEu13 = knn_multi_Eu(13,data_latih,label_latih,data_uji)"
      ],
      "execution_count": 25,
      "outputs": []
    },
    {
      "cell_type": "code",
      "metadata": {
        "colab": {
          "base_uri": "https://localhost:8080/"
        },
        "id": "03Osn6Satboe",
        "outputId": "0016207d-53ac-49e6-c05b-f313b9954836"
      },
      "source": [
        "#Pengecekan akurasi dengan k= 3 metode euclidean distance\n",
        "cek_hasil(3,listEu,label_uji)"
      ],
      "execution_count": 26,
      "outputs": [
        {
          "output_type": "stream",
          "text": [
            "Jumlah K dalam pengujian :  3\n",
            "Jumlah Label yang diuji :  30\n",
            "Jumlah Label yang sama dengan data asli :  30\n",
            "Akurasi =  1.0\n"
          ],
          "name": "stdout"
        }
      ]
    },
    {
      "cell_type": "code",
      "metadata": {
        "colab": {
          "base_uri": "https://localhost:8080/"
        },
        "id": "J60zdk7MtfXq",
        "outputId": "0759a8bd-7906-411a-e40e-d4dc3b903a23"
      },
      "source": [
        "#Pengecekan akurasi dengan k= 7 metode euclidean distance\n",
        "cek_hasil(7,listEu7,label_uji)"
      ],
      "execution_count": 27,
      "outputs": [
        {
          "output_type": "stream",
          "text": [
            "Jumlah K dalam pengujian :  7\n",
            "Jumlah Label yang diuji :  30\n",
            "Jumlah Label yang sama dengan data asli :  29\n",
            "Akurasi =  0.9666666666666667\n"
          ],
          "name": "stdout"
        }
      ]
    },
    {
      "cell_type": "code",
      "metadata": {
        "colab": {
          "base_uri": "https://localhost:8080/"
        },
        "id": "HXtDK-Y_thhi",
        "outputId": "8dc4c85b-1e50-4d4b-ca7e-5926c88891b9"
      },
      "source": [
        "#Pengecekan akurasi dengan k= 9 metode euclidean distance\n",
        "cek_hasil(9,listEu9,label_uji)"
      ],
      "execution_count": 28,
      "outputs": [
        {
          "output_type": "stream",
          "text": [
            "Jumlah K dalam pengujian :  9\n",
            "Jumlah Label yang diuji :  30\n",
            "Jumlah Label yang sama dengan data asli :  29\n",
            "Akurasi =  0.9666666666666667\n"
          ],
          "name": "stdout"
        }
      ]
    },
    {
      "cell_type": "code",
      "metadata": {
        "colab": {
          "base_uri": "https://localhost:8080/"
        },
        "id": "4WPhPHvNtkfq",
        "outputId": "650f5ba5-d718-4e40-c655-21f0ca42a6c7"
      },
      "source": [
        "#Pengecekan akurasi dengan k= 13 metode euclidean distance\n",
        "cek_hasil(13,listEu13,label_uji)"
      ],
      "execution_count": 29,
      "outputs": [
        {
          "output_type": "stream",
          "text": [
            "Jumlah K dalam pengujian :  13\n",
            "Jumlah Label yang diuji :  30\n",
            "Jumlah Label yang sama dengan data asli :  29\n",
            "Akurasi =  0.9666666666666667\n"
          ],
          "name": "stdout"
        }
      ]
    },
    {
      "cell_type": "markdown",
      "metadata": {
        "id": "Ml45KVHX4H6o"
      },
      "source": [
        "Penjelasan jawaban soal nomor 4\n",
        "\n",
        "KNN atau K-Nearest Neighbor merupakan salah satu metode klasifikasi data dengan membandingkan jarak terdekat. Nilai $K$ yang digunakan adalah jumlah tetangga terdekat yang akan dibandingkan. Setelah melakukan perbandingan dengan tetangga terdekat maka akan dilakukan voting label manakah yang memiliki jumlah terbanyak dan label itulah yang dimiliki data test. Sehingga pemilihan jumlah nilai K berpengaruh pada akurasi metode ini.\n",
        "\n",
        "Dapat dilihat pada data pengecekan ketika $K$ bernilai 3 maka akurasinya sebesar 0.9, sedangkan pada $K$ = 7 sebesar 0.933, pada $K$ = 9 sebesar 1 (semua data tes benar), dan 0,966 pada $K$ = 13. Pada metode ini harus menghindari jumlah $K$ yang bernilai genap dikarenakan nilai voting dapat seri antar label sehingga dapat menurunkan akurasi. Sedangkan jika menggunakan jumlah $k$ ganjil, hal tersebut dapat dihindari atau memiliki potensi lebih rendah mendapati kasus tersebut. Meskipun demikian, pembagian data latih dan tes dapat mempengaruhi keakuratan, kualitas data, dan metode penghitungan jarak (seperti manhattan, euclidean) dan lain-lain."
      ]
    }
  ]
}