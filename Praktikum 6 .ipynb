{
  "nbformat": 4,
  "nbformat_minor": 0,
  "metadata": {
    "colab": {
      "name": "Praktikum 6 - Firda Adha Cahyanti - 195150201111037",
      "provenance": [],
      "collapsed_sections": [],
      "include_colab_link": true
    },
    "kernelspec": {
      "name": "python3",
      "display_name": "Python 3"
    }
  },
  "cells": [
    {
      "cell_type": "markdown",
      "metadata": {
        "id": "view-in-github",
        "colab_type": "text"
      },
      "source": [
        "<a href=\"https://colab.research.google.com/github/firdaaacy/Praktikum-PPM/blob/main/Praktikum%206%20.ipynb\" target=\"_parent\"><img src=\"https://colab.research.google.com/assets/colab-badge.svg\" alt=\"Open In Colab\"/></a>"
      ]
    },
    {
      "cell_type": "markdown",
      "metadata": {
        "id": "-qDsm6BnME2X"
      },
      "source": [
        "# Praktikum Pengantar Pembelajaran Mesin\n",
        "\n",
        "\n",
        "---\n",
        "## Bab 6. Support Vector Machine (SVM)\n"
      ]
    },
    {
      "cell_type": "markdown",
      "metadata": {
        "id": "sQAGcnK3MOS7"
      },
      "source": [
        "### 1) Import Data\n",
        "\n",
        "Unduh dataset yang akan digunakan pada praktikum kali ini. Anda dapat menggunakan aplikasi wget untuk mendowload dataset dan menyimpannya dalam Google Colab. Jalankan cell di bawah ini untuk mengunduh dataset"
      ]
    },
    {
      "cell_type": "code",
      "metadata": {
        "id": "FpjqVlzBMNLd",
        "colab": {
          "base_uri": "https://localhost:8080/"
        },
        "outputId": "ebedcdf3-e36a-4b60-df56-f15e6a484c02"
      },
      "source": [
        "#mengunduh dataset iris dari link yang sudah diberikan\n",
        "! wget https://dataset-ppm.s3.amazonaws.com/iris.csv"
      ],
      "execution_count": 310,
      "outputs": [
        {
          "output_type": "stream",
          "text": [
            "--2021-07-10 12:39:24--  https://dataset-ppm.s3.amazonaws.com/iris.csv\n",
            "Resolving dataset-ppm.s3.amazonaws.com (dataset-ppm.s3.amazonaws.com)... 52.217.166.65\n",
            "Connecting to dataset-ppm.s3.amazonaws.com (dataset-ppm.s3.amazonaws.com)|52.217.166.65|:443... connected.\n",
            "HTTP request sent, awaiting response... 200 OK\n",
            "Length: 4609 (4.5K) [text/csv]\n",
            "Saving to: ‘iris.csv.8’\n",
            "\n",
            "\riris.csv.8            0%[                    ]       0  --.-KB/s               \riris.csv.8          100%[===================>]   4.50K  --.-KB/s    in 0s      \n",
            "\n",
            "2021-07-10 12:39:24 (84.4 MB/s) - ‘iris.csv.8’ saved [4609/4609]\n",
            "\n"
          ],
          "name": "stdout"
        }
      ]
    },
    {
      "cell_type": "markdown",
      "metadata": {
        "id": "SJy4t3lIOgGp"
      },
      "source": [
        "Setelah dataset berhasil diunduh, langkah berikutnya adalah membaca dataset dengan memanfaatkan fungsi **readcsv** dari library pandas. Lakukan pembacaan berkas csv ke dalam dataframe dengan nama **data** menggunakan fungsi **readcsv**. Jangan lupa untuk melakukan import library pandas terlebih dahulu\n"
      ]
    },
    {
      "cell_type": "code",
      "metadata": {
        "id": "mdhbxk_2OzbB"
      },
      "source": [
        "#mengimpor library pandas untuk data analitis\n",
        "import pandas as pd\n",
        "#mengimpor library numpy untuk array\n",
        "import numpy as np\n",
        "#membaca data iris dengan library pandas dengan method read csv\n",
        "data = pd.read_csv('iris.csv')"
      ],
      "execution_count": 311,
      "outputs": []
    },
    {
      "cell_type": "markdown",
      "metadata": {
        "id": "w6NfrIDTOK38"
      },
      "source": [
        "\n",
        "\n",
        "Cek isi dataset Anda dengan menggunakan perintah **head()**"
      ]
    },
    {
      "cell_type": "code",
      "metadata": {
        "id": "Uaiaj796OFH3",
        "colab": {
          "base_uri": "https://localhost:8080/",
          "height": 204
        },
        "outputId": "b5838dbd-0661-4a09-8462-7c3a9c3f8636"
      },
      "source": [
        "#melihat 5 data teratas dengan method .head()\n",
        "data.head()"
      ],
      "execution_count": 312,
      "outputs": [
        {
          "output_type": "execute_result",
          "data": {
            "text/html": [
              "<div>\n",
              "<style scoped>\n",
              "    .dataframe tbody tr th:only-of-type {\n",
              "        vertical-align: middle;\n",
              "    }\n",
              "\n",
              "    .dataframe tbody tr th {\n",
              "        vertical-align: top;\n",
              "    }\n",
              "\n",
              "    .dataframe thead th {\n",
              "        text-align: right;\n",
              "    }\n",
              "</style>\n",
              "<table border=\"1\" class=\"dataframe\">\n",
              "  <thead>\n",
              "    <tr style=\"text-align: right;\">\n",
              "      <th></th>\n",
              "      <th>sepal_length</th>\n",
              "      <th>sepal_width</th>\n",
              "      <th>petal_length</th>\n",
              "      <th>petal_width</th>\n",
              "      <th>species</th>\n",
              "    </tr>\n",
              "  </thead>\n",
              "  <tbody>\n",
              "    <tr>\n",
              "      <th>0</th>\n",
              "      <td>5.1</td>\n",
              "      <td>3.5</td>\n",
              "      <td>1.4</td>\n",
              "      <td>0.2</td>\n",
              "      <td>Iris-setosa</td>\n",
              "    </tr>\n",
              "    <tr>\n",
              "      <th>1</th>\n",
              "      <td>4.9</td>\n",
              "      <td>3.0</td>\n",
              "      <td>1.4</td>\n",
              "      <td>0.2</td>\n",
              "      <td>Iris-setosa</td>\n",
              "    </tr>\n",
              "    <tr>\n",
              "      <th>2</th>\n",
              "      <td>4.7</td>\n",
              "      <td>3.2</td>\n",
              "      <td>1.3</td>\n",
              "      <td>0.2</td>\n",
              "      <td>Iris-setosa</td>\n",
              "    </tr>\n",
              "    <tr>\n",
              "      <th>3</th>\n",
              "      <td>4.6</td>\n",
              "      <td>3.1</td>\n",
              "      <td>1.5</td>\n",
              "      <td>0.2</td>\n",
              "      <td>Iris-setosa</td>\n",
              "    </tr>\n",
              "    <tr>\n",
              "      <th>4</th>\n",
              "      <td>5.0</td>\n",
              "      <td>3.6</td>\n",
              "      <td>1.4</td>\n",
              "      <td>0.2</td>\n",
              "      <td>Iris-setosa</td>\n",
              "    </tr>\n",
              "  </tbody>\n",
              "</table>\n",
              "</div>"
            ],
            "text/plain": [
              "   sepal_length  sepal_width  petal_length  petal_width      species\n",
              "0           5.1          3.5           1.4          0.2  Iris-setosa\n",
              "1           4.9          3.0           1.4          0.2  Iris-setosa\n",
              "2           4.7          3.2           1.3          0.2  Iris-setosa\n",
              "3           4.6          3.1           1.5          0.2  Iris-setosa\n",
              "4           5.0          3.6           1.4          0.2  Iris-setosa"
            ]
          },
          "metadata": {
            "tags": []
          },
          "execution_count": 312
        }
      ]
    },
    {
      "cell_type": "markdown",
      "metadata": {
        "id": "1bGmXPhp3jyJ"
      },
      "source": [
        "Metode Support Vector Machine (SVM) dasar hanya mampu melakukan klasifikasi data yang terdiri dari dua kelas, atau disebut klasifikasi biner. Dataset iris memiliki 3 kelas, sehingga salah satu kelasnya, yaitu Iris-virginica perlu dihapus. Cell berikut menghapus data yang memiliki kelas Iris-virginica"
      ]
    },
    {
      "cell_type": "code",
      "metadata": {
        "id": "aQ1x8hpw6jPL"
      },
      "source": [
        "#menghapus kelas iris-virginica agar hanya tersisa 2 kelas dengan perinta drop\n",
        "data.drop(data[data['species']=='Iris-virginica'].index,inplace=True)"
      ],
      "execution_count": 313,
      "outputs": []
    },
    {
      "cell_type": "markdown",
      "metadata": {
        "id": "eXtCsi_V4IeW"
      },
      "source": [
        "SVM juga memiliki keterbatasan, yaitu hanya mampu menerima kelas dalam bentuk numerik. Cell berikut mengubah kelas menjadi bilangan, Iris setosa menjadi -1 dan Iris-versicolor menjadi 1"
      ]
    },
    {
      "cell_type": "code",
      "metadata": {
        "id": "H0rs8c7X-aXt"
      },
      "source": [
        "#mengganti kelas iris-sentosa menjadi -1 dan iris-versicolor menjadi 1\n",
        "data['species']=data['species'].map({'Iris-setosa':-1,'Iris-versicolor':1})"
      ],
      "execution_count": 314,
      "outputs": []
    },
    {
      "cell_type": "markdown",
      "metadata": {
        "id": "rA6SQgWW4w0X"
      },
      "source": [
        "Tampilkan beberapa data untuk mengecek hasilnya"
      ]
    },
    {
      "cell_type": "code",
      "metadata": {
        "id": "lZ6X4oeM8Bmo",
        "colab": {
          "base_uri": "https://localhost:8080/",
          "height": 204
        },
        "outputId": "dcbd034a-b599-49d0-aaf0-140714f19f7b"
      },
      "source": [
        "#melihat 5 data teratas dengan method .head()\n",
        "data.head()"
      ],
      "execution_count": 315,
      "outputs": [
        {
          "output_type": "execute_result",
          "data": {
            "text/html": [
              "<div>\n",
              "<style scoped>\n",
              "    .dataframe tbody tr th:only-of-type {\n",
              "        vertical-align: middle;\n",
              "    }\n",
              "\n",
              "    .dataframe tbody tr th {\n",
              "        vertical-align: top;\n",
              "    }\n",
              "\n",
              "    .dataframe thead th {\n",
              "        text-align: right;\n",
              "    }\n",
              "</style>\n",
              "<table border=\"1\" class=\"dataframe\">\n",
              "  <thead>\n",
              "    <tr style=\"text-align: right;\">\n",
              "      <th></th>\n",
              "      <th>sepal_length</th>\n",
              "      <th>sepal_width</th>\n",
              "      <th>petal_length</th>\n",
              "      <th>petal_width</th>\n",
              "      <th>species</th>\n",
              "    </tr>\n",
              "  </thead>\n",
              "  <tbody>\n",
              "    <tr>\n",
              "      <th>0</th>\n",
              "      <td>5.1</td>\n",
              "      <td>3.5</td>\n",
              "      <td>1.4</td>\n",
              "      <td>0.2</td>\n",
              "      <td>-1</td>\n",
              "    </tr>\n",
              "    <tr>\n",
              "      <th>1</th>\n",
              "      <td>4.9</td>\n",
              "      <td>3.0</td>\n",
              "      <td>1.4</td>\n",
              "      <td>0.2</td>\n",
              "      <td>-1</td>\n",
              "    </tr>\n",
              "    <tr>\n",
              "      <th>2</th>\n",
              "      <td>4.7</td>\n",
              "      <td>3.2</td>\n",
              "      <td>1.3</td>\n",
              "      <td>0.2</td>\n",
              "      <td>-1</td>\n",
              "    </tr>\n",
              "    <tr>\n",
              "      <th>3</th>\n",
              "      <td>4.6</td>\n",
              "      <td>3.1</td>\n",
              "      <td>1.5</td>\n",
              "      <td>0.2</td>\n",
              "      <td>-1</td>\n",
              "    </tr>\n",
              "    <tr>\n",
              "      <th>4</th>\n",
              "      <td>5.0</td>\n",
              "      <td>3.6</td>\n",
              "      <td>1.4</td>\n",
              "      <td>0.2</td>\n",
              "      <td>-1</td>\n",
              "    </tr>\n",
              "  </tbody>\n",
              "</table>\n",
              "</div>"
            ],
            "text/plain": [
              "   sepal_length  sepal_width  petal_length  petal_width  species\n",
              "0           5.1          3.5           1.4          0.2       -1\n",
              "1           4.9          3.0           1.4          0.2       -1\n",
              "2           4.7          3.2           1.3          0.2       -1\n",
              "3           4.6          3.1           1.5          0.2       -1\n",
              "4           5.0          3.6           1.4          0.2       -1"
            ]
          },
          "metadata": {
            "tags": []
          },
          "execution_count": 315
        }
      ]
    },
    {
      "cell_type": "markdown",
      "metadata": {
        "id": "lfi1uHIxPdDe"
      },
      "source": [
        "## 2) Membagi data menjadi data latih dan data uji\n",
        "\n",
        "Metode pembelajaran mesin memerlukan dua jenis data :\n",
        "\n",
        "\n",
        "1.   Data latih : Digunakan untuk proses training metode klasifikasi\n",
        "2.   Data uji : Digunakan untuk proses evaluasi metode klasifikasi\n",
        "\n",
        "Data uji dan data latih perlu dibuat terpisah (mutualy exclusive) agar hasil evaluasi lebih akurat.\n",
        "\n",
        "Data uji dan data latih dapat dibuat dengan cara membagi dataset dengan rasio tertentu, misalnya 80% data latih dan 20% data uji.\n",
        "\n",
        "Library Scikit-learn memiliki fungsi [train_test_split](https://scikit-learn.org/stable/modules/generated/sklearn.model_selection.train_test_split.html) pada modul **model_selection** untuk membagi dataset menjadi data latih dan data uji. Bagilah dataset anda menjadi dua, yaitu **data_latih** dan **data_uji**.\n"
      ]
    },
    {
      "cell_type": "code",
      "metadata": {
        "id": "jJjfXgfmPTlU"
      },
      "source": [
        "#melakukan import sebagian library yang akan digunakan\n",
        "#pada kasus  ini hanya mengimport train_test_split dari modul sklearn.model_selection\n",
        "from sklearn.model_selection import train_test_split\n",
        "#melakukan pembagian dataset dengan pembagian 20% data uji dan 80% data latih\n",
        "data_latih, data_uji = train_test_split(data, test_size = 0.2, random_state = 10)"
      ],
      "execution_count": 316,
      "outputs": []
    },
    {
      "cell_type": "markdown",
      "metadata": {
        "id": "tBhcsUDYfw2q"
      },
      "source": [
        "Tampilkan banyaknya data pada **data_latih** dan **data_uji**. Seharusnya **data_latih** terdiri dari 80 data, dan **data_uji** terdiri dari 20 data"
      ]
    },
    {
      "cell_type": "code",
      "metadata": {
        "id": "6OtySD4efmmQ",
        "colab": {
          "base_uri": "https://localhost:8080/"
        },
        "outputId": "95dde5d6-91db-41b8-a57e-e257fe9ea020"
      },
      "source": [
        "#menampilkan jumlah baris data uji yang sudah dibagi 20% dari dataset\n",
        "print(data_uji.shape[0])\n",
        "#menampilkan jumlah baris data latih yang sudah dibagi 80% dari dataset\n",
        "print(data_latih.shape[0])"
      ],
      "execution_count": 317,
      "outputs": [
        {
          "output_type": "stream",
          "text": [
            "20\n",
            "80\n"
          ],
          "name": "stdout"
        }
      ]
    },
    {
      "cell_type": "markdown",
      "metadata": {
        "id": "DeU-FCyTkVKC"
      },
      "source": [
        "Pisahkan label/kategori dari data latih dan data uji menjadi variabel tersendiri. Beri nama variabelnya  **label_latih** dan **label_uji**"
      ]
    },
    {
      "cell_type": "code",
      "metadata": {
        "id": "e4vC_M0mkkl3"
      },
      "source": [
        "#melakukan pemisahan antara fitur dan label dengan melakukan pop pada kolom spesies pada label latih\n",
        "label_latih = data_latih.pop('species')\n",
        "#melakukan pemisahan antara fitur dan label dengan melakukan pop pada kolom spesies pada label uji\n",
        "label_uji = data_uji.pop('species')"
      ],
      "execution_count": 318,
      "outputs": []
    },
    {
      "cell_type": "code",
      "metadata": {
        "id": "-B1RxWOeDKea",
        "colab": {
          "base_uri": "https://localhost:8080/",
          "height": 204
        },
        "outputId": "8f6d9049-995e-405d-82e3-3bcb08bb386c"
      },
      "source": [
        "#melihat 5 data teratas dengan method .head()\n",
        "data_uji.head()"
      ],
      "execution_count": 319,
      "outputs": [
        {
          "output_type": "execute_result",
          "data": {
            "text/html": [
              "<div>\n",
              "<style scoped>\n",
              "    .dataframe tbody tr th:only-of-type {\n",
              "        vertical-align: middle;\n",
              "    }\n",
              "\n",
              "    .dataframe tbody tr th {\n",
              "        vertical-align: top;\n",
              "    }\n",
              "\n",
              "    .dataframe thead th {\n",
              "        text-align: right;\n",
              "    }\n",
              "</style>\n",
              "<table border=\"1\" class=\"dataframe\">\n",
              "  <thead>\n",
              "    <tr style=\"text-align: right;\">\n",
              "      <th></th>\n",
              "      <th>sepal_length</th>\n",
              "      <th>sepal_width</th>\n",
              "      <th>petal_length</th>\n",
              "      <th>petal_width</th>\n",
              "    </tr>\n",
              "  </thead>\n",
              "  <tbody>\n",
              "    <tr>\n",
              "      <th>19</th>\n",
              "      <td>5.1</td>\n",
              "      <td>3.8</td>\n",
              "      <td>1.5</td>\n",
              "      <td>0.3</td>\n",
              "    </tr>\n",
              "    <tr>\n",
              "      <th>14</th>\n",
              "      <td>5.8</td>\n",
              "      <td>4.0</td>\n",
              "      <td>1.2</td>\n",
              "      <td>0.2</td>\n",
              "    </tr>\n",
              "    <tr>\n",
              "      <th>43</th>\n",
              "      <td>5.0</td>\n",
              "      <td>3.5</td>\n",
              "      <td>1.6</td>\n",
              "      <td>0.6</td>\n",
              "    </tr>\n",
              "    <tr>\n",
              "      <th>37</th>\n",
              "      <td>4.9</td>\n",
              "      <td>3.1</td>\n",
              "      <td>1.5</td>\n",
              "      <td>0.1</td>\n",
              "    </tr>\n",
              "    <tr>\n",
              "      <th>66</th>\n",
              "      <td>5.6</td>\n",
              "      <td>3.0</td>\n",
              "      <td>4.5</td>\n",
              "      <td>1.5</td>\n",
              "    </tr>\n",
              "  </tbody>\n",
              "</table>\n",
              "</div>"
            ],
            "text/plain": [
              "    sepal_length  sepal_width  petal_length  petal_width\n",
              "19           5.1          3.8           1.5          0.3\n",
              "14           5.8          4.0           1.2          0.2\n",
              "43           5.0          3.5           1.6          0.6\n",
              "37           4.9          3.1           1.5          0.1\n",
              "66           5.6          3.0           4.5          1.5"
            ]
          },
          "metadata": {
            "tags": []
          },
          "execution_count": 319
        }
      ]
    },
    {
      "cell_type": "markdown",
      "metadata": {
        "id": "Ikiam_bv8sM1"
      },
      "source": [
        "## 3) Proses Training"
      ]
    },
    {
      "cell_type": "markdown",
      "metadata": {
        "id": "t6-boIzy9UJ2"
      },
      "source": [
        "Tujuan dari algoritma SVM adalah meminimalkan nilai *cost function*. Penghitungan nilai minimal dapat dapat dilakukan dengan menghitung nilai gradien dari *cost function* terlebih dahulu. Fungsi di bawah ini berguna untuk menghitung nilai gradien cost function"
      ]
    },
    {
      "cell_type": "code",
      "metadata": {
        "id": "Kq63208e_7b0"
      },
      "source": [
        "# menghitung cost gradien menggunakan fungsi \n",
        "def hitung_cost_gradient(W,X,Y,regularization):\n",
        "  #menghitung jarak dengan mengurangkan 1 dengan y * dot product x dan w\n",
        "  jarak = 1 - (Y* np.dot(X,W))\n",
        "  #menbuat array 0 seukuran dengan panjang w\n",
        "  dw = np.zeros(len(W))\n",
        "  #kondisi dimana jarak < -1\n",
        "  if max(0,jarak)==0:\n",
        "    #nilai di maka nilai W\n",
        "    di= W\n",
        "  #jika tidak memenuhi kondisi maka kondisi else akan dieksekusi\n",
        "  else:\n",
        "    #nilai di akan diset dari W - (regularization*Y*X)\n",
        "    di = W - (regularization * Y*X)\n",
        "  #nilai di akan disimpan sebagai intercept\n",
        "  dw += di\n",
        "  #mengembalikan nilai w*x + c\n",
        "  return dw"
      ],
      "execution_count": 320,
      "outputs": []
    },
    {
      "cell_type": "markdown",
      "metadata": {
        "id": "sYGiwWxO9z1j"
      },
      "source": [
        "Terdapat beberapa cara untuk meminimalkan nilai *cost function*, salah satunya menggunakan Stochastic Gradient Descent (SGD) untuk melakukan minimasi. Minimasi *cost function* merupakan inti dari algoritma SVM. Fungsi di bawah ini merupakan implementasi algoritma SGD "
      ]
    },
    {
      "cell_type": "code",
      "metadata": {
        "id": "ERaoSW0kBCVA"
      },
      "source": [
        "# mengimport kelas shuffle dari library sklearn utils\n",
        "from sklearn.utils import shuffle\n",
        "#membuat fungsi SGD untuk menghitung bobot\n",
        "def sgd(data_latih,label_latih,learning_rate = 0.000001,max_epoch=1000,regularization=10000):\n",
        "  #mengubah data latih yang berbentuk dataframe menjadi array mengunakan numpy\n",
        "  data_latih = data_latih.to_numpy()\n",
        "  #mengubah label latih yang berbentuk dataframe menjadi array mengunakan numpy\n",
        "  label_latih = label_latih.to_numpy()\n",
        "  #membuat variabel bobot yang berisi aray kosong yang ukurannya sama dengan banyak kolom\n",
        "  bobot = np.zeros(data_latih.shape[1])\n",
        "  #membuat perulangan untuk menghitung bobot\n",
        "  for epoch in range(1,max_epoch):\n",
        "    #melakukan shuffling nilai X dan Y agar tidak terjadi pola perhitungan bobot yang sama\n",
        "    X,Y =shuffle(data_latih,label_latih,random_state=101)\n",
        "    for index,x in enumerate(X):\n",
        "      #menghitung delta dengan fungsi hitung cost gradient\n",
        "      delta=hitung_cost_gradient(bobot,x,Y[index],regularization)\n",
        "      #menentukan nilai bobot dengan mengurangi bobot dengan learning rate * delta\n",
        "      bobot = bobot - (learning_rate * delta)\n",
        "  #mengembalikan nilai bobot\n",
        "  return bobot"
      ],
      "execution_count": 321,
      "outputs": []
    },
    {
      "cell_type": "markdown",
      "metadata": {
        "id": "FaTWcv7dAu7t"
      },
      "source": [
        "Proses training dilakukan dengan memanggil fungsi **sgd** dengan parameter input berupa data latih dan label latih. Parameter learning rate dan max epoch menggunakan nilai *default* nya"
      ]
    },
    {
      "cell_type": "code",
      "metadata": {
        "id": "okhxKfw9C31G",
        "colab": {
          "base_uri": "https://localhost:8080/"
        },
        "outputId": "f204e004-a96c-49a5-f40c-1d1649c40c1c"
      },
      "source": [
        "#menghitung nilai bobot dengan fungsi sgd\n",
        "W = sgd(data_latih,label_latih)\n",
        "#mencetak nilai W\n",
        "print(W)"
      ],
      "execution_count": 322,
      "outputs": [
        {
          "output_type": "stream",
          "text": [
            "[-0.16425273 -0.66406976  0.99593214  0.47674829]\n"
          ],
          "name": "stdout"
        }
      ]
    },
    {
      "cell_type": "markdown",
      "metadata": {
        "id": "M6UR7tpm1YQ_"
      },
      "source": [
        "## 4) Proses *testing*\n",
        "Proses testing dilakukan dengan menghitung nilai [*dot product*](https://en.wikipedia.org/wiki/Dot_product) antara bobot hasil training dengan data uji. Kelas data ditentukan berdasarkan tanda (positif atau negatif) dari hasil dot product tersebut. Fungsi berikut mengimplementasikan proses testing"
      ]
    },
    {
      "cell_type": "code",
      "metadata": {
        "id": "GFrDgAtU7umG"
      },
      "source": [
        "#membuat fungsi testing \n",
        "def testing(W,data_uji):\n",
        "  #membuat array kosong yang akan digunakan menyimpan nilai prediksi\n",
        "  prediksi = np.array([])\n",
        "  #melakukan perulangan untuk menguji tiap baris data uji\n",
        "  for i in range(data_uji.shape[0]):\n",
        "    #melakukan perhitungan dot product antara data uji dengan matriks W\n",
        "    y_prediksi = np.sign(np.dot(W,data_uji.to_numpy()[i]))\n",
        "    #menambahkan nilai prediksi ke array prediksi\n",
        "    prediksi = np.append(prediksi,y_prediksi)\n",
        "  # mengembalikan nilai prediksi secara keseluruhan\n",
        "  return prediksi"
      ],
      "execution_count": 323,
      "outputs": []
    },
    {
      "cell_type": "markdown",
      "metadata": {
        "id": "v4gkpgl02hHN"
      },
      "source": [
        "Lakukan pengujian menggunakan seluruh data uji. Bandingkan hasilnya dengan nilai label sebenarnya untuk menghitung berapa banyak data uji yang berhasil diprediksi dengan benar."
      ]
    },
    {
      "cell_type": "code",
      "metadata": {
        "id": "MQaav7-4BOw0",
        "colab": {
          "base_uri": "https://localhost:8080/"
        },
        "outputId": "585f9120-4612-4940-d098-476240110a58"
      },
      "source": [
        "#melakukan prediksi dengan memanggil fungsi testing\n",
        "y_prediksi = testing(W,data_uji)\n",
        "#menampilkan jumlah prediksi yang sama dengan label sebenarnya\n",
        "print(sum(y_prediksi==label_uji))"
      ],
      "execution_count": 324,
      "outputs": [
        {
          "output_type": "stream",
          "text": [
            "20\n"
          ],
          "name": "stdout"
        }
      ]
    },
    {
      "cell_type": "code",
      "metadata": {
        "colab": {
          "base_uri": "https://localhost:8080/"
        },
        "id": "a5Wj1DCULlLS",
        "outputId": "e1a09db0-c417-4844-8da3-8e94495190cb"
      },
      "source": [
        "#menampilkan jumlah prediksi yang sama dengan label sebenarnya\n",
        "prediksiBenar = sum(y_prediksi==label_uji)\n",
        "#menampilkan jumlah data sebenarnya\n",
        "jumlahSebenarnya = label_uji.shape[0]\n",
        "#menampilkan nilai prediksi yang benar\n",
        "print(\"Prediksi benar =\", prediksiBenar)\n",
        "# menampilkan jumlah data sebenarnya\n",
        "print(\"Jumlah label sebenarnya =\", jumlahSebenarnya)\n",
        "# menghitung akurasi dengan membandingkan nilai benar dengan jumlah \n",
        "print(\"Akurasi = \", (prediksiBenar/jumlahSebenarnya))"
      ],
      "execution_count": 325,
      "outputs": [
        {
          "output_type": "stream",
          "text": [
            "Prediksi benar = 20\n",
            "Jumlah label sebenarnya = 20\n",
            "Akurasi =  1.0\n"
          ],
          "name": "stdout"
        }
      ]
    },
    {
      "cell_type": "markdown",
      "metadata": {
        "id": "ZiDmUxVBuo42"
      },
      "source": [
        "## TUGAS\n",
        "Pada tugas kali ini Anda masih melakukan klasifikasi dataset iris, tetapi menggunakan kelas Iris-versicolor dan Iris-virginica. Apakah hasilnya lebih baik jika dibandingkan dengan Iris-setosa dan Iris-versicolor?"
      ]
    },
    {
      "cell_type": "code",
      "metadata": {
        "id": "q-WVuiDBTroA"
      },
      "source": [
        "#membaca ulang data iris dengan library pandas dengan method read csv\n",
        "data1 = pd.read_csv('iris.csv')"
      ],
      "execution_count": 326,
      "outputs": []
    },
    {
      "cell_type": "code",
      "metadata": {
        "id": "ZvXc30RkTys1"
      },
      "source": [
        "#menghapus kelas iris-setosa agar hanya tersisa 2 kelas dengan perinta drop\n",
        "data1.drop(data1[data1['species']=='Iris-setosa'].index,inplace=True)"
      ],
      "execution_count": 327,
      "outputs": []
    },
    {
      "cell_type": "code",
      "metadata": {
        "colab": {
          "base_uri": "https://localhost:8080/",
          "height": 204
        },
        "id": "RGAWfCkdT6O-",
        "outputId": "ed2227f9-0a06-44ff-ac8f-2d14c6e92b8b"
      },
      "source": [
        "#melihat 5 data teratas dengan method .head()\n",
        "data1.head()"
      ],
      "execution_count": 328,
      "outputs": [
        {
          "output_type": "execute_result",
          "data": {
            "text/html": [
              "<div>\n",
              "<style scoped>\n",
              "    .dataframe tbody tr th:only-of-type {\n",
              "        vertical-align: middle;\n",
              "    }\n",
              "\n",
              "    .dataframe tbody tr th {\n",
              "        vertical-align: top;\n",
              "    }\n",
              "\n",
              "    .dataframe thead th {\n",
              "        text-align: right;\n",
              "    }\n",
              "</style>\n",
              "<table border=\"1\" class=\"dataframe\">\n",
              "  <thead>\n",
              "    <tr style=\"text-align: right;\">\n",
              "      <th></th>\n",
              "      <th>sepal_length</th>\n",
              "      <th>sepal_width</th>\n",
              "      <th>petal_length</th>\n",
              "      <th>petal_width</th>\n",
              "      <th>species</th>\n",
              "    </tr>\n",
              "  </thead>\n",
              "  <tbody>\n",
              "    <tr>\n",
              "      <th>50</th>\n",
              "      <td>7.0</td>\n",
              "      <td>3.2</td>\n",
              "      <td>4.7</td>\n",
              "      <td>1.4</td>\n",
              "      <td>Iris-versicolor</td>\n",
              "    </tr>\n",
              "    <tr>\n",
              "      <th>51</th>\n",
              "      <td>6.4</td>\n",
              "      <td>3.2</td>\n",
              "      <td>4.5</td>\n",
              "      <td>1.5</td>\n",
              "      <td>Iris-versicolor</td>\n",
              "    </tr>\n",
              "    <tr>\n",
              "      <th>52</th>\n",
              "      <td>6.9</td>\n",
              "      <td>3.1</td>\n",
              "      <td>4.9</td>\n",
              "      <td>1.5</td>\n",
              "      <td>Iris-versicolor</td>\n",
              "    </tr>\n",
              "    <tr>\n",
              "      <th>53</th>\n",
              "      <td>5.5</td>\n",
              "      <td>2.3</td>\n",
              "      <td>4.0</td>\n",
              "      <td>1.3</td>\n",
              "      <td>Iris-versicolor</td>\n",
              "    </tr>\n",
              "    <tr>\n",
              "      <th>54</th>\n",
              "      <td>6.5</td>\n",
              "      <td>2.8</td>\n",
              "      <td>4.6</td>\n",
              "      <td>1.5</td>\n",
              "      <td>Iris-versicolor</td>\n",
              "    </tr>\n",
              "  </tbody>\n",
              "</table>\n",
              "</div>"
            ],
            "text/plain": [
              "    sepal_length  sepal_width  petal_length  petal_width          species\n",
              "50           7.0          3.2           4.7          1.4  Iris-versicolor\n",
              "51           6.4          3.2           4.5          1.5  Iris-versicolor\n",
              "52           6.9          3.1           4.9          1.5  Iris-versicolor\n",
              "53           5.5          2.3           4.0          1.3  Iris-versicolor\n",
              "54           6.5          2.8           4.6          1.5  Iris-versicolor"
            ]
          },
          "metadata": {
            "tags": []
          },
          "execution_count": 328
        }
      ]
    },
    {
      "cell_type": "code",
      "metadata": {
        "id": "pvKbTDPWU9Te"
      },
      "source": [
        "#mengganti kelas iris-versicolor menjadi -1 dan iris-virginica menjadi 1\n",
        "data1['species']=data1['species'].map({'Iris-versicolor':-1,'Iris-virginica':1})"
      ],
      "execution_count": 329,
      "outputs": []
    },
    {
      "cell_type": "code",
      "metadata": {
        "colab": {
          "base_uri": "https://localhost:8080/",
          "height": 204
        },
        "id": "40O-wlBaWCU2",
        "outputId": "f792f067-d9de-4f5f-ea95-45975711fc14"
      },
      "source": [
        "#melihat 5 data teratas dengan method .head()\n",
        "data1.head()"
      ],
      "execution_count": 330,
      "outputs": [
        {
          "output_type": "execute_result",
          "data": {
            "text/html": [
              "<div>\n",
              "<style scoped>\n",
              "    .dataframe tbody tr th:only-of-type {\n",
              "        vertical-align: middle;\n",
              "    }\n",
              "\n",
              "    .dataframe tbody tr th {\n",
              "        vertical-align: top;\n",
              "    }\n",
              "\n",
              "    .dataframe thead th {\n",
              "        text-align: right;\n",
              "    }\n",
              "</style>\n",
              "<table border=\"1\" class=\"dataframe\">\n",
              "  <thead>\n",
              "    <tr style=\"text-align: right;\">\n",
              "      <th></th>\n",
              "      <th>sepal_length</th>\n",
              "      <th>sepal_width</th>\n",
              "      <th>petal_length</th>\n",
              "      <th>petal_width</th>\n",
              "      <th>species</th>\n",
              "    </tr>\n",
              "  </thead>\n",
              "  <tbody>\n",
              "    <tr>\n",
              "      <th>50</th>\n",
              "      <td>7.0</td>\n",
              "      <td>3.2</td>\n",
              "      <td>4.7</td>\n",
              "      <td>1.4</td>\n",
              "      <td>-1</td>\n",
              "    </tr>\n",
              "    <tr>\n",
              "      <th>51</th>\n",
              "      <td>6.4</td>\n",
              "      <td>3.2</td>\n",
              "      <td>4.5</td>\n",
              "      <td>1.5</td>\n",
              "      <td>-1</td>\n",
              "    </tr>\n",
              "    <tr>\n",
              "      <th>52</th>\n",
              "      <td>6.9</td>\n",
              "      <td>3.1</td>\n",
              "      <td>4.9</td>\n",
              "      <td>1.5</td>\n",
              "      <td>-1</td>\n",
              "    </tr>\n",
              "    <tr>\n",
              "      <th>53</th>\n",
              "      <td>5.5</td>\n",
              "      <td>2.3</td>\n",
              "      <td>4.0</td>\n",
              "      <td>1.3</td>\n",
              "      <td>-1</td>\n",
              "    </tr>\n",
              "    <tr>\n",
              "      <th>54</th>\n",
              "      <td>6.5</td>\n",
              "      <td>2.8</td>\n",
              "      <td>4.6</td>\n",
              "      <td>1.5</td>\n",
              "      <td>-1</td>\n",
              "    </tr>\n",
              "  </tbody>\n",
              "</table>\n",
              "</div>"
            ],
            "text/plain": [
              "    sepal_length  sepal_width  petal_length  petal_width  species\n",
              "50           7.0          3.2           4.7          1.4       -1\n",
              "51           6.4          3.2           4.5          1.5       -1\n",
              "52           6.9          3.1           4.9          1.5       -1\n",
              "53           5.5          2.3           4.0          1.3       -1\n",
              "54           6.5          2.8           4.6          1.5       -1"
            ]
          },
          "metadata": {
            "tags": []
          },
          "execution_count": 330
        }
      ]
    },
    {
      "cell_type": "code",
      "metadata": {
        "id": "YL-llNfWWXX3"
      },
      "source": [
        "#melakukan import sebagian library yang akan digunakan\n",
        "#pada kasus  ini hanya mengimport train_test_split dari modul sklearn.model_selection\n",
        "from sklearn.model_selection import train_test_split\n",
        "#melakukan pembagian dataset dengan pembagian 20% data uji dan 80% data latih\n",
        "data_latih_tugas, data_uji_tugas = train_test_split(data1, test_size = 0.2 ,random_state = 101)"
      ],
      "execution_count": 331,
      "outputs": []
    },
    {
      "cell_type": "code",
      "metadata": {
        "id": "kEKsGY47WsNM"
      },
      "source": [
        "#melakukan pemisahan antara fitur dan label dengan melakukan pop pada kolom spesies pada label latih\n",
        "label_latih_tugas = data_latih_tugas.pop('species')\n",
        "#melakukan pemisahan antara fitur dan label dengan melakukan pop pada kolom spesies pada label uji\n",
        "label_uji_tugas = data_uji_tugas.pop('species')"
      ],
      "execution_count": 332,
      "outputs": []
    },
    {
      "cell_type": "code",
      "metadata": {
        "colab": {
          "base_uri": "https://localhost:8080/",
          "height": 204
        },
        "id": "a_c0qWtpWwKj",
        "outputId": "58d06320-9521-48df-faca-2d0cfa6817ff"
      },
      "source": [
        "#melihat 5 data teratas dengan method .head()\n",
        "data1.head()"
      ],
      "execution_count": 333,
      "outputs": [
        {
          "output_type": "execute_result",
          "data": {
            "text/html": [
              "<div>\n",
              "<style scoped>\n",
              "    .dataframe tbody tr th:only-of-type {\n",
              "        vertical-align: middle;\n",
              "    }\n",
              "\n",
              "    .dataframe tbody tr th {\n",
              "        vertical-align: top;\n",
              "    }\n",
              "\n",
              "    .dataframe thead th {\n",
              "        text-align: right;\n",
              "    }\n",
              "</style>\n",
              "<table border=\"1\" class=\"dataframe\">\n",
              "  <thead>\n",
              "    <tr style=\"text-align: right;\">\n",
              "      <th></th>\n",
              "      <th>sepal_length</th>\n",
              "      <th>sepal_width</th>\n",
              "      <th>petal_length</th>\n",
              "      <th>petal_width</th>\n",
              "      <th>species</th>\n",
              "    </tr>\n",
              "  </thead>\n",
              "  <tbody>\n",
              "    <tr>\n",
              "      <th>50</th>\n",
              "      <td>7.0</td>\n",
              "      <td>3.2</td>\n",
              "      <td>4.7</td>\n",
              "      <td>1.4</td>\n",
              "      <td>-1</td>\n",
              "    </tr>\n",
              "    <tr>\n",
              "      <th>51</th>\n",
              "      <td>6.4</td>\n",
              "      <td>3.2</td>\n",
              "      <td>4.5</td>\n",
              "      <td>1.5</td>\n",
              "      <td>-1</td>\n",
              "    </tr>\n",
              "    <tr>\n",
              "      <th>52</th>\n",
              "      <td>6.9</td>\n",
              "      <td>3.1</td>\n",
              "      <td>4.9</td>\n",
              "      <td>1.5</td>\n",
              "      <td>-1</td>\n",
              "    </tr>\n",
              "    <tr>\n",
              "      <th>53</th>\n",
              "      <td>5.5</td>\n",
              "      <td>2.3</td>\n",
              "      <td>4.0</td>\n",
              "      <td>1.3</td>\n",
              "      <td>-1</td>\n",
              "    </tr>\n",
              "    <tr>\n",
              "      <th>54</th>\n",
              "      <td>6.5</td>\n",
              "      <td>2.8</td>\n",
              "      <td>4.6</td>\n",
              "      <td>1.5</td>\n",
              "      <td>-1</td>\n",
              "    </tr>\n",
              "  </tbody>\n",
              "</table>\n",
              "</div>"
            ],
            "text/plain": [
              "    sepal_length  sepal_width  petal_length  petal_width  species\n",
              "50           7.0          3.2           4.7          1.4       -1\n",
              "51           6.4          3.2           4.5          1.5       -1\n",
              "52           6.9          3.1           4.9          1.5       -1\n",
              "53           5.5          2.3           4.0          1.3       -1\n",
              "54           6.5          2.8           4.6          1.5       -1"
            ]
          },
          "metadata": {
            "tags": []
          },
          "execution_count": 333
        }
      ]
    },
    {
      "cell_type": "code",
      "metadata": {
        "colab": {
          "base_uri": "https://localhost:8080/"
        },
        "id": "gng2-t4jZH8U",
        "outputId": "e131c2b8-d1a4-450e-a129-dbf48f49105c"
      },
      "source": [
        "#menghitung nilai bobot dengan fungsi sgd\n",
        "W = sgd(data_latih_tugas,label_latih_tugas)\n",
        "#mencetak nilai W\n",
        "print(W)"
      ],
      "execution_count": 334,
      "outputs": [
        {
          "output_type": "stream",
          "text": [
            "[-3.71010489 -3.65497888  4.81431102  6.85848154]\n"
          ],
          "name": "stdout"
        }
      ]
    },
    {
      "cell_type": "code",
      "metadata": {
        "colab": {
          "base_uri": "https://localhost:8080/"
        },
        "id": "wQaKpAQtZPP_",
        "outputId": "d1bf1950-b70d-4c2f-b750-7566c92f28c6"
      },
      "source": [
        "#melakukan prediksi dengan memanggil fungsi testing\n",
        "y_prediksi_tugas = testing(W,data_uji_tugas)\n",
        "#menampilkan jumlah prediksi yang sama dengan label sebenarnya\n",
        "print(sum(y_prediksi_tugas ==label_uji_tugas))"
      ],
      "execution_count": 335,
      "outputs": [
        {
          "output_type": "stream",
          "text": [
            "19\n"
          ],
          "name": "stdout"
        }
      ]
    },
    {
      "cell_type": "code",
      "metadata": {
        "colab": {
          "base_uri": "https://localhost:8080/"
        },
        "id": "ETVnyQMZZjdQ",
        "outputId": "fc437b13-75a0-4645-fef5-96bc0bf3a70a"
      },
      "source": [
        "#menampilkan jumlah prediksi yang sama dengan label sebenarnya\n",
        "prediksiBenar = sum(y_prediksi_tugas ==label_uji_tugas)\n",
        "#menampilkan jumlah data sebenarnya\n",
        "jumlahSebenarnya = label_uji_tugas.shape[0]\n",
        "#menampilkan nilai prediksi yang benar\n",
        "print(\"Prediksi benar =\", prediksiBenar)\n",
        "# menampilkan jumlah data sebenarnya\n",
        "print(\"Jumlah label sebenarnya =\", jumlahSebenarnya)\n",
        "# menghitung akurasi dengan membandingkan nilai benar dengan jumlah \n",
        "print(\"Akurasi = \", (prediksiBenar/jumlahSebenarnya))"
      ],
      "execution_count": 336,
      "outputs": [
        {
          "output_type": "stream",
          "text": [
            "Prediksi benar = 19\n",
            "Jumlah label sebenarnya = 20\n",
            "Akurasi =  0.95\n"
          ],
          "name": "stdout"
        }
      ]
    },
    {
      "cell_type": "markdown",
      "metadata": {
        "id": "E6CWQd6QHIJ9"
      },
      "source": [
        "\n",
        "\n",
        "> Hasilnya tidak lebih baik karena hanya mampu mengenali 19 diantara 20 data uji (pada kelas Iris-versicolor dan Iris-virginica), sedangkan pada Iris-versicolor dan Iris-setosa mampu memprediksi 20 label dengan benar dari 20 data uji. Hal ini berarti antara kelas Iris-versicolor dan Iris-setosa hyperplane yang dibuat benar-benar memisahkan 2 kelas tersebut dan lebih baik jika dibandingkan dengan hyperplane pada Iris-versicolor dan Iris-virginica.\n"
      ]
    },
    {
      "cell_type": "markdown",
      "metadata": {
        "id": "eKdt1e9uIcnC"
      },
      "source": [
        "Lakukan proses training ulang, tetapi menggunakan nilai max_epoch sebesar 5000. Anda dapat memberikan parameter max_epoch=5000 saat memanggil fungsi **sgd**. Apakah hasilnya lebih baik? Mengapa?"
      ]
    },
    {
      "cell_type": "code",
      "metadata": {
        "id": "EdgMMwQRGpth",
        "colab": {
          "base_uri": "https://localhost:8080/"
        },
        "outputId": "1e07dd96-d5ed-49bb-a976-ecb8d02c2568"
      },
      "source": [
        "# training max_epoch = 5000\n",
        "W_tugas_maxepoch = sgd(data_latih_tugas,label_latih_tugas, max_epoch=5000)\n",
        "print(W_tugas_maxepoch)"
      ],
      "execution_count": 337,
      "outputs": [
        {
          "output_type": "stream",
          "text": [
            "[-4.93533064 -3.58949584  5.74400006  8.33755769]\n"
          ],
          "name": "stdout"
        }
      ]
    },
    {
      "cell_type": "code",
      "metadata": {
        "colab": {
          "base_uri": "https://localhost:8080/"
        },
        "id": "zod9S3jpZ7Th",
        "outputId": "c0b3ec3d-069b-4b63-fae3-50351a1a4e91"
      },
      "source": [
        "#melakukan prediksi dengan memanggil fungsi testing\n",
        "y_prediksi_tugas_epoch  = testing(W_tugas_maxepoch ,data_uji_tugas)\n",
        "#menampilkan jumlah prediksi yang sama dengan label sebenarnya\n",
        "print(sum(y_prediksi_tugas_epoch ==label_uji_tugas))"
      ],
      "execution_count": 338,
      "outputs": [
        {
          "output_type": "stream",
          "text": [
            "20\n"
          ],
          "name": "stdout"
        }
      ]
    },
    {
      "cell_type": "markdown",
      "metadata": {
        "id": "7ay0a32bsEWE"
      },
      "source": [
        ">Setelah melakukan proses training ulang menggunakan nilai max_epoch = 5000, hasil yang didapatkan sama dengan pengujian dengan nilai epoch 1000 yakni 19 prediksi benar dari 20 data uji. Max epoch merupakan batas perulangan untuk mencari bobot/ cost function terkecil. Jika nilai cost function semakin minimal maka persamaan garis yang dihasilkan semakin konvergen sehingga hyperplanenya optimal. Jika max_epoch semakin besar maka nilai yang didapatkan akan semakin konvergen, namun nilai ini memiliki batas minimum. Ketika sudah mencapai batas minimum maka nilainya akan tetap (tidak bisa lebih kecil lagi)."
      ]
    },
    {
      "cell_type": "markdown",
      "metadata": {
        "id": "bSh7w88iL5Bs"
      },
      "source": [
        "Terakhir, lakukanlah seleksi fitur sederhana dengan mengambil hanya fitur sepal length dan sepal width saja. Apakah hasilnya lebih baik?"
      ]
    },
    {
      "cell_type": "code",
      "metadata": {
        "id": "v6od3Vh9KTnJ"
      },
      "source": [
        "# mengambil fitur sepal_length dan sepal_width dari data_latih_tugas\n",
        "data_latih_t3 = data_latih_tugas[['sepal_length', 'sepal_width']]\n",
        "# mengambil fitur sepal_length dan sepal_width dari data_uji_tugas\n",
        "data_uji_t3 = data_uji_tugas[['sepal_length', 'sepal_width']]"
      ],
      "execution_count": 339,
      "outputs": []
    },
    {
      "cell_type": "code",
      "metadata": {
        "id": "uN9JsDylK44H",
        "colab": {
          "base_uri": "https://localhost:8080/"
        },
        "outputId": "d26b1fd1-fe03-4b00-a6d5-e1ec48f4bedf"
      },
      "source": [
        "#cek jumlah kolom pada data latih\n",
        "print(data_latih_t3.shape[1])"
      ],
      "execution_count": 340,
      "outputs": [
        {
          "output_type": "stream",
          "text": [
            "2\n"
          ],
          "name": "stdout"
        }
      ]
    },
    {
      "cell_type": "code",
      "metadata": {
        "colab": {
          "base_uri": "https://localhost:8080/"
        },
        "id": "eHHa3nruc_Hn",
        "outputId": "54f4603b-f043-4a34-f699-615ed4dc34cd"
      },
      "source": [
        "#cek jumlah kolom pada data uji\n",
        "print(data_uji_t3.shape[1])"
      ],
      "execution_count": 341,
      "outputs": [
        {
          "output_type": "stream",
          "text": [
            "2\n"
          ],
          "name": "stdout"
        }
      ]
    },
    {
      "cell_type": "code",
      "metadata": {
        "colab": {
          "base_uri": "https://localhost:8080/",
          "height": 204
        },
        "id": "-BS87SQadK-M",
        "outputId": "c524af6f-110a-4eb7-818d-9f1639242874"
      },
      "source": [
        "#melihat 5 data teratas dengan method .head()\n",
        "data_latih_t3.head()"
      ],
      "execution_count": 342,
      "outputs": [
        {
          "output_type": "execute_result",
          "data": {
            "text/html": [
              "<div>\n",
              "<style scoped>\n",
              "    .dataframe tbody tr th:only-of-type {\n",
              "        vertical-align: middle;\n",
              "    }\n",
              "\n",
              "    .dataframe tbody tr th {\n",
              "        vertical-align: top;\n",
              "    }\n",
              "\n",
              "    .dataframe thead th {\n",
              "        text-align: right;\n",
              "    }\n",
              "</style>\n",
              "<table border=\"1\" class=\"dataframe\">\n",
              "  <thead>\n",
              "    <tr style=\"text-align: right;\">\n",
              "      <th></th>\n",
              "      <th>sepal_length</th>\n",
              "      <th>sepal_width</th>\n",
              "    </tr>\n",
              "  </thead>\n",
              "  <tbody>\n",
              "    <tr>\n",
              "      <th>111</th>\n",
              "      <td>6.4</td>\n",
              "      <td>2.7</td>\n",
              "    </tr>\n",
              "    <tr>\n",
              "      <th>97</th>\n",
              "      <td>6.2</td>\n",
              "      <td>2.9</td>\n",
              "    </tr>\n",
              "    <tr>\n",
              "      <th>104</th>\n",
              "      <td>6.5</td>\n",
              "      <td>3.0</td>\n",
              "    </tr>\n",
              "    <tr>\n",
              "      <th>107</th>\n",
              "      <td>7.3</td>\n",
              "      <td>2.9</td>\n",
              "    </tr>\n",
              "    <tr>\n",
              "      <th>52</th>\n",
              "      <td>6.9</td>\n",
              "      <td>3.1</td>\n",
              "    </tr>\n",
              "  </tbody>\n",
              "</table>\n",
              "</div>"
            ],
            "text/plain": [
              "     sepal_length  sepal_width\n",
              "111           6.4          2.7\n",
              "97            6.2          2.9\n",
              "104           6.5          3.0\n",
              "107           7.3          2.9\n",
              "52            6.9          3.1"
            ]
          },
          "metadata": {
            "tags": []
          },
          "execution_count": 342
        }
      ]
    },
    {
      "cell_type": "code",
      "metadata": {
        "colab": {
          "base_uri": "https://localhost:8080/",
          "height": 204
        },
        "id": "bFKLyaNtdN1r",
        "outputId": "ab8ef86e-55ae-4e67-a9dd-1242d3af17f0"
      },
      "source": [
        "#melihat 5 data teratas dengan method .head()\n",
        "data_uji_t3.head()"
      ],
      "execution_count": 343,
      "outputs": [
        {
          "output_type": "execute_result",
          "data": {
            "text/html": [
              "<div>\n",
              "<style scoped>\n",
              "    .dataframe tbody tr th:only-of-type {\n",
              "        vertical-align: middle;\n",
              "    }\n",
              "\n",
              "    .dataframe tbody tr th {\n",
              "        vertical-align: top;\n",
              "    }\n",
              "\n",
              "    .dataframe thead th {\n",
              "        text-align: right;\n",
              "    }\n",
              "</style>\n",
              "<table border=\"1\" class=\"dataframe\">\n",
              "  <thead>\n",
              "    <tr style=\"text-align: right;\">\n",
              "      <th></th>\n",
              "      <th>sepal_length</th>\n",
              "      <th>sepal_width</th>\n",
              "    </tr>\n",
              "  </thead>\n",
              "  <tbody>\n",
              "    <tr>\n",
              "      <th>66</th>\n",
              "      <td>5.6</td>\n",
              "      <td>3.0</td>\n",
              "    </tr>\n",
              "    <tr>\n",
              "      <th>51</th>\n",
              "      <td>6.4</td>\n",
              "      <td>3.2</td>\n",
              "    </tr>\n",
              "    <tr>\n",
              "      <th>93</th>\n",
              "      <td>5.0</td>\n",
              "      <td>2.3</td>\n",
              "    </tr>\n",
              "    <tr>\n",
              "      <th>117</th>\n",
              "      <td>7.7</td>\n",
              "      <td>3.8</td>\n",
              "    </tr>\n",
              "    <tr>\n",
              "      <th>139</th>\n",
              "      <td>6.9</td>\n",
              "      <td>3.1</td>\n",
              "    </tr>\n",
              "  </tbody>\n",
              "</table>\n",
              "</div>"
            ],
            "text/plain": [
              "     sepal_length  sepal_width\n",
              "66            5.6          3.0\n",
              "51            6.4          3.2\n",
              "93            5.0          2.3\n",
              "117           7.7          3.8\n",
              "139           6.9          3.1"
            ]
          },
          "metadata": {
            "tags": []
          },
          "execution_count": 343
        }
      ]
    },
    {
      "cell_type": "code",
      "metadata": {
        "colab": {
          "base_uri": "https://localhost:8080/",
          "height": 204
        },
        "id": "Lcme24ZCe1Hy",
        "outputId": "75a67eb5-1881-4090-83c9-698f7b57e82a"
      },
      "source": [
        "data_latih_t3.head()"
      ],
      "execution_count": 344,
      "outputs": [
        {
          "output_type": "execute_result",
          "data": {
            "text/html": [
              "<div>\n",
              "<style scoped>\n",
              "    .dataframe tbody tr th:only-of-type {\n",
              "        vertical-align: middle;\n",
              "    }\n",
              "\n",
              "    .dataframe tbody tr th {\n",
              "        vertical-align: top;\n",
              "    }\n",
              "\n",
              "    .dataframe thead th {\n",
              "        text-align: right;\n",
              "    }\n",
              "</style>\n",
              "<table border=\"1\" class=\"dataframe\">\n",
              "  <thead>\n",
              "    <tr style=\"text-align: right;\">\n",
              "      <th></th>\n",
              "      <th>sepal_length</th>\n",
              "      <th>sepal_width</th>\n",
              "    </tr>\n",
              "  </thead>\n",
              "  <tbody>\n",
              "    <tr>\n",
              "      <th>111</th>\n",
              "      <td>6.4</td>\n",
              "      <td>2.7</td>\n",
              "    </tr>\n",
              "    <tr>\n",
              "      <th>97</th>\n",
              "      <td>6.2</td>\n",
              "      <td>2.9</td>\n",
              "    </tr>\n",
              "    <tr>\n",
              "      <th>104</th>\n",
              "      <td>6.5</td>\n",
              "      <td>3.0</td>\n",
              "    </tr>\n",
              "    <tr>\n",
              "      <th>107</th>\n",
              "      <td>7.3</td>\n",
              "      <td>2.9</td>\n",
              "    </tr>\n",
              "    <tr>\n",
              "      <th>52</th>\n",
              "      <td>6.9</td>\n",
              "      <td>3.1</td>\n",
              "    </tr>\n",
              "  </tbody>\n",
              "</table>\n",
              "</div>"
            ],
            "text/plain": [
              "     sepal_length  sepal_width\n",
              "111           6.4          2.7\n",
              "97            6.2          2.9\n",
              "104           6.5          3.0\n",
              "107           7.3          2.9\n",
              "52            6.9          3.1"
            ]
          },
          "metadata": {
            "tags": []
          },
          "execution_count": 344
        }
      ]
    },
    {
      "cell_type": "code",
      "metadata": {
        "colab": {
          "base_uri": "https://localhost:8080/"
        },
        "id": "sVd8a49gdcWx",
        "outputId": "be116a64-adef-4c0f-cd21-4d403f237b83"
      },
      "source": [
        "#menghitung nilai bobot dengan fungsi sgd\n",
        "W_t3 = sgd(data_latih_t3,label_latih_tugas)\n",
        "#mencetak nilai W\n",
        "print(W_t3)"
      ],
      "execution_count": 345,
      "outputs": [
        {
          "output_type": "stream",
          "text": [
            "[ 0.38449547 -1.12712834]\n"
          ],
          "name": "stdout"
        }
      ]
    },
    {
      "cell_type": "code",
      "metadata": {
        "colab": {
          "base_uri": "https://localhost:8080/"
        },
        "id": "fIMlMVVCdstJ",
        "outputId": "f3ed2542-bc51-4689-8363-49a8fe467256"
      },
      "source": [
        "#melakukan prediksi dengan memanggil fungsi testing\n",
        "y_prediksi_t3= testing(W_t3,data_uji_t3)\n",
        "#menampilkan jumlah prediksi yang sama dengan label sebenarnya\n",
        "print(sum(y_prediksi_t3 ==label_uji_tugas))"
      ],
      "execution_count": 346,
      "outputs": [
        {
          "output_type": "stream",
          "text": [
            "14\n"
          ],
          "name": "stdout"
        }
      ]
    },
    {
      "cell_type": "code",
      "metadata": {
        "colab": {
          "base_uri": "https://localhost:8080/"
        },
        "id": "2hSFnpgWd2wx",
        "outputId": "75a6559f-a90a-4a00-d849-6d95a445d084"
      },
      "source": [
        "#menampilkan jumlah prediksi yang sama dengan label sebenarnya\n",
        "prediksiBenar = sum(y_prediksi_t3 ==label_uji_tugas)\n",
        "#menampilkan jumlah data sebenarnya\n",
        "jumlahSebenarnya = label_uji_tugas.shape[0]\n",
        "#menampilkan nilai prediksi yang benar\n",
        "print(\"Prediksi benar =\", prediksiBenar)\n",
        "# menampilkan jumlah data sebenarnya\n",
        "print(\"Jumlah label sebenarnya =\", jumlahSebenarnya)\n",
        "# menghitung akurasi dengan membandingkan nilai benar dengan jumlah \n",
        "print(\"Akurasi = \", (prediksiBenar/jumlahSebenarnya))"
      ],
      "execution_count": 347,
      "outputs": [
        {
          "output_type": "stream",
          "text": [
            "Prediksi benar = 14\n",
            "Jumlah label sebenarnya = 20\n",
            "Akurasi =  0.7\n"
          ],
          "name": "stdout"
        }
      ]
    },
    {
      "cell_type": "code",
      "metadata": {
        "colab": {
          "base_uri": "https://localhost:8080/"
        },
        "id": "-nUuBn2CeFyl",
        "outputId": "9bc7186b-b4e1-4b74-8513-a6eefe12058b"
      },
      "source": [
        "# training max_epoch = 5000\n",
        "W_t3_maxepoch = sgd(data_latih_t3,label_latih_tugas, max_epoch=5000)\n",
        "#mencetak nilai W\n",
        "print(W_t3_maxepoch)"
      ],
      "execution_count": 348,
      "outputs": [
        {
          "output_type": "stream",
          "text": [
            "[ 0.37729705 -1.12778453]\n"
          ],
          "name": "stdout"
        }
      ]
    },
    {
      "cell_type": "code",
      "metadata": {
        "colab": {
          "base_uri": "https://localhost:8080/"
        },
        "id": "tq_rkMbNeRzU",
        "outputId": "d6b5801d-289c-43ef-d390-8259d1802753"
      },
      "source": [
        "#melakukan prediksi dengan memanggil fungsi testing\n",
        "y_prediksi_t3_epoch= testing(W_t3_maxepoch,data_uji_t3)\n",
        "#menampilkan jumlah prediksi yang sama dengan label sebenarnya\n",
        "print(sum(y_prediksi_t3 ==label_uji_tugas))"
      ],
      "execution_count": 349,
      "outputs": [
        {
          "output_type": "stream",
          "text": [
            "14\n"
          ],
          "name": "stdout"
        }
      ]
    },
    {
      "cell_type": "code",
      "metadata": {
        "colab": {
          "base_uri": "https://localhost:8080/"
        },
        "id": "mvShMEXIees9",
        "outputId": "81477432-7a9d-42d9-d217-35a96795b92e"
      },
      "source": [
        "#menampilkan jumlah prediksi yang sama dengan label sebenarnya\n",
        "prediksiBenar = sum(y_prediksi_t3_epoch==label_uji_tugas)\n",
        "#menampilkan jumlah data sebenarnya\n",
        "jumlahSebenarnya = label_uji_tugas.shape[0]\n",
        "#menampilkan nilai prediksi yang benar\n",
        "print(\"Prediksi benar =\", prediksiBenar)\n",
        "# menampilkan jumlah data sebenarnya\n",
        "print(\"Jumlah label sebenarnya =\", jumlahSebenarnya)\n",
        "# menghitung akurasi dengan membandingkan nilai benar dengan jumlah \n",
        "print(\"Akurasi = \", (prediksiBenar/jumlahSebenarnya))"
      ],
      "execution_count": 350,
      "outputs": [
        {
          "output_type": "stream",
          "text": [
            "Prediksi benar = 13\n",
            "Jumlah label sebenarnya = 20\n",
            "Akurasi =  0.65\n"
          ],
          "name": "stdout"
        }
      ]
    },
    {
      "cell_type": "markdown",
      "metadata": {
        "id": "vU40KzqIuhqu"
      },
      "source": [
        ">Hasil prediksi pada data yang dilakukan seleksi fitur tidak lebih baik dari data yang menggunakan 4 fitur (tanpa seleksi fitur) dengan akurasi hanya 0.65 (13 data yang benar) saja dari 20 data uji. Hal ini dikarenakan fitur petal (length dan width) memiliki peran yang penting dalam menentukan label dari data, maka jika hanya menggunakan fitur sepal (length dan width) saja hasil prediksi yang dihasilkan kurang maksimal."
      ]
    }
  ]
}