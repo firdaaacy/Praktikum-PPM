{
  "nbformat": 4,
  "nbformat_minor": 0,
  "metadata": {
    "colab": {
      "name": "Praktikum 6 - Firda Adha Cahyanti - 195150201111037",
      "provenance": [],
      "collapsed_sections": [],
      "include_colab_link": true
    },
    "kernelspec": {
      "name": "python3",
      "display_name": "Python 3"
    }
  },
  "cells": [
    {
      "cell_type": "markdown",
      "metadata": {
        "id": "view-in-github",
        "colab_type": "text"
      },
      "source": [
        "<a href=\"https://colab.research.google.com/github/firdaaacy/Praktikum-PPM/blob/main/Praktikum%206.ipynb\" target=\"_parent\"><img src=\"https://colab.research.google.com/assets/colab-badge.svg\" alt=\"Open In Colab\"/></a>"
      ]
    },
    {
      "cell_type": "markdown",
      "metadata": {
        "id": "-qDsm6BnME2X"
      },
      "source": [
        "# Praktikum Pengantar Pembelajaran Mesin\n",
        "\n",
        "\n",
        "---\n",
        "## Bab 6. Support Vector Machine (SVM)\n"
      ]
    },
    {
      "cell_type": "markdown",
      "metadata": {
        "id": "sQAGcnK3MOS7"
      },
      "source": [
        "### 1) Import Data\n",
        "\n",
        "Unduh dataset yang akan digunakan pada praktikum kali ini. Anda dapat menggunakan aplikasi wget untuk mendowload dataset dan menyimpannya dalam Google Colab. Jalankan cell di bawah ini untuk mengunduh dataset"
      ]
    },
    {
      "cell_type": "code",
      "metadata": {
        "id": "FpjqVlzBMNLd",
        "colab": {
          "base_uri": "https://localhost:8080/"
        },
        "outputId": "04b50138-d31d-4b8c-93ef-24dc39df2a52"
      },
      "source": [
        "#mengunduh dataset iris dari link yang sudah diberikan\n",
        "! wget https://dataset-ppm.s3.amazonaws.com/iris.csv"
      ],
      "execution_count": 1,
      "outputs": [
        {
          "output_type": "stream",
          "text": [
            "--2021-07-10 12:31:11--  https://dataset-ppm.s3.amazonaws.com/iris.csv\n",
            "Resolving dataset-ppm.s3.amazonaws.com (dataset-ppm.s3.amazonaws.com)... 52.216.143.132\n",
            "Connecting to dataset-ppm.s3.amazonaws.com (dataset-ppm.s3.amazonaws.com)|52.216.143.132|:443... connected.\n",
            "HTTP request sent, awaiting response... 200 OK\n",
            "Length: 4609 (4.5K) [text/csv]\n",
            "Saving to: ‘iris.csv’\n",
            "\n",
            "iris.csv            100%[===================>]   4.50K  --.-KB/s    in 0s      \n",
            "\n",
            "2021-07-10 12:31:11 (102 MB/s) - ‘iris.csv’ saved [4609/4609]\n",
            "\n"
          ],
          "name": "stdout"
        }
      ]
    },
    {
      "cell_type": "markdown",
      "metadata": {
        "id": "SJy4t3lIOgGp"
      },
      "source": [
        "Setelah dataset berhasil diunduh, langkah berikutnya adalah membaca dataset dengan memanfaatkan fungsi **readcsv** dari library pandas. Lakukan pembacaan berkas csv ke dalam dataframe dengan nama **data** menggunakan fungsi **readcsv**. Jangan lupa untuk melakukan import library pandas terlebih dahulu\n"
      ]
    },
    {
      "cell_type": "code",
      "metadata": {
        "id": "mdhbxk_2OzbB"
      },
      "source": [
        "#mengimpor library pandas untuk data analitis\n",
        "import pandas as pd\n",
        "#mengimpor library numpy untuk array\n",
        "import numpy as np\n",
        "#membaca data iris dengan library pandas dengan method read csv\n",
        "data = pd.read_csv('iris.csv')"
      ],
      "execution_count": 2,
      "outputs": []
    },
    {
      "cell_type": "markdown",
      "metadata": {
        "id": "w6NfrIDTOK38"
      },
      "source": [
        "\n",
        "\n",
        "Cek isi dataset Anda dengan menggunakan perintah **head()**"
      ]
    },
    {
      "cell_type": "code",
      "metadata": {
        "id": "Uaiaj796OFH3",
        "colab": {
          "base_uri": "https://localhost:8080/",
          "height": 204
        },
        "outputId": "a0510152-dd7e-4396-8f34-577f9f5844b0"
      },
      "source": [
        "#melihat 5 data teratas dengan method .head()\n",
        "data.head()"
      ],
      "execution_count": 3,
      "outputs": [
        {
          "output_type": "execute_result",
          "data": {
            "text/html": [
              "<div>\n",
              "<style scoped>\n",
              "    .dataframe tbody tr th:only-of-type {\n",
              "        vertical-align: middle;\n",
              "    }\n",
              "\n",
              "    .dataframe tbody tr th {\n",
              "        vertical-align: top;\n",
              "    }\n",
              "\n",
              "    .dataframe thead th {\n",
              "        text-align: right;\n",
              "    }\n",
              "</style>\n",
              "<table border=\"1\" class=\"dataframe\">\n",
              "  <thead>\n",
              "    <tr style=\"text-align: right;\">\n",
              "      <th></th>\n",
              "      <th>sepal_length</th>\n",
              "      <th>sepal_width</th>\n",
              "      <th>petal_length</th>\n",
              "      <th>petal_width</th>\n",
              "      <th>species</th>\n",
              "    </tr>\n",
              "  </thead>\n",
              "  <tbody>\n",
              "    <tr>\n",
              "      <th>0</th>\n",
              "      <td>5.1</td>\n",
              "      <td>3.5</td>\n",
              "      <td>1.4</td>\n",
              "      <td>0.2</td>\n",
              "      <td>Iris-setosa</td>\n",
              "    </tr>\n",
              "    <tr>\n",
              "      <th>1</th>\n",
              "      <td>4.9</td>\n",
              "      <td>3.0</td>\n",
              "      <td>1.4</td>\n",
              "      <td>0.2</td>\n",
              "      <td>Iris-setosa</td>\n",
              "    </tr>\n",
              "    <tr>\n",
              "      <th>2</th>\n",
              "      <td>4.7</td>\n",
              "      <td>3.2</td>\n",
              "      <td>1.3</td>\n",
              "      <td>0.2</td>\n",
              "      <td>Iris-setosa</td>\n",
              "    </tr>\n",
              "    <tr>\n",
              "      <th>3</th>\n",
              "      <td>4.6</td>\n",
              "      <td>3.1</td>\n",
              "      <td>1.5</td>\n",
              "      <td>0.2</td>\n",
              "      <td>Iris-setosa</td>\n",
              "    </tr>\n",
              "    <tr>\n",
              "      <th>4</th>\n",
              "      <td>5.0</td>\n",
              "      <td>3.6</td>\n",
              "      <td>1.4</td>\n",
              "      <td>0.2</td>\n",
              "      <td>Iris-setosa</td>\n",
              "    </tr>\n",
              "  </tbody>\n",
              "</table>\n",
              "</div>"
            ],
            "text/plain": [
              "   sepal_length  sepal_width  petal_length  petal_width      species\n",
              "0           5.1          3.5           1.4          0.2  Iris-setosa\n",
              "1           4.9          3.0           1.4          0.2  Iris-setosa\n",
              "2           4.7          3.2           1.3          0.2  Iris-setosa\n",
              "3           4.6          3.1           1.5          0.2  Iris-setosa\n",
              "4           5.0          3.6           1.4          0.2  Iris-setosa"
            ]
          },
          "metadata": {
            "tags": []
          },
          "execution_count": 3
        }
      ]
    },
    {
      "cell_type": "markdown",
      "metadata": {
        "id": "1bGmXPhp3jyJ"
      },
      "source": [
        "Metode Support Vector Machine (SVM) dasar hanya mampu melakukan klasifikasi data yang terdiri dari dua kelas, atau disebut klasifikasi biner. Dataset iris memiliki 3 kelas, sehingga salah satu kelasnya, yaitu Iris-virginica perlu dihapus. Cell berikut menghapus data yang memiliki kelas Iris-virginica"
      ]
    },
    {
      "cell_type": "code",
      "metadata": {
        "id": "aQ1x8hpw6jPL"
      },
      "source": [
        "#menghapus kelas iris-virginica agar hanya tersisa 2 kelas dengan perinta drop\n",
        "data.drop(data[data['species']=='Iris-virginica'].index,inplace=True)"
      ],
      "execution_count": 4,
      "outputs": []
    },
    {
      "cell_type": "markdown",
      "metadata": {
        "id": "eXtCsi_V4IeW"
      },
      "source": [
        "SVM juga memiliki keterbatasan, yaitu hanya mampu menerima kelas dalam bentuk numerik. Cell berikut mengubah kelas menjadi bilangan, Iris setosa menjadi -1 dan Iris-versicolor menjadi 1"
      ]
    },
    {
      "cell_type": "code",
      "metadata": {
        "id": "H0rs8c7X-aXt"
      },
      "source": [
        "#mengganti kelas iris-sentosa menjadi -1 dan iris-versicolor menjadi 1\n",
        "data['species']=data['species'].map({'Iris-setosa':-1,'Iris-versicolor':1})"
      ],
      "execution_count": 5,
      "outputs": []
    },
    {
      "cell_type": "markdown",
      "metadata": {
        "id": "rA6SQgWW4w0X"
      },
      "source": [
        "Tampilkan beberapa data untuk mengecek hasilnya"
      ]
    },
    {
      "cell_type": "code",
      "metadata": {
        "id": "lZ6X4oeM8Bmo",
        "colab": {
          "base_uri": "https://localhost:8080/",
          "height": 204
        },
        "outputId": "26ae6bef-021f-48f3-d7c8-f6c14956c565"
      },
      "source": [
        "#melihat 5 data teratas dengan method .head()\n",
        "data.head()"
      ],
      "execution_count": 6,
      "outputs": [
        {
          "output_type": "execute_result",
          "data": {
            "text/html": [
              "<div>\n",
              "<style scoped>\n",
              "    .dataframe tbody tr th:only-of-type {\n",
              "        vertical-align: middle;\n",
              "    }\n",
              "\n",
              "    .dataframe tbody tr th {\n",
              "        vertical-align: top;\n",
              "    }\n",
              "\n",
              "    .dataframe thead th {\n",
              "        text-align: right;\n",
              "    }\n",
              "</style>\n",
              "<table border=\"1\" class=\"dataframe\">\n",
              "  <thead>\n",
              "    <tr style=\"text-align: right;\">\n",
              "      <th></th>\n",
              "      <th>sepal_length</th>\n",
              "      <th>sepal_width</th>\n",
              "      <th>petal_length</th>\n",
              "      <th>petal_width</th>\n",
              "      <th>species</th>\n",
              "    </tr>\n",
              "  </thead>\n",
              "  <tbody>\n",
              "    <tr>\n",
              "      <th>0</th>\n",
              "      <td>5.1</td>\n",
              "      <td>3.5</td>\n",
              "      <td>1.4</td>\n",
              "      <td>0.2</td>\n",
              "      <td>-1</td>\n",
              "    </tr>\n",
              "    <tr>\n",
              "      <th>1</th>\n",
              "      <td>4.9</td>\n",
              "      <td>3.0</td>\n",
              "      <td>1.4</td>\n",
              "      <td>0.2</td>\n",
              "      <td>-1</td>\n",
              "    </tr>\n",
              "    <tr>\n",
              "      <th>2</th>\n",
              "      <td>4.7</td>\n",
              "      <td>3.2</td>\n",
              "      <td>1.3</td>\n",
              "      <td>0.2</td>\n",
              "      <td>-1</td>\n",
              "    </tr>\n",
              "    <tr>\n",
              "      <th>3</th>\n",
              "      <td>4.6</td>\n",
              "      <td>3.1</td>\n",
              "      <td>1.5</td>\n",
              "      <td>0.2</td>\n",
              "      <td>-1</td>\n",
              "    </tr>\n",
              "    <tr>\n",
              "      <th>4</th>\n",
              "      <td>5.0</td>\n",
              "      <td>3.6</td>\n",
              "      <td>1.4</td>\n",
              "      <td>0.2</td>\n",
              "      <td>-1</td>\n",
              "    </tr>\n",
              "  </tbody>\n",
              "</table>\n",
              "</div>"
            ],
            "text/plain": [
              "   sepal_length  sepal_width  petal_length  petal_width  species\n",
              "0           5.1          3.5           1.4          0.2       -1\n",
              "1           4.9          3.0           1.4          0.2       -1\n",
              "2           4.7          3.2           1.3          0.2       -1\n",
              "3           4.6          3.1           1.5          0.2       -1\n",
              "4           5.0          3.6           1.4          0.2       -1"
            ]
          },
          "metadata": {
            "tags": []
          },
          "execution_count": 6
        }
      ]
    },
    {
      "cell_type": "markdown",
      "metadata": {
        "id": "lfi1uHIxPdDe"
      },
      "source": [
        "## 2) Membagi data menjadi data latih dan data uji\n",
        "\n",
        "Metode pembelajaran mesin memerlukan dua jenis data :\n",
        "\n",
        "\n",
        "1.   Data latih : Digunakan untuk proses training metode klasifikasi\n",
        "2.   Data uji : Digunakan untuk proses evaluasi metode klasifikasi\n",
        "\n",
        "Data uji dan data latih perlu dibuat terpisah (mutualy exclusive) agar hasil evaluasi lebih akurat.\n",
        "\n",
        "Data uji dan data latih dapat dibuat dengan cara membagi dataset dengan rasio tertentu, misalnya 80% data latih dan 20% data uji.\n",
        "\n",
        "Library Scikit-learn memiliki fungsi [train_test_split](https://scikit-learn.org/stable/modules/generated/sklearn.model_selection.train_test_split.html) pada modul **model_selection** untuk membagi dataset menjadi data latih dan data uji. Bagilah dataset anda menjadi dua, yaitu **data_latih** dan **data_uji**.\n"
      ]
    },
    {
      "cell_type": "code",
      "metadata": {
        "id": "jJjfXgfmPTlU"
      },
      "source": [
        "#melakukan import sebagian library yang akan digunakan\n",
        "#pada kasus  ini hanya mengimport train_test_split dari modul sklearn.model_selection\n",
        "from sklearn.model_selection import train_test_split\n",
        "#melakukan pembagian dataset dengan pembagian 20% data uji dan 80% data latih\n",
        "data_latih, data_uji = train_test_split(data, test_size = 0.2)"
      ],
      "execution_count": 7,
      "outputs": []
    },
    {
      "cell_type": "markdown",
      "metadata": {
        "id": "tBhcsUDYfw2q"
      },
      "source": [
        "Tampilkan banyaknya data pada **data_latih** dan **data_uji**. Seharusnya **data_latih** terdiri dari 80 data, dan **data_uji** terdiri dari 20 data"
      ]
    },
    {
      "cell_type": "code",
      "metadata": {
        "id": "6OtySD4efmmQ",
        "colab": {
          "base_uri": "https://localhost:8080/"
        },
        "outputId": "3fb10540-3c3b-434e-aba4-c1e20f85ee6b"
      },
      "source": [
        "#menampilkan jumlah baris data uji yang sudah dibagi 20% dari dataset\n",
        "print(data_uji.shape[0])\n",
        "#menampilkan jumlah baris data latih yang sudah dibagi 80% dari dataset\n",
        "print(data_latih.shape[0])"
      ],
      "execution_count": 8,
      "outputs": [
        {
          "output_type": "stream",
          "text": [
            "20\n",
            "80\n"
          ],
          "name": "stdout"
        }
      ]
    },
    {
      "cell_type": "markdown",
      "metadata": {
        "id": "DeU-FCyTkVKC"
      },
      "source": [
        "Pisahkan label/kategori dari data latih dan data uji menjadi variabel tersendiri. Beri nama variabelnya  **label_latih** dan **label_uji**"
      ]
    },
    {
      "cell_type": "code",
      "metadata": {
        "id": "e4vC_M0mkkl3"
      },
      "source": [
        "#melakukan pemisahan antara fitur dan label dengan melakukan pop pada kolom spesies pada label latih\n",
        "label_latih = data_latih.pop('species')\n",
        "#melakukan pemisahan antara fitur dan label dengan melakukan pop pada kolom spesies pada label uji\n",
        "label_uji = data_uji.pop('species')"
      ],
      "execution_count": 9,
      "outputs": []
    },
    {
      "cell_type": "code",
      "metadata": {
        "id": "-B1RxWOeDKea",
        "colab": {
          "base_uri": "https://localhost:8080/",
          "height": 204
        },
        "outputId": "9c56d1f9-b714-4867-e0dc-fb3c786de719"
      },
      "source": [
        "#melihat 5 data teratas dengan method .head()\n",
        "data_uji.head()"
      ],
      "execution_count": 10,
      "outputs": [
        {
          "output_type": "execute_result",
          "data": {
            "text/html": [
              "<div>\n",
              "<style scoped>\n",
              "    .dataframe tbody tr th:only-of-type {\n",
              "        vertical-align: middle;\n",
              "    }\n",
              "\n",
              "    .dataframe tbody tr th {\n",
              "        vertical-align: top;\n",
              "    }\n",
              "\n",
              "    .dataframe thead th {\n",
              "        text-align: right;\n",
              "    }\n",
              "</style>\n",
              "<table border=\"1\" class=\"dataframe\">\n",
              "  <thead>\n",
              "    <tr style=\"text-align: right;\">\n",
              "      <th></th>\n",
              "      <th>sepal_length</th>\n",
              "      <th>sepal_width</th>\n",
              "      <th>petal_length</th>\n",
              "      <th>petal_width</th>\n",
              "    </tr>\n",
              "  </thead>\n",
              "  <tbody>\n",
              "    <tr>\n",
              "      <th>68</th>\n",
              "      <td>6.2</td>\n",
              "      <td>2.2</td>\n",
              "      <td>4.5</td>\n",
              "      <td>1.5</td>\n",
              "    </tr>\n",
              "    <tr>\n",
              "      <th>38</th>\n",
              "      <td>4.4</td>\n",
              "      <td>3.0</td>\n",
              "      <td>1.3</td>\n",
              "      <td>0.2</td>\n",
              "    </tr>\n",
              "    <tr>\n",
              "      <th>10</th>\n",
              "      <td>5.4</td>\n",
              "      <td>3.7</td>\n",
              "      <td>1.5</td>\n",
              "      <td>0.2</td>\n",
              "    </tr>\n",
              "    <tr>\n",
              "      <th>63</th>\n",
              "      <td>6.1</td>\n",
              "      <td>2.9</td>\n",
              "      <td>4.7</td>\n",
              "      <td>1.4</td>\n",
              "    </tr>\n",
              "    <tr>\n",
              "      <th>81</th>\n",
              "      <td>5.5</td>\n",
              "      <td>2.4</td>\n",
              "      <td>3.7</td>\n",
              "      <td>1.0</td>\n",
              "    </tr>\n",
              "  </tbody>\n",
              "</table>\n",
              "</div>"
            ],
            "text/plain": [
              "    sepal_length  sepal_width  petal_length  petal_width\n",
              "68           6.2          2.2           4.5          1.5\n",
              "38           4.4          3.0           1.3          0.2\n",
              "10           5.4          3.7           1.5          0.2\n",
              "63           6.1          2.9           4.7          1.4\n",
              "81           5.5          2.4           3.7          1.0"
            ]
          },
          "metadata": {
            "tags": []
          },
          "execution_count": 10
        }
      ]
    },
    {
      "cell_type": "markdown",
      "metadata": {
        "id": "Ikiam_bv8sM1"
      },
      "source": [
        "## 3) Proses Training"
      ]
    },
    {
      "cell_type": "markdown",
      "metadata": {
        "id": "t6-boIzy9UJ2"
      },
      "source": [
        "Tujuan dari algoritma SVM adalah meminimalkan nilai *cost function*. Penghitungan nilai minimal dapat dapat dilakukan dengan menghitung nilai gradien dari *cost function* terlebih dahulu. Fungsi di bawah ini berguna untuk menghitung nilai gradien cost function"
      ]
    },
    {
      "cell_type": "code",
      "metadata": {
        "id": "Kq63208e_7b0"
      },
      "source": [
        "# menghitung cost gradien menggunakan fungsi \n",
        "def hitung_cost_gradient(W,X,Y,regularization):\n",
        "  #menghitung jarak dengan mengurangkan 1 dengan y * dot product x dan w\n",
        "  jarak = 1 - (Y* np.dot(X,W))\n",
        "  #menbuat array 0 seukuran dengan panjang w\n",
        "  dw = np.zeros(len(W))\n",
        "  #kondisi dimana jarak < -1\n",
        "  if max(0,jarak)==0:\n",
        "    #nilai di maka nilai W\n",
        "    di= W\n",
        "  #jika tidak memenuhi kondisi maka kondisi else akan dieksekusi\n",
        "  else:\n",
        "    #nilai di akan diset dari W - (regularization*Y*X)\n",
        "    di = W - (regularization * Y*X)\n",
        "  #nilai di akan disimpan sebagai intercept\n",
        "  dw += di\n",
        "  #mengembalikan nilai w*x + c\n",
        "  return dw"
      ],
      "execution_count": 11,
      "outputs": []
    },
    {
      "cell_type": "markdown",
      "metadata": {
        "id": "sYGiwWxO9z1j"
      },
      "source": [
        "Terdapat beberapa cara untuk meminimalkan nilai *cost function*, salah satunya menggunakan Stochastic Gradient Descent (SGD) untuk melakukan minimasi. Minimasi *cost function* merupakan inti dari algoritma SVM. Fungsi di bawah ini merupakan implementasi algoritma SGD "
      ]
    },
    {
      "cell_type": "code",
      "metadata": {
        "id": "ERaoSW0kBCVA"
      },
      "source": [
        "# mengimport kelas shuffle dari library sklearn utils\n",
        "from sklearn.utils import shuffle\n",
        "#membuat fungsi SGD untuk menghitung bobot\n",
        "def sgd(data_latih,label_latih,learning_rate = 0.000001,max_epoch=1000,regularization=10000):\n",
        "  #mengubah data latih yang berbentuk dataframe menjadi array mengunakan numpy\n",
        "  data_latih = data_latih.to_numpy()\n",
        "  #mengubah label latih yang berbentuk dataframe menjadi array mengunakan numpy\n",
        "  label_latih = label_latih.to_numpy()\n",
        "  #membuat variabel bobot yang berisi aray kosong yang ukurannya sama dengan banyak kolom\n",
        "  bobot = np.zeros(data_latih.shape[1])\n",
        "  #membuat perulangan untuk menghitung bobot\n",
        "  for epoch in range(1,max_epoch):\n",
        "    #melakukan shuffling nilai X dan Y agar tidak terjadi pola perhitungan bobot yang sama\n",
        "    X,Y =shuffle(data_latih,label_latih,random_state=101)\n",
        "    for index,x in enumerate(X):\n",
        "      #menghitung delta dengan fungsi hitung cost gradient\n",
        "      delta=hitung_cost_gradient(bobot,x,Y[index],regularization)\n",
        "      #menentukan nilai bobot dengan mengurangi bobot dengan learning rate * delta\n",
        "      bobot = bobot - (learning_rate * delta)\n",
        "  #mengembalikan nilai bobot\n",
        "  return bobot"
      ],
      "execution_count": 12,
      "outputs": []
    },
    {
      "cell_type": "markdown",
      "metadata": {
        "id": "FaTWcv7dAu7t"
      },
      "source": [
        "Proses training dilakukan dengan memanggil fungsi **sgd** dengan parameter input berupa data latih dan label latih. Parameter learning rate dan max epoch menggunakan nilai *default* nya"
      ]
    },
    {
      "cell_type": "code",
      "metadata": {
        "id": "okhxKfw9C31G",
        "colab": {
          "base_uri": "https://localhost:8080/"
        },
        "outputId": "ab7887b0-6a31-47ac-d010-9a698ac9cd9f"
      },
      "source": [
        "#menghitung nilai bobot dengan fungsi sgd\n",
        "W = sgd(data_latih,label_latih)\n",
        "#mencetak nilai W\n",
        "print(W)"
      ],
      "execution_count": 13,
      "outputs": [
        {
          "output_type": "stream",
          "text": [
            "[-0.26796816 -0.63881552  1.13955217  0.51675419]\n"
          ],
          "name": "stdout"
        }
      ]
    },
    {
      "cell_type": "markdown",
      "metadata": {
        "id": "M6UR7tpm1YQ_"
      },
      "source": [
        "## 4) Proses *testing*\n",
        "Proses testing dilakukan dengan menghitung nilai [*dot product*](https://en.wikipedia.org/wiki/Dot_product) antara bobot hasil training dengan data uji. Kelas data ditentukan berdasarkan tanda (positif atau negatif) dari hasil dot product tersebut. Fungsi berikut mengimplementasikan proses testing"
      ]
    },
    {
      "cell_type": "code",
      "metadata": {
        "id": "GFrDgAtU7umG"
      },
      "source": [
        "#membuat fungsi testing \n",
        "def testing(W,data_uji):\n",
        "  #membuat array kosong yang akan digunakan menyimpan nilai prediksi\n",
        "  prediksi = np.array([])\n",
        "  #melakukan perulangan untuk menguji tiap baris data uji\n",
        "  for i in range(data_uji.shape[0]):\n",
        "    #melakukan perhitungan dot product antara data uji dengan matriks W\n",
        "    y_prediksi = np.sign(np.dot(W,data_uji.to_numpy()[i]))\n",
        "    #menambahkan nilai prediksi ke array prediksi\n",
        "    prediksi = np.append(prediksi,y_prediksi)\n",
        "  # mengembalikan nilai prediksi secara keseluruhan\n",
        "  return prediksi"
      ],
      "execution_count": 14,
      "outputs": []
    },
    {
      "cell_type": "markdown",
      "metadata": {
        "id": "v4gkpgl02hHN"
      },
      "source": [
        "Lakukan pengujian menggunakan seluruh data uji. Bandingkan hasilnya dengan nilai label sebenarnya untuk menghitung berapa banyak data uji yang berhasil diprediksi dengan benar."
      ]
    },
    {
      "cell_type": "code",
      "metadata": {
        "id": "MQaav7-4BOw0",
        "colab": {
          "base_uri": "https://localhost:8080/"
        },
        "outputId": "3ef66ed4-83e3-47ab-e69b-cb36fccf7691"
      },
      "source": [
        "#melakukan prediksi dengan memanggil fungsi testing\n",
        "y_prediksi = testing(W,data_uji)\n",
        "#menampilkan jumlah prediksi yang sama dengan label sebenarnya\n",
        "print(sum(y_prediksi==label_uji))"
      ],
      "execution_count": 15,
      "outputs": [
        {
          "output_type": "stream",
          "text": [
            "20\n"
          ],
          "name": "stdout"
        }
      ]
    },
    {
      "cell_type": "code",
      "metadata": {
        "colab": {
          "base_uri": "https://localhost:8080/"
        },
        "id": "a5Wj1DCULlLS",
        "outputId": "96310c95-4f79-4ae0-8d1e-bce2405c6ac3"
      },
      "source": [
        "#menampilkan jumlah prediksi yang sama dengan label sebenarnya\n",
        "prediksiBenar = sum(y_prediksi==label_uji)\n",
        "#menampilkan jumlah data sebenarnya\n",
        "jumlahSebenarnya = label_uji.shape[0]\n",
        "#menampilkan nilai prediksi yang benar\n",
        "print(\"Prediksi benar =\", prediksiBenar)\n",
        "# menampilkan jumlah data sebenarnya\n",
        "print(\"Jumlah label sebenarnya =\", jumlahSebenarnya)\n",
        "# menghitung akurasi dengan membandingkan nilai benar dengan jumlah \n",
        "print(\"Akurasi = \", (prediksiBenar/jumlahSebenarnya))"
      ],
      "execution_count": 16,
      "outputs": [
        {
          "output_type": "stream",
          "text": [
            "Prediksi benar = 20\n",
            "Jumlah label sebenarnya = 20\n",
            "Akurasi =  1.0\n"
          ],
          "name": "stdout"
        }
      ]
    },
    {
      "cell_type": "markdown",
      "metadata": {
        "id": "ZiDmUxVBuo42"
      },
      "source": [
        "## TUGAS\n",
        "Pada tugas kali ini Anda masih melakukan klasifikasi dataset iris, tetapi menggunakan kelas Iris-versicolor dan Iris-virginica. Apakah hasilnya lebih baik jika dibandingkan dengan Iris-setosa dan Iris-versicolor?"
      ]
    },
    {
      "cell_type": "code",
      "metadata": {
        "id": "q-WVuiDBTroA"
      },
      "source": [
        "#membaca ulang data iris dengan library pandas dengan method read csv\n",
        "data1 = pd.read_csv('iris.csv')"
      ],
      "execution_count": 17,
      "outputs": []
    },
    {
      "cell_type": "code",
      "metadata": {
        "id": "ZvXc30RkTys1"
      },
      "source": [
        "#menghapus kelas iris-setosa agar hanya tersisa 2 kelas dengan perinta drop\n",
        "data1.drop(data1[data1['species']=='Iris-setosa'].index,inplace=True)"
      ],
      "execution_count": 18,
      "outputs": []
    },
    {
      "cell_type": "code",
      "metadata": {
        "colab": {
          "base_uri": "https://localhost:8080/",
          "height": 204
        },
        "id": "RGAWfCkdT6O-",
        "outputId": "d33d848d-a13f-4216-f7ba-b80f9bab281e"
      },
      "source": [
        "#melihat 5 data teratas dengan method .head()\n",
        "data1.head()"
      ],
      "execution_count": 19,
      "outputs": [
        {
          "output_type": "execute_result",
          "data": {
            "text/html": [
              "<div>\n",
              "<style scoped>\n",
              "    .dataframe tbody tr th:only-of-type {\n",
              "        vertical-align: middle;\n",
              "    }\n",
              "\n",
              "    .dataframe tbody tr th {\n",
              "        vertical-align: top;\n",
              "    }\n",
              "\n",
              "    .dataframe thead th {\n",
              "        text-align: right;\n",
              "    }\n",
              "</style>\n",
              "<table border=\"1\" class=\"dataframe\">\n",
              "  <thead>\n",
              "    <tr style=\"text-align: right;\">\n",
              "      <th></th>\n",
              "      <th>sepal_length</th>\n",
              "      <th>sepal_width</th>\n",
              "      <th>petal_length</th>\n",
              "      <th>petal_width</th>\n",
              "      <th>species</th>\n",
              "    </tr>\n",
              "  </thead>\n",
              "  <tbody>\n",
              "    <tr>\n",
              "      <th>50</th>\n",
              "      <td>7.0</td>\n",
              "      <td>3.2</td>\n",
              "      <td>4.7</td>\n",
              "      <td>1.4</td>\n",
              "      <td>Iris-versicolor</td>\n",
              "    </tr>\n",
              "    <tr>\n",
              "      <th>51</th>\n",
              "      <td>6.4</td>\n",
              "      <td>3.2</td>\n",
              "      <td>4.5</td>\n",
              "      <td>1.5</td>\n",
              "      <td>Iris-versicolor</td>\n",
              "    </tr>\n",
              "    <tr>\n",
              "      <th>52</th>\n",
              "      <td>6.9</td>\n",
              "      <td>3.1</td>\n",
              "      <td>4.9</td>\n",
              "      <td>1.5</td>\n",
              "      <td>Iris-versicolor</td>\n",
              "    </tr>\n",
              "    <tr>\n",
              "      <th>53</th>\n",
              "      <td>5.5</td>\n",
              "      <td>2.3</td>\n",
              "      <td>4.0</td>\n",
              "      <td>1.3</td>\n",
              "      <td>Iris-versicolor</td>\n",
              "    </tr>\n",
              "    <tr>\n",
              "      <th>54</th>\n",
              "      <td>6.5</td>\n",
              "      <td>2.8</td>\n",
              "      <td>4.6</td>\n",
              "      <td>1.5</td>\n",
              "      <td>Iris-versicolor</td>\n",
              "    </tr>\n",
              "  </tbody>\n",
              "</table>\n",
              "</div>"
            ],
            "text/plain": [
              "    sepal_length  sepal_width  petal_length  petal_width          species\n",
              "50           7.0          3.2           4.7          1.4  Iris-versicolor\n",
              "51           6.4          3.2           4.5          1.5  Iris-versicolor\n",
              "52           6.9          3.1           4.9          1.5  Iris-versicolor\n",
              "53           5.5          2.3           4.0          1.3  Iris-versicolor\n",
              "54           6.5          2.8           4.6          1.5  Iris-versicolor"
            ]
          },
          "metadata": {
            "tags": []
          },
          "execution_count": 19
        }
      ]
    },
    {
      "cell_type": "code",
      "metadata": {
        "id": "pvKbTDPWU9Te"
      },
      "source": [
        "#mengganti kelas iris-versicolor menjadi -1 dan iris-virginica menjadi 1\n",
        "data1['species']=data1['species'].map({'Iris-versicolor':-1,'Iris-virginica':1})"
      ],
      "execution_count": 20,
      "outputs": []
    },
    {
      "cell_type": "code",
      "metadata": {
        "colab": {
          "base_uri": "https://localhost:8080/",
          "height": 204
        },
        "id": "40O-wlBaWCU2",
        "outputId": "195d4539-c789-4cb0-c7e1-079aad1f03f1"
      },
      "source": [
        "#melihat 5 data teratas dengan method .head()\n",
        "data1.head()"
      ],
      "execution_count": 21,
      "outputs": [
        {
          "output_type": "execute_result",
          "data": {
            "text/html": [
              "<div>\n",
              "<style scoped>\n",
              "    .dataframe tbody tr th:only-of-type {\n",
              "        vertical-align: middle;\n",
              "    }\n",
              "\n",
              "    .dataframe tbody tr th {\n",
              "        vertical-align: top;\n",
              "    }\n",
              "\n",
              "    .dataframe thead th {\n",
              "        text-align: right;\n",
              "    }\n",
              "</style>\n",
              "<table border=\"1\" class=\"dataframe\">\n",
              "  <thead>\n",
              "    <tr style=\"text-align: right;\">\n",
              "      <th></th>\n",
              "      <th>sepal_length</th>\n",
              "      <th>sepal_width</th>\n",
              "      <th>petal_length</th>\n",
              "      <th>petal_width</th>\n",
              "      <th>species</th>\n",
              "    </tr>\n",
              "  </thead>\n",
              "  <tbody>\n",
              "    <tr>\n",
              "      <th>50</th>\n",
              "      <td>7.0</td>\n",
              "      <td>3.2</td>\n",
              "      <td>4.7</td>\n",
              "      <td>1.4</td>\n",
              "      <td>-1</td>\n",
              "    </tr>\n",
              "    <tr>\n",
              "      <th>51</th>\n",
              "      <td>6.4</td>\n",
              "      <td>3.2</td>\n",
              "      <td>4.5</td>\n",
              "      <td>1.5</td>\n",
              "      <td>-1</td>\n",
              "    </tr>\n",
              "    <tr>\n",
              "      <th>52</th>\n",
              "      <td>6.9</td>\n",
              "      <td>3.1</td>\n",
              "      <td>4.9</td>\n",
              "      <td>1.5</td>\n",
              "      <td>-1</td>\n",
              "    </tr>\n",
              "    <tr>\n",
              "      <th>53</th>\n",
              "      <td>5.5</td>\n",
              "      <td>2.3</td>\n",
              "      <td>4.0</td>\n",
              "      <td>1.3</td>\n",
              "      <td>-1</td>\n",
              "    </tr>\n",
              "    <tr>\n",
              "      <th>54</th>\n",
              "      <td>6.5</td>\n",
              "      <td>2.8</td>\n",
              "      <td>4.6</td>\n",
              "      <td>1.5</td>\n",
              "      <td>-1</td>\n",
              "    </tr>\n",
              "  </tbody>\n",
              "</table>\n",
              "</div>"
            ],
            "text/plain": [
              "    sepal_length  sepal_width  petal_length  petal_width  species\n",
              "50           7.0          3.2           4.7          1.4       -1\n",
              "51           6.4          3.2           4.5          1.5       -1\n",
              "52           6.9          3.1           4.9          1.5       -1\n",
              "53           5.5          2.3           4.0          1.3       -1\n",
              "54           6.5          2.8           4.6          1.5       -1"
            ]
          },
          "metadata": {
            "tags": []
          },
          "execution_count": 21
        }
      ]
    },
    {
      "cell_type": "code",
      "metadata": {
        "id": "YL-llNfWWXX3"
      },
      "source": [
        "#melakukan import sebagian library yang akan digunakan\n",
        "#pada kasus  ini hanya mengimport train_test_split dari modul sklearn.model_selection\n",
        "from sklearn.model_selection import train_test_split\n",
        "#melakukan pembagian dataset dengan pembagian 20% data uji dan 80% data latih\n",
        "data_latih_tugas, data_uji_tugas = train_test_split(data1, test_size = 0.2)"
      ],
      "execution_count": 22,
      "outputs": []
    },
    {
      "cell_type": "code",
      "metadata": {
        "id": "kEKsGY47WsNM"
      },
      "source": [
        "#melakukan pemisahan antara fitur dan label dengan melakukan pop pada kolom spesies pada label latih\n",
        "label_latih_tugas = data_latih_tugas.pop('species')\n",
        "#melakukan pemisahan antara fitur dan label dengan melakukan pop pada kolom spesies pada label uji\n",
        "label_uji_tugas = data_uji_tugas.pop('species')"
      ],
      "execution_count": 23,
      "outputs": []
    },
    {
      "cell_type": "code",
      "metadata": {
        "colab": {
          "base_uri": "https://localhost:8080/",
          "height": 204
        },
        "id": "a_c0qWtpWwKj",
        "outputId": "277ae2c0-465f-47ba-8c0b-f0e403899246"
      },
      "source": [
        "#melihat 5 data teratas dengan method .head()\n",
        "data1.head()"
      ],
      "execution_count": 24,
      "outputs": [
        {
          "output_type": "execute_result",
          "data": {
            "text/html": [
              "<div>\n",
              "<style scoped>\n",
              "    .dataframe tbody tr th:only-of-type {\n",
              "        vertical-align: middle;\n",
              "    }\n",
              "\n",
              "    .dataframe tbody tr th {\n",
              "        vertical-align: top;\n",
              "    }\n",
              "\n",
              "    .dataframe thead th {\n",
              "        text-align: right;\n",
              "    }\n",
              "</style>\n",
              "<table border=\"1\" class=\"dataframe\">\n",
              "  <thead>\n",
              "    <tr style=\"text-align: right;\">\n",
              "      <th></th>\n",
              "      <th>sepal_length</th>\n",
              "      <th>sepal_width</th>\n",
              "      <th>petal_length</th>\n",
              "      <th>petal_width</th>\n",
              "      <th>species</th>\n",
              "    </tr>\n",
              "  </thead>\n",
              "  <tbody>\n",
              "    <tr>\n",
              "      <th>50</th>\n",
              "      <td>7.0</td>\n",
              "      <td>3.2</td>\n",
              "      <td>4.7</td>\n",
              "      <td>1.4</td>\n",
              "      <td>-1</td>\n",
              "    </tr>\n",
              "    <tr>\n",
              "      <th>51</th>\n",
              "      <td>6.4</td>\n",
              "      <td>3.2</td>\n",
              "      <td>4.5</td>\n",
              "      <td>1.5</td>\n",
              "      <td>-1</td>\n",
              "    </tr>\n",
              "    <tr>\n",
              "      <th>52</th>\n",
              "      <td>6.9</td>\n",
              "      <td>3.1</td>\n",
              "      <td>4.9</td>\n",
              "      <td>1.5</td>\n",
              "      <td>-1</td>\n",
              "    </tr>\n",
              "    <tr>\n",
              "      <th>53</th>\n",
              "      <td>5.5</td>\n",
              "      <td>2.3</td>\n",
              "      <td>4.0</td>\n",
              "      <td>1.3</td>\n",
              "      <td>-1</td>\n",
              "    </tr>\n",
              "    <tr>\n",
              "      <th>54</th>\n",
              "      <td>6.5</td>\n",
              "      <td>2.8</td>\n",
              "      <td>4.6</td>\n",
              "      <td>1.5</td>\n",
              "      <td>-1</td>\n",
              "    </tr>\n",
              "  </tbody>\n",
              "</table>\n",
              "</div>"
            ],
            "text/plain": [
              "    sepal_length  sepal_width  petal_length  petal_width  species\n",
              "50           7.0          3.2           4.7          1.4       -1\n",
              "51           6.4          3.2           4.5          1.5       -1\n",
              "52           6.9          3.1           4.9          1.5       -1\n",
              "53           5.5          2.3           4.0          1.3       -1\n",
              "54           6.5          2.8           4.6          1.5       -1"
            ]
          },
          "metadata": {
            "tags": []
          },
          "execution_count": 24
        }
      ]
    },
    {
      "cell_type": "code",
      "metadata": {
        "colab": {
          "base_uri": "https://localhost:8080/"
        },
        "id": "gng2-t4jZH8U",
        "outputId": "ce73b92a-e9ef-4a96-da92-63f3dd1057d8"
      },
      "source": [
        "#menghitung nilai bobot dengan fungsi sgd\n",
        "W = sgd(data_latih_tugas,label_latih_tugas)\n",
        "#mencetak nilai W\n",
        "print(W)"
      ],
      "execution_count": 25,
      "outputs": [
        {
          "output_type": "stream",
          "text": [
            "[-4.93668993 -3.75837246  6.17726447  6.93407883]\n"
          ],
          "name": "stdout"
        }
      ]
    },
    {
      "cell_type": "code",
      "metadata": {
        "colab": {
          "base_uri": "https://localhost:8080/"
        },
        "id": "wQaKpAQtZPP_",
        "outputId": "c2edd662-99a7-41f3-fdce-c22de9443518"
      },
      "source": [
        "#melakukan prediksi dengan memanggil fungsi testing\n",
        "y_prediksi_tugas = testing(W,data_uji_tugas)\n",
        "#menampilkan jumlah prediksi yang sama dengan label sebenarnya\n",
        "print(sum(y_prediksi_tugas ==label_uji_tugas))"
      ],
      "execution_count": 26,
      "outputs": [
        {
          "output_type": "stream",
          "text": [
            "18\n"
          ],
          "name": "stdout"
        }
      ]
    },
    {
      "cell_type": "code",
      "metadata": {
        "colab": {
          "base_uri": "https://localhost:8080/"
        },
        "id": "ETVnyQMZZjdQ",
        "outputId": "7b19547c-d26e-497c-e9e1-fb01df2ab84e"
      },
      "source": [
        "#menampilkan jumlah prediksi yang sama dengan label sebenarnya\n",
        "prediksiBenar = sum(y_prediksi_tugas ==label_uji_tugas)\n",
        "#menampilkan jumlah data sebenarnya\n",
        "jumlahSebenarnya = label_uji_tugas.shape[0]\n",
        "#menampilkan nilai prediksi yang benar\n",
        "print(\"Prediksi benar =\", prediksiBenar)\n",
        "# menampilkan jumlah data sebenarnya\n",
        "print(\"Jumlah label sebenarnya =\", jumlahSebenarnya)\n",
        "# menghitung akurasi dengan membandingkan nilai benar dengan jumlah \n",
        "print(\"Akurasi = \", (prediksiBenar/jumlahSebenarnya))"
      ],
      "execution_count": 27,
      "outputs": [
        {
          "output_type": "stream",
          "text": [
            "Prediksi benar = 18\n",
            "Jumlah label sebenarnya = 20\n",
            "Akurasi =  0.9\n"
          ],
          "name": "stdout"
        }
      ]
    },
    {
      "cell_type": "markdown",
      "metadata": {
        "id": "E6CWQd6QHIJ9"
      },
      "source": [
        "\n",
        "\n",
        "> Hasilnya tidak lebih baik karena hanya mampu mengenali 19 diantara 20 data uji (pada kelas Iris-versicolor dan Iris-virginica), sedangkan pada Iris-versicolor dan Iris-setosa mampu memprediksi 20 label dengan benar dari 20 data uji. Hal ini berarti antara kelas Iris-versicolor dan Iris-setosa hyperplane yang dibuat benar-benar memisahkan 2 kelas tersebut dan lebih baik jika dibandingkan dengan hyperplane pada Iris-versicolor dan Iris-virginica.\n"
      ]
    },
    {
      "cell_type": "markdown",
      "metadata": {
        "id": "eKdt1e9uIcnC"
      },
      "source": [
        "Lakukan proses training ulang, tetapi menggunakan nilai max_epoch sebesar 5000. Anda dapat memberikan parameter max_epoch=5000 saat memanggil fungsi **sgd**. Apakah hasilnya lebih baik? Mengapa?"
      ]
    },
    {
      "cell_type": "code",
      "metadata": {
        "id": "EdgMMwQRGpth",
        "colab": {
          "base_uri": "https://localhost:8080/"
        },
        "outputId": "6f68800d-aac4-43ad-e114-367718002694"
      },
      "source": [
        "# training max_epoch = 5000\n",
        "W_tugas_maxepoch = sgd(data_latih_tugas,label_latih_tugas, max_epoch=5000)\n",
        "print(W_tugas_maxepoch)"
      ],
      "execution_count": 28,
      "outputs": [
        {
          "output_type": "stream",
          "text": [
            "[-5.9472972  -5.06400878  7.80597381  8.4400674 ]\n"
          ],
          "name": "stdout"
        }
      ]
    },
    {
      "cell_type": "code",
      "metadata": {
        "colab": {
          "base_uri": "https://localhost:8080/"
        },
        "id": "zod9S3jpZ7Th",
        "outputId": "a0af63a1-f7fb-49c7-96e2-180723c375b3"
      },
      "source": [
        "#melakukan prediksi dengan memanggil fungsi testing\n",
        "y_prediksi_tugas_epoch  = testing(W_tugas_maxepoch ,data_uji_tugas)\n",
        "#menampilkan jumlah prediksi yang sama dengan label sebenarnya\n",
        "print(sum(y_prediksi_tugas_epoch ==label_uji_tugas))"
      ],
      "execution_count": 29,
      "outputs": [
        {
          "output_type": "stream",
          "text": [
            "18\n"
          ],
          "name": "stdout"
        }
      ]
    },
    {
      "cell_type": "markdown",
      "metadata": {
        "id": "7ay0a32bsEWE"
      },
      "source": [
        ">Setelah melakukan proses training ulang menggunakan nilai max_epoch = 5000, hasil yang didapatkan sama dengan pengujian dengan nilai epoch 1000 yakni 19 prediksi benar dari 20 data uji. Max epoch merupakan batas perulangan untuk mencari bobot/ cost function terkecil. Jika nilai cost function semakin minimal maka persamaan garis yang dihasilkan semakin konvergen sehingga hyperplanenya optimal. Jika max_epoch semakin besar maka nilai yang didapatkan akan semakin konvergen, namun nilai ini memiliki batas minimum. Ketika sudah mencapai batas minimum maka nilainya akan tetap (tidak bisa lebih kecil lagi)."
      ]
    },
    {
      "cell_type": "markdown",
      "metadata": {
        "id": "bSh7w88iL5Bs"
      },
      "source": [
        "Terakhir, lakukanlah seleksi fitur sederhana dengan mengambil hanya fitur sepal length dan sepal width saja. Apakah hasilnya lebih baik?"
      ]
    },
    {
      "cell_type": "code",
      "metadata": {
        "id": "v6od3Vh9KTnJ"
      },
      "source": [
        "# mengambil fitur sepal_length dan sepal_width dari data_latih_tugas\n",
        "data_latih_t3 = data_latih_tugas[['sepal_length', 'sepal_width']]\n",
        "# mengambil fitur sepal_length dan sepal_width dari data_uji_tugas\n",
        "data_uji_t3 = data_uji_tugas[['sepal_length', 'sepal_width']]"
      ],
      "execution_count": 30,
      "outputs": []
    },
    {
      "cell_type": "code",
      "metadata": {
        "id": "uN9JsDylK44H",
        "colab": {
          "base_uri": "https://localhost:8080/"
        },
        "outputId": "4b7828c9-6978-45ee-f18c-fb3833609888"
      },
      "source": [
        "#cek jumlah kolom pada data latih\n",
        "print(data_latih_t3.shape[1])"
      ],
      "execution_count": 31,
      "outputs": [
        {
          "output_type": "stream",
          "text": [
            "2\n"
          ],
          "name": "stdout"
        }
      ]
    },
    {
      "cell_type": "code",
      "metadata": {
        "colab": {
          "base_uri": "https://localhost:8080/"
        },
        "id": "eHHa3nruc_Hn",
        "outputId": "8ec5fdea-2ce5-41da-a54e-49d4e64927a9"
      },
      "source": [
        "#cek jumlah kolom pada data uji\n",
        "print(data_uji_t3.shape[1])"
      ],
      "execution_count": 32,
      "outputs": [
        {
          "output_type": "stream",
          "text": [
            "2\n"
          ],
          "name": "stdout"
        }
      ]
    },
    {
      "cell_type": "code",
      "metadata": {
        "colab": {
          "base_uri": "https://localhost:8080/",
          "height": 204
        },
        "id": "-BS87SQadK-M",
        "outputId": "63ee803e-25bd-4fb6-9f97-f4cfa9849c4c"
      },
      "source": [
        "#melihat 5 data teratas dengan method .head()\n",
        "data_latih_t3.head()"
      ],
      "execution_count": 33,
      "outputs": [
        {
          "output_type": "execute_result",
          "data": {
            "text/html": [
              "<div>\n",
              "<style scoped>\n",
              "    .dataframe tbody tr th:only-of-type {\n",
              "        vertical-align: middle;\n",
              "    }\n",
              "\n",
              "    .dataframe tbody tr th {\n",
              "        vertical-align: top;\n",
              "    }\n",
              "\n",
              "    .dataframe thead th {\n",
              "        text-align: right;\n",
              "    }\n",
              "</style>\n",
              "<table border=\"1\" class=\"dataframe\">\n",
              "  <thead>\n",
              "    <tr style=\"text-align: right;\">\n",
              "      <th></th>\n",
              "      <th>sepal_length</th>\n",
              "      <th>sepal_width</th>\n",
              "    </tr>\n",
              "  </thead>\n",
              "  <tbody>\n",
              "    <tr>\n",
              "      <th>95</th>\n",
              "      <td>5.7</td>\n",
              "      <td>3.0</td>\n",
              "    </tr>\n",
              "    <tr>\n",
              "      <th>59</th>\n",
              "      <td>5.2</td>\n",
              "      <td>2.7</td>\n",
              "    </tr>\n",
              "    <tr>\n",
              "      <th>130</th>\n",
              "      <td>7.4</td>\n",
              "      <td>2.8</td>\n",
              "    </tr>\n",
              "    <tr>\n",
              "      <th>58</th>\n",
              "      <td>6.6</td>\n",
              "      <td>2.9</td>\n",
              "    </tr>\n",
              "    <tr>\n",
              "      <th>78</th>\n",
              "      <td>6.0</td>\n",
              "      <td>2.9</td>\n",
              "    </tr>\n",
              "  </tbody>\n",
              "</table>\n",
              "</div>"
            ],
            "text/plain": [
              "     sepal_length  sepal_width\n",
              "95            5.7          3.0\n",
              "59            5.2          2.7\n",
              "130           7.4          2.8\n",
              "58            6.6          2.9\n",
              "78            6.0          2.9"
            ]
          },
          "metadata": {
            "tags": []
          },
          "execution_count": 33
        }
      ]
    },
    {
      "cell_type": "code",
      "metadata": {
        "colab": {
          "base_uri": "https://localhost:8080/",
          "height": 204
        },
        "id": "bFKLyaNtdN1r",
        "outputId": "892f765d-cb06-4d4e-af7e-a67c5ce390d5"
      },
      "source": [
        "#melihat 5 data teratas dengan method .head()\n",
        "data_uji_t3.head()"
      ],
      "execution_count": 34,
      "outputs": [
        {
          "output_type": "execute_result",
          "data": {
            "text/html": [
              "<div>\n",
              "<style scoped>\n",
              "    .dataframe tbody tr th:only-of-type {\n",
              "        vertical-align: middle;\n",
              "    }\n",
              "\n",
              "    .dataframe tbody tr th {\n",
              "        vertical-align: top;\n",
              "    }\n",
              "\n",
              "    .dataframe thead th {\n",
              "        text-align: right;\n",
              "    }\n",
              "</style>\n",
              "<table border=\"1\" class=\"dataframe\">\n",
              "  <thead>\n",
              "    <tr style=\"text-align: right;\">\n",
              "      <th></th>\n",
              "      <th>sepal_length</th>\n",
              "      <th>sepal_width</th>\n",
              "    </tr>\n",
              "  </thead>\n",
              "  <tbody>\n",
              "    <tr>\n",
              "      <th>147</th>\n",
              "      <td>6.5</td>\n",
              "      <td>3.0</td>\n",
              "    </tr>\n",
              "    <tr>\n",
              "      <th>56</th>\n",
              "      <td>6.3</td>\n",
              "      <td>3.3</td>\n",
              "    </tr>\n",
              "    <tr>\n",
              "      <th>50</th>\n",
              "      <td>7.0</td>\n",
              "      <td>3.2</td>\n",
              "    </tr>\n",
              "    <tr>\n",
              "      <th>101</th>\n",
              "      <td>5.8</td>\n",
              "      <td>2.7</td>\n",
              "    </tr>\n",
              "    <tr>\n",
              "      <th>63</th>\n",
              "      <td>6.1</td>\n",
              "      <td>2.9</td>\n",
              "    </tr>\n",
              "  </tbody>\n",
              "</table>\n",
              "</div>"
            ],
            "text/plain": [
              "     sepal_length  sepal_width\n",
              "147           6.5          3.0\n",
              "56            6.3          3.3\n",
              "50            7.0          3.2\n",
              "101           5.8          2.7\n",
              "63            6.1          2.9"
            ]
          },
          "metadata": {
            "tags": []
          },
          "execution_count": 34
        }
      ]
    },
    {
      "cell_type": "code",
      "metadata": {
        "colab": {
          "base_uri": "https://localhost:8080/",
          "height": 204
        },
        "id": "Lcme24ZCe1Hy",
        "outputId": "358f458b-92b5-46a7-bead-83b4d7a11900"
      },
      "source": [
        "data_latih_t3.head()"
      ],
      "execution_count": 35,
      "outputs": [
        {
          "output_type": "execute_result",
          "data": {
            "text/html": [
              "<div>\n",
              "<style scoped>\n",
              "    .dataframe tbody tr th:only-of-type {\n",
              "        vertical-align: middle;\n",
              "    }\n",
              "\n",
              "    .dataframe tbody tr th {\n",
              "        vertical-align: top;\n",
              "    }\n",
              "\n",
              "    .dataframe thead th {\n",
              "        text-align: right;\n",
              "    }\n",
              "</style>\n",
              "<table border=\"1\" class=\"dataframe\">\n",
              "  <thead>\n",
              "    <tr style=\"text-align: right;\">\n",
              "      <th></th>\n",
              "      <th>sepal_length</th>\n",
              "      <th>sepal_width</th>\n",
              "    </tr>\n",
              "  </thead>\n",
              "  <tbody>\n",
              "    <tr>\n",
              "      <th>95</th>\n",
              "      <td>5.7</td>\n",
              "      <td>3.0</td>\n",
              "    </tr>\n",
              "    <tr>\n",
              "      <th>59</th>\n",
              "      <td>5.2</td>\n",
              "      <td>2.7</td>\n",
              "    </tr>\n",
              "    <tr>\n",
              "      <th>130</th>\n",
              "      <td>7.4</td>\n",
              "      <td>2.8</td>\n",
              "    </tr>\n",
              "    <tr>\n",
              "      <th>58</th>\n",
              "      <td>6.6</td>\n",
              "      <td>2.9</td>\n",
              "    </tr>\n",
              "    <tr>\n",
              "      <th>78</th>\n",
              "      <td>6.0</td>\n",
              "      <td>2.9</td>\n",
              "    </tr>\n",
              "  </tbody>\n",
              "</table>\n",
              "</div>"
            ],
            "text/plain": [
              "     sepal_length  sepal_width\n",
              "95            5.7          3.0\n",
              "59            5.2          2.7\n",
              "130           7.4          2.8\n",
              "58            6.6          2.9\n",
              "78            6.0          2.9"
            ]
          },
          "metadata": {
            "tags": []
          },
          "execution_count": 35
        }
      ]
    },
    {
      "cell_type": "code",
      "metadata": {
        "colab": {
          "base_uri": "https://localhost:8080/"
        },
        "id": "sVd8a49gdcWx",
        "outputId": "0e346aa8-5ea6-4be5-e0a0-f1ed3a06d3f3"
      },
      "source": [
        "#menghitung nilai bobot dengan fungsi sgd\n",
        "W_t3 = sgd(data_latih_t3,label_latih_tugas)\n",
        "#mencetak nilai W\n",
        "print(W_t3)"
      ],
      "execution_count": 36,
      "outputs": [
        {
          "output_type": "stream",
          "text": [
            "[ 0.21675386 -0.81165132]\n"
          ],
          "name": "stdout"
        }
      ]
    },
    {
      "cell_type": "code",
      "metadata": {
        "colab": {
          "base_uri": "https://localhost:8080/"
        },
        "id": "fIMlMVVCdstJ",
        "outputId": "9cd06243-b3e3-4fc3-ca7f-e034b853dfc5"
      },
      "source": [
        "#melakukan prediksi dengan memanggil fungsi testing\n",
        "y_prediksi_t3= testing(W_t3,data_uji_t3)\n",
        "#menampilkan jumlah prediksi yang sama dengan label sebenarnya\n",
        "print(sum(y_prediksi_t3 ==label_uji_tugas))"
      ],
      "execution_count": 37,
      "outputs": [
        {
          "output_type": "stream",
          "text": [
            "10\n"
          ],
          "name": "stdout"
        }
      ]
    },
    {
      "cell_type": "code",
      "metadata": {
        "colab": {
          "base_uri": "https://localhost:8080/"
        },
        "id": "2hSFnpgWd2wx",
        "outputId": "c0dd0769-fb60-43f7-e765-b2f20d5cc305"
      },
      "source": [
        "#menampilkan jumlah prediksi yang sama dengan label sebenarnya\n",
        "prediksiBenar = sum(y_prediksi_t3 ==label_uji_tugas)\n",
        "#menampilkan jumlah data sebenarnya\n",
        "jumlahSebenarnya = label_uji_tugas.shape[0]\n",
        "#menampilkan nilai prediksi yang benar\n",
        "print(\"Prediksi benar =\", prediksiBenar)\n",
        "# menampilkan jumlah data sebenarnya\n",
        "print(\"Jumlah label sebenarnya =\", jumlahSebenarnya)\n",
        "# menghitung akurasi dengan membandingkan nilai benar dengan jumlah \n",
        "print(\"Akurasi = \", (prediksiBenar/jumlahSebenarnya))"
      ],
      "execution_count": 38,
      "outputs": [
        {
          "output_type": "stream",
          "text": [
            "Prediksi benar = 10\n",
            "Jumlah label sebenarnya = 20\n",
            "Akurasi =  0.5\n"
          ],
          "name": "stdout"
        }
      ]
    },
    {
      "cell_type": "code",
      "metadata": {
        "colab": {
          "base_uri": "https://localhost:8080/"
        },
        "id": "-nUuBn2CeFyl",
        "outputId": "c504b7f6-0a33-4628-ad74-2f6afe2a7327"
      },
      "source": [
        "# training max_epoch = 5000\n",
        "W_t3_maxepoch = sgd(data_latih_t3,label_latih_tugas, max_epoch=5000)\n",
        "#mencetak nilai W\n",
        "print(W_t3_maxepoch)"
      ],
      "execution_count": 39,
      "outputs": [
        {
          "output_type": "stream",
          "text": [
            "[ 0.22057804 -0.81449865]\n"
          ],
          "name": "stdout"
        }
      ]
    },
    {
      "cell_type": "code",
      "metadata": {
        "colab": {
          "base_uri": "https://localhost:8080/"
        },
        "id": "tq_rkMbNeRzU",
        "outputId": "73ce998b-8fbf-4a16-db43-740de5c092b1"
      },
      "source": [
        "#melakukan prediksi dengan memanggil fungsi testing\n",
        "y_prediksi_t3_epoch= testing(W_t3_maxepoch,data_uji_t3)\n",
        "#menampilkan jumlah prediksi yang sama dengan label sebenarnya\n",
        "print(sum(y_prediksi_t3 ==label_uji_tugas))"
      ],
      "execution_count": 40,
      "outputs": [
        {
          "output_type": "stream",
          "text": [
            "10\n"
          ],
          "name": "stdout"
        }
      ]
    },
    {
      "cell_type": "code",
      "metadata": {
        "colab": {
          "base_uri": "https://localhost:8080/"
        },
        "id": "mvShMEXIees9",
        "outputId": "9175a8d4-3977-4e4f-fd9b-dde1d7611822"
      },
      "source": [
        "#menampilkan jumlah prediksi yang sama dengan label sebenarnya\n",
        "prediksiBenar = sum(y_prediksi_t3_epoch==label_uji_tugas)\n",
        "#menampilkan jumlah data sebenarnya\n",
        "jumlahSebenarnya = label_uji_tugas.shape[0]\n",
        "#menampilkan nilai prediksi yang benar\n",
        "print(\"Prediksi benar =\", prediksiBenar)\n",
        "# menampilkan jumlah data sebenarnya\n",
        "print(\"Jumlah label sebenarnya =\", jumlahSebenarnya)\n",
        "# menghitung akurasi dengan membandingkan nilai benar dengan jumlah \n",
        "print(\"Akurasi = \", (prediksiBenar/jumlahSebenarnya))"
      ],
      "execution_count": 41,
      "outputs": [
        {
          "output_type": "stream",
          "text": [
            "Prediksi benar = 10\n",
            "Jumlah label sebenarnya = 20\n",
            "Akurasi =  0.5\n"
          ],
          "name": "stdout"
        }
      ]
    },
    {
      "cell_type": "markdown",
      "metadata": {
        "id": "vU40KzqIuhqu"
      },
      "source": [
        ">Hasil prediksi pada data yang dilakukan seleksi fitur tidak lebih baik dari data yang menggunakan 4 fitur (tanpa seleksi fitur) dengan akurasi hanya 0.65 (13 data yang benar) saja dari 20 data uji. Hal ini dikarenakan fitur petal (length dan width) memiliki peran yang penting dalam menentukan label dari data, maka jika hanya menggunakan fitur sepal (length dan width) saja hasil prediksi yang dihasilkan kurang maksimal."
      ]
    }
  ]
}