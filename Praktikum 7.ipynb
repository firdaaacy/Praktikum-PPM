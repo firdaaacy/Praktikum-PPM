{
  "nbformat": 4,
  "nbformat_minor": 0,
  "metadata": {
    "colab": {
      "name": "Praktikum 7 - Firda Adlha Cahyanti - 195150201111037",
      "provenance": [],
      "collapsed_sections": [],
      "include_colab_link": true
    },
    "kernelspec": {
      "name": "python3",
      "display_name": "Python 3"
    }
  },
  "cells": [
    {
      "cell_type": "markdown",
      "metadata": {
        "id": "view-in-github",
        "colab_type": "text"
      },
      "source": [
        "<a href=\"https://colab.research.google.com/github/firdaaacy/Praktikum-PPM/blob/main/Praktikum%207.ipynb\" target=\"_parent\"><img src=\"https://colab.research.google.com/assets/colab-badge.svg\" alt=\"Open In Colab\"/></a>"
      ]
    },
    {
      "cell_type": "markdown",
      "metadata": {
        "id": "-qDsm6BnME2X"
      },
      "source": [
        "# Praktikum Pengantar Pembelajaran Mesin\n",
        "\n",
        "\n",
        "---\n",
        "## Bab 7. Support Vector Machine (SVM) Lanjutan\n"
      ]
    },
    {
      "cell_type": "markdown",
      "metadata": {
        "id": "sQAGcnK3MOS7"
      },
      "source": [
        "### 1) Import Data\n",
        "\n",
        "Unduh dataset yang akan digunakan pada praktikum kali ini. Anda dapat menggunakan aplikasi wget untuk mendowload dataset dan menyimpannya dalam Google Colab. Jalankan cell di bawah ini untuk mengunduh dataset"
      ]
    },
    {
      "cell_type": "code",
      "metadata": {
        "id": "FpjqVlzBMNLd",
        "colab": {
          "base_uri": "https://localhost:8080/"
        },
        "outputId": "89a8d46a-8b9b-4225-a8a5-6f3afe29964b"
      },
      "source": [
        "#mengunduh dataset iris dari link yang sudah diberikan\n",
        "! wget https://dataset-ppm.s3.amazonaws.com/iris.csv"
      ],
      "execution_count": 96,
      "outputs": [
        {
          "output_type": "stream",
          "text": [
            "--2021-07-10 12:35:17--  https://dataset-ppm.s3.amazonaws.com/iris.csv\n",
            "Resolving dataset-ppm.s3.amazonaws.com (dataset-ppm.s3.amazonaws.com)... 52.216.138.243\n",
            "Connecting to dataset-ppm.s3.amazonaws.com (dataset-ppm.s3.amazonaws.com)|52.216.138.243|:443... connected.\n",
            "HTTP request sent, awaiting response... 200 OK\n",
            "Length: 4609 (4.5K) [text/csv]\n",
            "Saving to: ‘iris.csv.5’\n",
            "\n",
            "\riris.csv.5            0%[                    ]       0  --.-KB/s               \riris.csv.5          100%[===================>]   4.50K  --.-KB/s    in 0s      \n",
            "\n",
            "2021-07-10 12:35:17 (209 MB/s) - ‘iris.csv.5’ saved [4609/4609]\n",
            "\n"
          ],
          "name": "stdout"
        }
      ]
    },
    {
      "cell_type": "markdown",
      "metadata": {
        "id": "SJy4t3lIOgGp"
      },
      "source": [
        "Setelah dataset berhasil diunduh, langkah berikutnya adalah membaca dataset dengan memanfaatkan fungsi **readcsv** dari library pandas. Lakukan pembacaan berkas csv ke dalam dataframe dengan nama **data** menggunakan fungsi **readcsv**. Jangan lupa untuk melakukan import library pandas terlebih dahulu\n"
      ]
    },
    {
      "cell_type": "code",
      "metadata": {
        "id": "mdhbxk_2OzbB"
      },
      "source": [
        "#mengimpor library pandas untuk data analitis\n",
        "import pandas as pd\n",
        "#mengimpor library numpy untuk array\n",
        "import numpy as np\n",
        "#membaca data iris dengan library pandas dengan method read csv\n",
        "data = pd.read_csv('iris.csv')"
      ],
      "execution_count": 97,
      "outputs": []
    },
    {
      "cell_type": "markdown",
      "metadata": {
        "id": "w6NfrIDTOK38"
      },
      "source": [
        "\n",
        "\n",
        "Cek isi dataset Anda dengan menggunakan perintah **head()**"
      ]
    },
    {
      "cell_type": "code",
      "metadata": {
        "id": "Uaiaj796OFH3",
        "colab": {
          "base_uri": "https://localhost:8080/",
          "height": 204
        },
        "outputId": "409a571c-78f9-4a0b-d691-6e2214dd9d53"
      },
      "source": [
        "#melihat 5 data teratas dengan method .head()\n",
        "data.head()"
      ],
      "execution_count": 98,
      "outputs": [
        {
          "output_type": "execute_result",
          "data": {
            "text/html": [
              "<div>\n",
              "<style scoped>\n",
              "    .dataframe tbody tr th:only-of-type {\n",
              "        vertical-align: middle;\n",
              "    }\n",
              "\n",
              "    .dataframe tbody tr th {\n",
              "        vertical-align: top;\n",
              "    }\n",
              "\n",
              "    .dataframe thead th {\n",
              "        text-align: right;\n",
              "    }\n",
              "</style>\n",
              "<table border=\"1\" class=\"dataframe\">\n",
              "  <thead>\n",
              "    <tr style=\"text-align: right;\">\n",
              "      <th></th>\n",
              "      <th>sepal_length</th>\n",
              "      <th>sepal_width</th>\n",
              "      <th>petal_length</th>\n",
              "      <th>petal_width</th>\n",
              "      <th>species</th>\n",
              "    </tr>\n",
              "  </thead>\n",
              "  <tbody>\n",
              "    <tr>\n",
              "      <th>0</th>\n",
              "      <td>5.1</td>\n",
              "      <td>3.5</td>\n",
              "      <td>1.4</td>\n",
              "      <td>0.2</td>\n",
              "      <td>Iris-setosa</td>\n",
              "    </tr>\n",
              "    <tr>\n",
              "      <th>1</th>\n",
              "      <td>4.9</td>\n",
              "      <td>3.0</td>\n",
              "      <td>1.4</td>\n",
              "      <td>0.2</td>\n",
              "      <td>Iris-setosa</td>\n",
              "    </tr>\n",
              "    <tr>\n",
              "      <th>2</th>\n",
              "      <td>4.7</td>\n",
              "      <td>3.2</td>\n",
              "      <td>1.3</td>\n",
              "      <td>0.2</td>\n",
              "      <td>Iris-setosa</td>\n",
              "    </tr>\n",
              "    <tr>\n",
              "      <th>3</th>\n",
              "      <td>4.6</td>\n",
              "      <td>3.1</td>\n",
              "      <td>1.5</td>\n",
              "      <td>0.2</td>\n",
              "      <td>Iris-setosa</td>\n",
              "    </tr>\n",
              "    <tr>\n",
              "      <th>4</th>\n",
              "      <td>5.0</td>\n",
              "      <td>3.6</td>\n",
              "      <td>1.4</td>\n",
              "      <td>0.2</td>\n",
              "      <td>Iris-setosa</td>\n",
              "    </tr>\n",
              "  </tbody>\n",
              "</table>\n",
              "</div>"
            ],
            "text/plain": [
              "   sepal_length  sepal_width  petal_length  petal_width      species\n",
              "0           5.1          3.5           1.4          0.2  Iris-setosa\n",
              "1           4.9          3.0           1.4          0.2  Iris-setosa\n",
              "2           4.7          3.2           1.3          0.2  Iris-setosa\n",
              "3           4.6          3.1           1.5          0.2  Iris-setosa\n",
              "4           5.0          3.6           1.4          0.2  Iris-setosa"
            ]
          },
          "metadata": {
            "tags": []
          },
          "execution_count": 98
        }
      ]
    },
    {
      "cell_type": "markdown",
      "metadata": {
        "id": "lfi1uHIxPdDe"
      },
      "source": [
        "## 2) Membagi data menjadi data latih dan data uji\n",
        "\n",
        "Metode pembelajaran mesin memerlukan dua jenis data :\n",
        "\n",
        "\n",
        "1.   Data latih : Digunakan untuk proses training metode klasifikasi\n",
        "2.   Data uji : Digunakan untuk proses evaluasi metode klasifikasi\n",
        "\n",
        "Data uji dan data latih perlu dibuat terpisah (mutualy exclusive) agar hasil evaluasi lebih akurat.\n",
        "\n",
        "Data uji dan data latih dapat dibuat dengan cara membagi dataset dengan rasio tertentu, misalnya 80% data latih dan 20% data uji.\n",
        "\n",
        "Library Scikit-learn memiliki fungsi [train_test_split](https://scikit-learn.org/stable/modules/generated/sklearn.model_selection.train_test_split.html) pada modul **model_selection** untuk membagi dataset menjadi data latih dan data uji. Bagilah dataset anda menjadi dua, yaitu **data_latih** dan **data_uji**.\n"
      ]
    },
    {
      "cell_type": "code",
      "metadata": {
        "id": "jJjfXgfmPTlU"
      },
      "source": [
        "#melakukan import sebagian library yang akan digunakan\n",
        "#pada kasus  ini hanya mengimport train_test_split dari modul sklearn.model_selection\n",
        "from sklearn.model_selection import train_test_split\n",
        "#melakukan pembagian dataset dengan pembagian 20% data uji dan 80% data latih\n",
        "data_latih, data_uji = train_test_split(data, test_size = 0.2, random_state = 10)"
      ],
      "execution_count": 99,
      "outputs": []
    },
    {
      "cell_type": "markdown",
      "metadata": {
        "id": "tBhcsUDYfw2q"
      },
      "source": [
        "Tampilkan banyaknya data pada **data_latih** dan **data_uji**. Seharusnya **data_latih** terdiri dari 120 data, dan **data_uji** terdiri dari 30 data"
      ]
    },
    {
      "cell_type": "code",
      "metadata": {
        "id": "6OtySD4efmmQ",
        "colab": {
          "base_uri": "https://localhost:8080/"
        },
        "outputId": "7fde890a-aa67-453a-ea66-707e90127e75"
      },
      "source": [
        "#menampilkan jumlah baris data uji yang sudah dibagi 20% dari dataset\n",
        "print(data_uji.shape[0])\n",
        "#menampilkan jumlah baris data latih yang sudah dibagi 80% dari dataset\n",
        "print(data_latih.shape[0])"
      ],
      "execution_count": 100,
      "outputs": [
        {
          "output_type": "stream",
          "text": [
            "30\n",
            "120\n"
          ],
          "name": "stdout"
        }
      ]
    },
    {
      "cell_type": "markdown",
      "metadata": {
        "id": "wgTwVS4ofSj4"
      },
      "source": [
        "Pisahkan label/kelas dari data uji menjadi sebuah variabel bernama **label_uji**"
      ]
    },
    {
      "cell_type": "code",
      "metadata": {
        "id": "9h3Xynf-fcf5"
      },
      "source": [
        "#melakukan pemisahan antara fitur dan label dengan melakukan pop pada kolom spesies pada label uji\n",
        "label_uji = data_uji.pop('species')"
      ],
      "execution_count": 101,
      "outputs": []
    },
    {
      "cell_type": "markdown",
      "metadata": {
        "id": "ub4I9YOp-pWS"
      },
      "source": [
        "## 3) Pembentukan data latih one-vs-rest\n",
        "\n",
        "Metode one-vs-rest memerlukan tiga jenis data latih yang diperlukan untuk melatih tiga SVM yang berbeda pada dataset Iris. Fungsi **buat_trainingset** digunakan untuk membentuk tiga dataset tersebut."
      ]
    },
    {
      "cell_type": "code",
      "metadata": {
        "id": "14SDqJcZAXZc"
      },
      "source": [
        "# membuat fungsi untuk memisahkan dataset berdasarkan kelas\n",
        "def buat_trainingset (dataset):\n",
        "  #membuat dictionary kosong\n",
        "  trainingset = {}\n",
        "  # mengambil kelas dalam dataset\n",
        "  kolom_kelas = dataset.columns[-1]\n",
        "  # mengambil kelas yang unik saja (menghilangkan duplikat)\n",
        "  list_kelas = dataset[kolom_kelas].unique()\n",
        "  # print(kolom_kelas)\n",
        "  # print(list_kelas)\n",
        "  #perulangan untuk setiap kelas\n",
        "  for kelas in list_kelas:\n",
        "    # melakukan penggandaan dataset \n",
        "    data_temp = dataset.copy(deep=True)\n",
        "    # mengganti kelas dengan 1 ketika nilai species sama dengan kelas\n",
        "    data_temp[kolom_kelas]=data_temp[kolom_kelas].map({kelas:1})\n",
        "    # mengganti semua species yang tidak sama dengan kelas dengan -1\n",
        "    data_temp[kolom_kelas]=data_temp[kolom_kelas].fillna(-1)\n",
        "    # menyipan pada dictionary sesuai dengan nama kelas\n",
        "    trainingset[kelas]=data_temp\n",
        "  # mengembalikan trainingset yang sudah terpisah\n",
        "  return trainingset"
      ],
      "execution_count": 102,
      "outputs": []
    },
    {
      "cell_type": "markdown",
      "metadata": {
        "id": "OJOAgFQXJXa7"
      },
      "source": [
        "Gunakan fungsi **buat_trainingset** untuk membentuk data latih dengan nama variabel **trainingset** yang akan digunakan pada proses training. "
      ]
    },
    {
      "cell_type": "code",
      "metadata": {
        "id": "JKYH8PKq-sR1"
      },
      "source": [
        "# memisahkan species menggunakan method yang sudah dibuat\n",
        "trainingset = buat_trainingset(data_latih)"
      ],
      "execution_count": 103,
      "outputs": []
    },
    {
      "cell_type": "markdown",
      "metadata": {
        "id": "ibORqyA-KOPh"
      },
      "source": [
        "Tampilkan isi **trainingset** agar Anda dapat memahami struktur dari variabel tersebut."
      ]
    },
    {
      "cell_type": "code",
      "metadata": {
        "id": "-g21oKqbKR4X",
        "colab": {
          "base_uri": "https://localhost:8080/"
        },
        "outputId": "186da6a8-3c37-498a-f929-e67b49a56b91"
      },
      "source": [
        "# menampilkan dataset yang sudah dipisahkan pada variable trainingset\n",
        "trainingset"
      ],
      "execution_count": 104,
      "outputs": [
        {
          "output_type": "execute_result",
          "data": {
            "text/plain": [
              "{'Iris-setosa':      sepal_length  sepal_width  petal_length  petal_width  species\n",
              " 58            6.6          2.9           4.6          1.3     -1.0\n",
              " 97            6.2          2.9           4.3          1.3     -1.0\n",
              " 129           7.2          3.0           5.8          1.6     -1.0\n",
              " 114           5.8          2.8           5.1          2.4     -1.0\n",
              " 146           6.3          2.5           5.0          1.9     -1.0\n",
              " ..            ...          ...           ...          ...      ...\n",
              " 113           5.7          2.5           5.0          2.0     -1.0\n",
              " 64            5.6          2.9           3.6          1.3     -1.0\n",
              " 15            5.7          4.4           1.5          0.4      1.0\n",
              " 125           7.2          3.2           6.0          1.8     -1.0\n",
              " 9             4.9          3.1           1.5          0.1      1.0\n",
              " \n",
              " [120 rows x 5 columns],\n",
              " 'Iris-versicolor':      sepal_length  sepal_width  petal_length  petal_width  species\n",
              " 58            6.6          2.9           4.6          1.3      1.0\n",
              " 97            6.2          2.9           4.3          1.3      1.0\n",
              " 129           7.2          3.0           5.8          1.6     -1.0\n",
              " 114           5.8          2.8           5.1          2.4     -1.0\n",
              " 146           6.3          2.5           5.0          1.9     -1.0\n",
              " ..            ...          ...           ...          ...      ...\n",
              " 113           5.7          2.5           5.0          2.0     -1.0\n",
              " 64            5.6          2.9           3.6          1.3      1.0\n",
              " 15            5.7          4.4           1.5          0.4     -1.0\n",
              " 125           7.2          3.2           6.0          1.8     -1.0\n",
              " 9             4.9          3.1           1.5          0.1     -1.0\n",
              " \n",
              " [120 rows x 5 columns],\n",
              " 'Iris-virginica':      sepal_length  sepal_width  petal_length  petal_width  species\n",
              " 58            6.6          2.9           4.6          1.3     -1.0\n",
              " 97            6.2          2.9           4.3          1.3     -1.0\n",
              " 129           7.2          3.0           5.8          1.6      1.0\n",
              " 114           5.8          2.8           5.1          2.4      1.0\n",
              " 146           6.3          2.5           5.0          1.9      1.0\n",
              " ..            ...          ...           ...          ...      ...\n",
              " 113           5.7          2.5           5.0          2.0      1.0\n",
              " 64            5.6          2.9           3.6          1.3     -1.0\n",
              " 15            5.7          4.4           1.5          0.4     -1.0\n",
              " 125           7.2          3.2           6.0          1.8      1.0\n",
              " 9             4.9          3.1           1.5          0.1     -1.0\n",
              " \n",
              " [120 rows x 5 columns]}"
            ]
          },
          "metadata": {
            "tags": []
          },
          "execution_count": 104
        }
      ]
    },
    {
      "cell_type": "markdown",
      "metadata": {
        "id": "Ikiam_bv8sM1"
      },
      "source": [
        "## 4) Pembentukan SVM Biner"
      ]
    },
    {
      "cell_type": "markdown",
      "metadata": {
        "id": "t6-boIzy9UJ2"
      },
      "source": [
        "Tujuan dari algoritma SVM adalah meminimalkan nilai *cost function*. Penghitungan nilai minimal dapat dapat dilakukan dengan menghitung nilai gradien dari *cost function* terlebih dahulu. Fungsi di bawah ini berguna untuk menghitung nilai gradien cost function"
      ]
    },
    {
      "cell_type": "code",
      "metadata": {
        "id": "Kq63208e_7b0"
      },
      "source": [
        "# menghitung cost gradien menggunakan fungsi \n",
        "def hitung_cost_gradient(W,X,Y,regularization):\n",
        "  #menghitung jarak dengan mengurangkan 1 dengan y * dot product x dan w\n",
        "  jarak = 1 - (Y* np.dot(X,W))\n",
        "  #menbuat array 0 seukuran dengan panjang w\n",
        "  dw = np.zeros(len(W))\n",
        "  #kondisi dimana jarak < -1\n",
        "  if max(0,jarak)==0:\n",
        "    #nilai di maka nilai W\n",
        "    di= W\n",
        "  #jika tidak memenuhi kondisi maka kondisi else akan dieksekusi\n",
        "  else:\n",
        "    #nilai di akan diset dari W - (regularization*Y*X)\n",
        "    di = W - (regularization * Y*X)\n",
        "  #nilai di akan disimpan dalam persamaan\n",
        "  dw += di\n",
        "  #mengembalikan nilai persamaan\n",
        "  return dw"
      ],
      "execution_count": 105,
      "outputs": []
    },
    {
      "cell_type": "markdown",
      "metadata": {
        "id": "sYGiwWxO9z1j"
      },
      "source": [
        "Terdapat beberapa cara untuk meminimalkan nilai *cost function*, salah satunya menggunakan Stochastic Gradient Descent (SGD) untuk melakukan minimasi. Minimasi *cost function* merupakan inti dari algoritma SVM. Fungsi di bawah ini merupakan implementasi algoritma SGD "
      ]
    },
    {
      "cell_type": "code",
      "metadata": {
        "id": "ERaoSW0kBCVA"
      },
      "source": [
        "# mengimport kelas shuffle dari library sklearn utils\n",
        "from sklearn.utils import shuffle\n",
        "#membuat fungsi SGD untuk menghitung bobot\n",
        "def sgd(data_latih,label_latih,learning_rate = 0.000001,max_epoch=1000,regularization=10000):\n",
        "  #mengubah data latih yang berbentuk dataframe menjadi array mengunakan numpy\n",
        "  data_latih = data_latih.to_numpy()\n",
        "  #mengubah label latih yang berbentuk dataframe menjadi array mengunakan numpy\n",
        "  label_latih = label_latih.to_numpy()\n",
        "  #membuat variabel bobot yang berisi aray kosong yang ukurannya sama dengan banyak kolom\n",
        "  bobot = np.zeros(data_latih.shape[1])\n",
        "  #membuat perulangan untuk menghitung bobot\n",
        "  for epoch in range(1,max_epoch):\n",
        "    #melakukan shuffling nilai X dan Y agar tidak terjadi pola perhitungan bobot yang sama\n",
        "    X,Y =shuffle(data_latih,label_latih,random_state=101)\n",
        "    for index,x in enumerate(X):\n",
        "      #menghitung delta dengan fungsi hitung cost gradient\n",
        "      delta=hitung_cost_gradient(bobot,x,Y[index],regularization)\n",
        "      #menentukan nilai bobot dengan mengurangi bobot dengan learning rate * delta\n",
        "      bobot = bobot - (learning_rate * delta)\n",
        "  #mengembalikan nilai bobot\n",
        "  return bobot"
      ],
      "execution_count": 106,
      "outputs": []
    },
    {
      "cell_type": "markdown",
      "metadata": {
        "id": "e0mWl4NsNsLr"
      },
      "source": [
        "## 5) Proses Training"
      ]
    },
    {
      "cell_type": "markdown",
      "metadata": {
        "id": "FaTWcv7dAu7t"
      },
      "source": [
        "Proses training dilakukan dengan memanggil fungsi **sgd** berulang kali sesuai banyaknya kelas yang ada pada data. Dengan demikian, proses training menghasilkan bobot sebanyak kelas yang ada pada dataset. Buatlah fungsi bernama **training** yang digunakan untuk melakukan proses training one-vs-rest"
      ]
    },
    {
      "cell_type": "code",
      "metadata": {
        "id": "smXjlFIRFRxz"
      },
      "source": [
        "# membuat fungsi training untuk membuat model\n",
        "def training(trainingset):\n",
        "  # mengambil key pada trainingset\n",
        "  list_kelas = trainingset.keys()\n",
        "  # membuat dictionary kosong\n",
        "  w = {}\n",
        "  # melakukan perulangan untuk setiap kelas\n",
        "  for kelas in list_kelas:\n",
        "    # mengambil data latih sesuai dengan kelas\n",
        "    data_latih = trainingset[kelas]\n",
        "    # mengambil label untuk datalatih dengan fungsi pop\n",
        "    label_latih = data_latih.pop(data_latih.columns[-1])\n",
        "    # menyimpang masing masing persamaan sgd pada dictionary w\n",
        "    w[kelas] = sgd(data_latih,label_latih)\n",
        "  # mengembalikan nilai weight\n",
        "  return w"
      ],
      "execution_count": 107,
      "outputs": []
    },
    {
      "cell_type": "markdown",
      "metadata": {
        "id": "pLiw-ZCVPy6J"
      },
      "source": [
        "Lakukan proses training dengan memanggil fungsi **training** dan menempatkan hasilnya pada variabel **W**"
      ]
    },
    {
      "cell_type": "code",
      "metadata": {
        "id": "cxO4ztvWGFlb"
      },
      "source": [
        "#menghitung nilai bobot dengan fungsi training\n",
        "W = training(trainingset)"
      ],
      "execution_count": 108,
      "outputs": []
    },
    {
      "cell_type": "markdown",
      "metadata": {
        "id": "Utg8hqFdQJDe"
      },
      "source": [
        "Tampilkan isi variabel **W**"
      ]
    },
    {
      "cell_type": "code",
      "metadata": {
        "id": "okhxKfw9C31G",
        "colab": {
          "base_uri": "https://localhost:8080/"
        },
        "outputId": "0987ec6a-3ad9-45a6-c5dd-8b842ba46d8b"
      },
      "source": [
        "#mencetak nilai W\n",
        "print(W)"
      ],
      "execution_count": 109,
      "outputs": [
        {
          "output_type": "stream",
          "text": [
            "{'Iris-versicolor': array([ 0.96299733, -1.91811826,  0.4773442 , -2.02018242]), 'Iris-virginica': array([-3.77860219, -4.07274402,  5.21307293,  5.91165497]), 'Iris-setosa': array([ 0.22554941,  0.70766782, -1.1203483 , -0.54084396])}\n"
          ],
          "name": "stdout"
        }
      ]
    },
    {
      "cell_type": "markdown",
      "metadata": {
        "id": "M6UR7tpm1YQ_"
      },
      "source": [
        "## 6) Proses *testing* biner\n",
        "Proses testing dilakukan dengan menghitung nilai [*dot product*](https://en.wikipedia.org/wiki/Dot_product) antara bobot hasil training dengan data uji. Kelas data ditentukan berdasarkan tanda (positif atau negatif) dari hasil dot product tersebut. Fungsi berikut mengimplementasikan proses testing"
      ]
    },
    {
      "cell_type": "code",
      "metadata": {
        "id": "XZzsOOmWRwN3"
      },
      "source": [
        "#membuat fungsi testing \n",
        "def testing(W,data_uji):\n",
        "  #membuat array kosong yang akan digunakan menyimpan nilai prediksi\n",
        "  prediksi = np.array([])\n",
        "  #melakukan perulangan untuk menguji tiap baris data uji\n",
        "  for i in range(data_uji.shape[0]):\n",
        "    #melakukan perhitungan dot product antara data uji dengan matriks W\n",
        "    y_prediksi = np.sign(np.dot(W,data_uji.to_numpy()[i]))\n",
        "    #menambahkan nilai prediksi ke array prediksi\n",
        "    prediksi = np.append(prediksi,y_prediksi)\n",
        "  # mengembalikan nilai prediksi secara keseluruhan\n",
        "  return prediksi"
      ],
      "execution_count": 110,
      "outputs": []
    },
    {
      "cell_type": "markdown",
      "metadata": {
        "id": "ZiDmUxVBuo42"
      },
      "source": [
        "## TUGAS\n",
        "Pada tugas kali ini Anda mendefinisikan proses testing pada metode one-vs-rest. Proses testing pada metode one-vs-rest dilakukan dengan memanggil proses testing biner untuk setiap **value** pada dictionary **W**. Kelas pada sebuah data latih adalah **key** pada dictionary **W** yang memiliki nilai prediksi **1**. Lengkapi fungsi **testing_onevsrest** di bawah ini. Output dari fungsi tersebut adalah list nama kelas hasil prediksi."
      ]
    },
    {
      "cell_type": "code",
      "metadata": {
        "colab": {
          "base_uri": "https://localhost:8080/"
        },
        "id": "RqGMsVklSSF1",
        "outputId": "25ed52c1-9002-4b20-c2e2-4f43b169cc98"
      },
      "source": [
        "list_kelas = W.keys()\n",
        "list_kelas"
      ],
      "execution_count": 111,
      "outputs": [
        {
          "output_type": "execute_result",
          "data": {
            "text/plain": [
              "dict_keys(['Iris-versicolor', 'Iris-virginica', 'Iris-setosa'])"
            ]
          },
          "metadata": {
            "tags": []
          },
          "execution_count": 111
        }
      ]
    },
    {
      "cell_type": "code",
      "metadata": {
        "id": "yVQ5YesFGLH5"
      },
      "source": [
        "def testing_onevsrest(W,data_uji):\n",
        "  # membuat variabel dengan isi jenis kelas pada keys W\n",
        "  list_kelas = W.keys()\n",
        "  # membuat dataframe yang memiliki kolom iris-virginica, iris-setosa, dan iris-versicolor\n",
        "  hasil = pd.DataFrame(columns = list_kelas)\n",
        "  # perulangan untuk setiap kelas\n",
        "  for kelas in list_kelas:\n",
        "    # menambahkan nilai prediksi sesuai dengan kolom kelas\n",
        "    hasil[kelas] = testing(W[kelas],data_uji)\n",
        "  # menentukan kelas_prediksi sesuai dengan nilai maksimum pada setiap baris\n",
        "  temp_kelas_prediksi = hasil.idxmax(axis = 1)\n",
        "  # mengubah type data dataframe ke numpy\n",
        "  kelas_prediksi = temp_kelas_prediksi.to_numpy()\n",
        "  # mengembalikan hasil prediksi\n",
        "  return kelas_prediksi"
      ],
      "execution_count": 112,
      "outputs": []
    },
    {
      "cell_type": "code",
      "metadata": {
        "id": "gG4hTpFjiGqo",
        "colab": {
          "base_uri": "https://localhost:8080/"
        },
        "outputId": "c23eef4d-e40f-4516-c674-50f6538fa26d"
      },
      "source": [
        "# melakukan prediksi dengan pemanggilan fungsi testing_onevsrest\n",
        "prediksi = testing_onevsrest(W,data_uji)\n",
        "# menampilkan hasil prediksi\n",
        "prediksi"
      ],
      "execution_count": 113,
      "outputs": [
        {
          "output_type": "execute_result",
          "data": {
            "text/plain": [
              "array(['Iris-versicolor', 'Iris-virginica', 'Iris-setosa',\n",
              "       'Iris-versicolor', 'Iris-setosa', 'Iris-versicolor',\n",
              "       'Iris-versicolor', 'Iris-versicolor', 'Iris-setosa',\n",
              "       'Iris-versicolor', 'Iris-versicolor', 'Iris-virginica',\n",
              "       'Iris-versicolor', 'Iris-setosa', 'Iris-setosa', 'Iris-virginica',\n",
              "       'Iris-versicolor', 'Iris-setosa', 'Iris-setosa', 'Iris-setosa',\n",
              "       'Iris-virginica', 'Iris-virginica', 'Iris-virginica',\n",
              "       'Iris-setosa', 'Iris-versicolor', 'Iris-setosa', 'Iris-versicolor',\n",
              "       'Iris-versicolor', 'Iris-versicolor', 'Iris-virginica'],\n",
              "      dtype=object)"
            ]
          },
          "metadata": {
            "tags": []
          },
          "execution_count": 113
        }
      ]
    },
    {
      "cell_type": "markdown",
      "metadata": {
        "id": "wBeuhb2Vmimg"
      },
      "source": [
        "Berapa banyak data latih yang berhasil diprediksi dengan benar?"
      ]
    },
    {
      "cell_type": "code",
      "metadata": {
        "colab": {
          "base_uri": "https://localhost:8080/"
        },
        "id": "jcdBTcnbcW2s",
        "outputId": "9bbdb0a2-7666-4f33-b14a-834416c21e8a"
      },
      "source": [
        "#menampilkan jumlah prediksi yang sama dengan label sebenarnya\n",
        "prediksiBenar = sum(prediksi==label_uji)\n",
        "#menampilkan jumlah data sebenarnya\n",
        "jumlahSebenarnya = label_uji.shape[0]\n",
        "#menampilkan nilai prediksi yang benar\n",
        "print(\"Prediksi benar =\", prediksiBenar)\n",
        "# menampilkan jumlah data sebenarnya\n",
        "print(\"Jumlah label sebenarnya =\", jumlahSebenarnya)\n",
        "# menghitung akurasi dengan membandingkan nilai benar dengan jumlah \n",
        "print(\"Akurasi = \", (prediksiBenar/jumlahSebenarnya))"
      ],
      "execution_count": 114,
      "outputs": [
        {
          "output_type": "stream",
          "text": [
            "Prediksi benar = 30\n",
            "Jumlah label sebenarnya = 30\n",
            "Akurasi =  1.0\n"
          ],
          "name": "stdout"
        }
      ]
    },
    {
      "cell_type": "markdown",
      "metadata": {
        "id": "_F6zm8JWc5sc"
      },
      "source": [
        "Terdapat 29 data latih yang berhasil diprediksi dengan benar dari total 30 data uji sehingga akurasi yang didapatkan adalah 0.96"
      ]
    }
  ]
}